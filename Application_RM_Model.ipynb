{
 "cells": [
  {
   "cell_type": "code",
   "execution_count": 1,
   "metadata": {
    "scrolled": true
   },
   "outputs": [
    {
     "name": "stderr",
     "output_type": "stream",
     "text": [
      "/root/anaconda3/lib/python3.6/site-packages/h5py/__init__.py:36: FutureWarning:\n",
      "\n",
      "Conversion of the second argument of issubdtype from `float` to `np.floating` is deprecated. In future, it will be treated as `np.float64 == np.dtype(float).type`.\n",
      "\n",
      "Using TensorFlow backend.\n",
      "/datascience/home/ssaha/RMModel/Python/data_summary.py:15: UserWarning:\n",
      "\n",
      "\n",
      "This call to matplotlib.use() has no effect because the backend has already\n",
      "been chosen; matplotlib.use() must be called *before* pylab, matplotlib.pyplot,\n",
      "or matplotlib.backends is imported for the first time.\n",
      "\n",
      "The backend was *originally* set to 'module://ipykernel.pylab.backend_inline' by the following code:\n",
      "  File \"/root/anaconda3/lib/python3.6/runpy.py\", line 193, in _run_module_as_main\n",
      "    \"__main__\", mod_spec)\n",
      "  File \"/root/anaconda3/lib/python3.6/runpy.py\", line 85, in _run_code\n",
      "    exec(code, run_globals)\n",
      "  File \"/root/anaconda3/lib/python3.6/site-packages/ipykernel_launcher.py\", line 16, in <module>\n",
      "    app.launch_new_instance()\n",
      "  File \"/root/anaconda3/lib/python3.6/site-packages/traitlets/config/application.py\", line 658, in launch_instance\n",
      "    app.start()\n",
      "  File \"/root/anaconda3/lib/python3.6/site-packages/ipykernel/kernelapp.py\", line 486, in start\n",
      "    self.io_loop.start()\n",
      "  File \"/root/anaconda3/lib/python3.6/site-packages/tornado/platform/asyncio.py\", line 127, in start\n",
      "    self.asyncio_loop.run_forever()\n",
      "  File \"/root/anaconda3/lib/python3.6/asyncio/base_events.py\", line 422, in run_forever\n",
      "    self._run_once()\n",
      "  File \"/root/anaconda3/lib/python3.6/asyncio/base_events.py\", line 1432, in _run_once\n",
      "    handle._run()\n",
      "  File \"/root/anaconda3/lib/python3.6/asyncio/events.py\", line 145, in _run\n",
      "    self._callback(*self._args)\n",
      "  File \"/root/anaconda3/lib/python3.6/site-packages/tornado/platform/asyncio.py\", line 117, in _handle_events\n",
      "    handler_func(fileobj, events)\n",
      "  File \"/root/anaconda3/lib/python3.6/site-packages/tornado/stack_context.py\", line 276, in null_wrapper\n",
      "    return fn(*args, **kwargs)\n",
      "  File \"/root/anaconda3/lib/python3.6/site-packages/zmq/eventloop/zmqstream.py\", line 450, in _handle_events\n",
      "    self._handle_recv()\n",
      "  File \"/root/anaconda3/lib/python3.6/site-packages/zmq/eventloop/zmqstream.py\", line 480, in _handle_recv\n",
      "    self._run_callback(callback, msg)\n",
      "  File \"/root/anaconda3/lib/python3.6/site-packages/zmq/eventloop/zmqstream.py\", line 432, in _run_callback\n",
      "    callback(*args, **kwargs)\n",
      "  File \"/root/anaconda3/lib/python3.6/site-packages/tornado/stack_context.py\", line 276, in null_wrapper\n",
      "    return fn(*args, **kwargs)\n",
      "  File \"/root/anaconda3/lib/python3.6/site-packages/ipykernel/kernelbase.py\", line 283, in dispatcher\n",
      "    return self.dispatch_shell(stream, msg)\n",
      "  File \"/root/anaconda3/lib/python3.6/site-packages/ipykernel/kernelbase.py\", line 233, in dispatch_shell\n",
      "    handler(stream, idents, msg)\n",
      "  File \"/root/anaconda3/lib/python3.6/site-packages/ipykernel/kernelbase.py\", line 399, in execute_request\n",
      "    user_expressions, allow_stdin)\n",
      "  File \"/root/anaconda3/lib/python3.6/site-packages/ipykernel/ipkernel.py\", line 208, in do_execute\n",
      "    res = shell.run_cell(code, store_history=store_history, silent=silent)\n",
      "  File \"/root/anaconda3/lib/python3.6/site-packages/ipykernel/zmqshell.py\", line 537, in run_cell\n",
      "    return super(ZMQInteractiveShell, self).run_cell(*args, **kwargs)\n",
      "  File \"/root/anaconda3/lib/python3.6/site-packages/IPython/core/interactiveshell.py\", line 2662, in run_cell\n",
      "    raw_cell, store_history, silent, shell_futures)\n",
      "  File \"/root/anaconda3/lib/python3.6/site-packages/IPython/core/interactiveshell.py\", line 2785, in _run_cell\n",
      "    interactivity=interactivity, compiler=compiler, result=result)\n",
      "  File \"/root/anaconda3/lib/python3.6/site-packages/IPython/core/interactiveshell.py\", line 2903, in run_ast_nodes\n",
      "    if self.run_code(code, result):\n",
      "  File \"/root/anaconda3/lib/python3.6/site-packages/IPython/core/interactiveshell.py\", line 2963, in run_code\n",
      "    exec(code_obj, self.user_global_ns, self.user_ns)\n",
      "  File \"<ipython-input-1-e93566c7e10b>\", line 12, in <module>\n",
      "    import matplotlib.pyplot as plt\n",
      "  File \"/root/anaconda3/lib/python3.6/site-packages/matplotlib/pyplot.py\", line 71, in <module>\n",
      "    from matplotlib.backends import pylab_setup\n",
      "  File \"/root/anaconda3/lib/python3.6/site-packages/matplotlib/backends/__init__.py\", line 16, in <module>\n",
      "    line for line in traceback.format_stack()\n",
      "\n",
      "\n",
      "\n"
     ]
    }
   ],
   "source": [
    "import sys\n",
    "sys.path.append('/datascience/home/ssaha/')\n",
    "\n",
    "import numpy as np\n",
    "\n",
    "import time\n",
    "import sys\n",
    "import warnings\n",
    "import datetime\n",
    "import gc\n",
    "import pandas as pd\n",
    "import matplotlib.pyplot as plt\n",
    "import sklearn \n",
    "import os\n",
    "import seaborn as sns\n",
    "from pathlib import Path\n",
    "import statsmodels.api as sm\n",
    "import matplotlib.pyplot as plt\n",
    "import sklearn \n",
    "import os\n",
    "\n",
    "from sklearn.model_selection import cross_val_score\n",
    "from sklearn.metrics import f1_score, accuracy_score, precision_score, log_loss, recall_score, roc_curve, roc_auc_score, confusion_matrix,classification_report \n",
    "from sklearn.metrics import  adjusted_mutual_info_score, balanced_accuracy_score\n",
    "from sklearn.metrics import fbeta_score\n",
    "\n",
    "import pickle\n",
    "\n",
    "import data_prep \n",
    "import data_summary\n",
    "import lime_ModelExplainer\n",
    "import data_split\n",
    "import reading_data\n",
    "import eda\n",
    "from lime_ModelExplainer import lime_explainer\n",
    "%matplotlib inline"
   ]
  },
  {
   "cell_type": "code",
   "execution_count": 5,
   "metadata": {},
   "outputs": [
    {
     "name": "stdout",
     "output_type": "stream",
     "text": [
      "Checking whether there is an H2O instance running at http://localhost:54321. connected.\n",
      "Warning: Your H2O cluster version is too old (9 months and 22 days)! Please download and install the latest version from http://h2o.ai/download/\n"
     ]
    },
    {
     "data": {
      "text/html": [
       "<div style=\"overflow:auto\"><table style=\"width:50%\"><tr><td>H2O cluster uptime:</td>\n",
       "<td>02 secs</td></tr>\n",
       "<tr><td>H2O cluster timezone:</td>\n",
       "<td>America/Chicago</td></tr>\n",
       "<tr><td>H2O data parsing timezone:</td>\n",
       "<td>UTC</td></tr>\n",
       "<tr><td>H2O cluster version:</td>\n",
       "<td>3.18.0.2</td></tr>\n",
       "<tr><td>H2O cluster version age:</td>\n",
       "<td>9 months and 22 days !!!</td></tr>\n",
       "<tr><td>H2O cluster name:</td>\n",
       "<td>H2O_from_python_ssaha_8vky9w</td></tr>\n",
       "<tr><td>H2O cluster total nodes:</td>\n",
       "<td>1</td></tr>\n",
       "<tr><td>H2O cluster free memory:</td>\n",
       "<td>26.62 Gb</td></tr>\n",
       "<tr><td>H2O cluster total cores:</td>\n",
       "<td>72</td></tr>\n",
       "<tr><td>H2O cluster allowed cores:</td>\n",
       "<td>72</td></tr>\n",
       "<tr><td>H2O cluster status:</td>\n",
       "<td>locked, healthy</td></tr>\n",
       "<tr><td>H2O connection url:</td>\n",
       "<td>http://localhost:54321</td></tr>\n",
       "<tr><td>H2O connection proxy:</td>\n",
       "<td>None</td></tr>\n",
       "<tr><td>H2O internal security:</td>\n",
       "<td>False</td></tr>\n",
       "<tr><td>H2O API Extensions:</td>\n",
       "<td>XGBoost, Algos, AutoML, Core V3, Core V4</td></tr>\n",
       "<tr><td>Python version:</td>\n",
       "<td>3.6.5 final</td></tr></table></div>"
      ],
      "text/plain": [
       "--------------------------  ----------------------------------------\n",
       "H2O cluster uptime:         02 secs\n",
       "H2O cluster timezone:       America/Chicago\n",
       "H2O data parsing timezone:  UTC\n",
       "H2O cluster version:        3.18.0.2\n",
       "H2O cluster version age:    9 months and 22 days !!!\n",
       "H2O cluster name:           H2O_from_python_ssaha_8vky9w\n",
       "H2O cluster total nodes:    1\n",
       "H2O cluster free memory:    26.62 Gb\n",
       "H2O cluster total cores:    72\n",
       "H2O cluster allowed cores:  72\n",
       "H2O cluster status:         locked, healthy\n",
       "H2O connection url:         http://localhost:54321\n",
       "H2O connection proxy:\n",
       "H2O internal security:      False\n",
       "H2O API Extensions:         XGBoost, Algos, AutoML, Core V3, Core V4\n",
       "Python version:             3.6.5 final\n",
       "--------------------------  ----------------------------------------"
      ]
     },
     "metadata": {},
     "output_type": "display_data"
    }
   ],
   "source": [
    "import h2o\n",
    "from h2o.estimators.glm import H2OGeneralizedLinearEstimator\n",
    "from h2o.estimators.gbm import H2OGradientBoostingEstimator\n",
    "from h2o.estimators.random_forest import H2ORandomForestEstimator\n",
    "from h2o.model.regression import H2ORegressionModel\n",
    "from h2o.estimators.deeplearning import H2ODeepLearningEstimator\n",
    "\n",
    "from h2o.estimators.random_forest import H2ORandomForestEstimator\n",
    "from h2o.estimators.gbm import H2OGradientBoostingEstimator\n",
    "from h2o.estimators.stackedensemble import H2OStackedEnsembleEstimator\n",
    "from h2o.grid.grid_search import H2OGridSearch\n",
    "from __future__ import print_function\n",
    "import pandas as pd\n",
    "h2o.init()"
   ]
  },
  {
   "cell_type": "code",
   "execution_count": 6,
   "metadata": {},
   "outputs": [],
   "source": [
    "import os\n",
    "import data_prep"
   ]
  },
  {
   "cell_type": "code",
   "execution_count": 7,
   "metadata": {},
   "outputs": [],
   "source": [
    "project_identifier = \"c360_customeradt_in_market_lexus\"\n",
    "parent_dir         = \"/datascience/home/ssaha/\"\n",
    "\n",
    "parent_dir_project = os.path.join(parent_dir,'RMModel/') \n",
    "mlresult_dir       = os.path.join(parent_dir_project,'mlresults/')\n",
    "mlobjects          =os.path.join(parent_dir_project,'mlobjects/')\n",
    "\n",
    "data_dir           = os.path.join(parent_dir_project,'data/')\n",
    "input_dir          = os.path.join(parent_dir_project,'input/')"
   ]
  },
  {
   "cell_type": "code",
   "execution_count": 8,
   "metadata": {},
   "outputs": [],
   "source": [
    "df_2017= reading_data.read_data(path=\"/datascience/home/ssaha/input/c360_customeradt_in_market_lexus_082017/\")\n"
   ]
  },
  {
   "cell_type": "code",
   "execution_count": 13,
   "metadata": {},
   "outputs": [],
   "source": [
    "y_2017 = df_2017[\"dep_purchase_lexus_new_luv_6mo\"]"
   ]
  },
  {
   "cell_type": "code",
   "execution_count": 14,
   "metadata": {},
   "outputs": [
    {
     "data": {
      "text/plain": [
       "0"
      ]
     },
     "execution_count": 14,
     "metadata": {},
     "output_type": "execute_result"
    }
   ],
   "source": [
    "gc.collect()"
   ]
  },
  {
   "cell_type": "code",
   "execution_count": 15,
   "metadata": {},
   "outputs": [],
   "source": [
    "X=df_2017.drop('dep_purchase_lexus_new_luv_6mo', axis=1)"
   ]
  },
  {
   "cell_type": "code",
   "execution_count": null,
   "metadata": {},
   "outputs": [],
   "source": [
    "rus, id_rus, X_rus, y_rus= data_prep.random_undersample(X, y_2017)"
   ]
  },
  {
   "cell_type": "markdown",
   "metadata": {},
   "source": [
    "### Keeping columns similar to training set"
   ]
  },
  {
   "cell_type": "code",
   "execution_count": 62,
   "metadata": {},
   "outputs": [],
   "source": [
    "cols= ['active_brand',\n",
    " 'association_type',\n",
    " 'last_sales_dealer_markettype',\n",
    " 'marital_status',\n",
    " 'marital_status_confidence',\n",
    " 'i1_education_confidence',\n",
    " 'home_ownership',\n",
    " 'presence_of_children',\n",
    " 'creditcard_cd',\n",
    " 'gndr_cd',\n",
    " 'interest_in_fitness_cd',\n",
    " 'interest_in_outdoors_cd',\n",
    " 'interest_in_sports_cd',\n",
    " 'interest_in_golf_cd',\n",
    " 'tennis_cd',\n",
    " 'interest_in_skiing_cd',\n",
    " 'interest_in_cultural_arts_cd',\n",
    " 'cruise_enthusiasts_cd',\n",
    " 'interest_in_music_cd',\n",
    " 'musical_class_opera_big_bnd_cd',\n",
    " 'music_country_cd',\n",
    " 'music_christian_cd',\n",
    " 'music_oldies_cd',\n",
    " 'music_rock_cd',\n",
    " 'photography_cd',\n",
    " 'interest_in_travel_cd',\n",
    " 'dwelling_type',\n",
    " 'aged_parent_in_hh',\n",
    " 'home_business_ind',\n",
    " 'i1_business_owner_flg',\n",
    " 'presence_of_automobile_cd',\n",
    " 'healthy_living_cd',\n",
    " 'investors_cd',\n",
    " 'invest_in_mutual_fund_annts_cd',\n",
    " 'last_serviced_dealer_markettype',\n",
    " 'pma_toy_scion_dealership_markettype',\n",
    " 'pma_lexus_dealership_markettype',\n",
    " 'owned_lexus_sedan_ind',\n",
    " 'owned_lexus_LUV_ind',\n",
    " 'owned_lexus_new_luv_ind',\n",
    " 'owned_lexus_cpo_luv_ind',\n",
    " 'owned_lexus_new_sedan_ind',\n",
    " 'owned_lexus_cpo_sedan_ind',\n",
    " 'owned_lexus_ind',\n",
    " 'owned_corolla_ind',\n",
    " 'owned_rav4_ind',\n",
    " 'owned_prius_ind',\n",
    " 'owned_suv_ind',\n",
    " 'owned_hybrid_ind',\n",
    " 'owned_big_engine_vehicle_ind',\n",
    " 'owned_4wd_vehicle_ind',\n",
    " 'multiple_vehicle_type_ind',\n",
    " 'owned_prius_no',\n",
    " 'owned_is250_ind',\n",
    " 'owned_is350_ind',\n",
    " 'owned_is_ind',\n",
    " 'owned_es_ind',\n",
    " 'owned_rx_ind',\n",
    " 'owned_ls_ind',\n",
    " 'owned_gs_ind',\n",
    " 'owned_highlander_ind',\n",
    " 'owned_hs250h_ind',\n",
    " 'owned_ct200h_ind',\n",
    " 'owned_white_vehicle_ind',\n",
    " 'owned_black_vehicle_ind',\n",
    " 'owned_silver_gray_vehicle_ind',\n",
    " 'owned_gold_brown_orange_vehicle_ind',\n",
    " 'owned_yellow_vehicle_ind',\n",
    " 'owned_green_vehicle_ind',\n",
    " 'owned_aqua_vehicle_ind',\n",
    " 'owned_blue_vehicle_ind',\n",
    " 'owned_purple_vehicle_ind',\n",
    " 'owned_brown_vehicle_ind',\n",
    " 'owned_gold_vehicle_ind',\n",
    " 'owned_red_vehicle_ind',\n",
    " 'owned_orange_vehicle_ind',\n",
    " 'owned_other_color_vehicle_ind',\n",
    " 'owned_gray_vehicle_ind',\n",
    " 'owned_vehicle_my_1981_90_ind',\n",
    " 'owned_vehicle_my_1991_00_ind',\n",
    " 'owned_vehicle_my_2001_10_ind',\n",
    " 'owned_vehicle_my_2011_20_ind',\n",
    " 'purchased_vehicle_last_2years_ind',\n",
    " 'purchased_lexus_sedan_last_2years_ind',\n",
    " 'purchased_lexus_sedan_last_3years_ind',\n",
    " 'purchased_lexus_LUV_last_2years_ind',\n",
    " 'purchased_lexus_LUV_last_3years_ind',\n",
    " 'purchased_lexus_last_3years_ind',\n",
    " 'purchased_rav4_last_3years_ind',\n",
    " 'purchased_is_last_3years_ind',\n",
    " 'current_owned_lexus_sedan_ind',\n",
    " 'current_owned_lexus_LUV_ind',\n",
    " 'current_owned_lexus_new_luv_ind',\n",
    " 'current_owned_lexus_new_sedan_ind',\n",
    " 'current_owned_lexus_cpo_luv_ind',\n",
    " 'current_owned_lexus_cpo_sedan_ind',\n",
    " 'current_owned_lexus_ind',\n",
    " 'current_owned_corolla_ind',\n",
    " 'current_owned_rav4_ind',\n",
    " 'current_owned_prius_ind',\n",
    " 'current_owned_is_ind',\n",
    " 'current_owned_es_ind',\n",
    " 'current_owned_rx_ind',\n",
    " 'current_owned_ls_ind',\n",
    " 'current_owned_gs_ind',\n",
    " 'current_owned_highlander_ind',\n",
    " 'past_owned_lexus_sedan_ind',\n",
    " 'past_owned_lexus_LUV_ind',\n",
    " 'past_owned_lexus_new_luv_ind',\n",
    " 'past_owned_lexus_new_sedan_ind',\n",
    " 'past_owned_lexus_cpo_luv_ind',\n",
    " 'past_owned_lexus_cpo_sedan_ind',\n",
    " 'past_owned_lexus_ind',\n",
    " 'past_owned_rav4_ind',\n",
    " 'past_owned_is_ind',\n",
    " 'past_owned_es_ind',\n",
    " 'past_owned_rx_ind',\n",
    " 'past_owned_ls_ind',\n",
    " 'past_owned_gs_ind',\n",
    " 'purchased_vehicle_new_ind',\n",
    " 'purchased_vehicle_used_ind',\n",
    " 'purchased_vehicle_cpo_ind',\n",
    " 'purchased_vehicle_lexus_ind',\n",
    " 'purchased_vehicle_suv_ind',\n",
    " 'purchased_vehicle_hybrid_ind',\n",
    " 'purchased_vehicle_big_engine_ind',\n",
    " 'purchased_vehicle_4wd_ind',\n",
    " 'purchased_vehicle_lexus_sedan_ind',\n",
    " 'purchased_vehicle_lexus_LUV_ind',\n",
    " 'purchased_vehicle_corolla_ind',\n",
    " 'purchased_vehicle_rav4_ind',\n",
    " 'purchased_vehicle_prius_ind',\n",
    " 'first_purchase_ind',\n",
    " 'first_purchase_lexus_sedan_ind',\n",
    " 'first_purchase_lexus_LUV_ind',\n",
    " 'first_purchase_lexus_ind',\n",
    " 'first_purchase_hybrid_ind',\n",
    " 'first_purchase_prius_ind',\n",
    " 'first_purchase_big_engine_ind',\n",
    " 'first_purchase_suv_ind',\n",
    " 'dofu_year1_ind',\n",
    " 'dofu_year2_ind',\n",
    " 'dofu_year3_ind',\n",
    " 'dofu_year4_ind',\n",
    " 'dofu_year5above_ind',\n",
    " 'tc_active_ind',\n",
    " 'first_purchase_luxury_vehicle_ind',\n",
    " 'owned_corolla_no',\n",
    " 'owned_toyota_compact_ind',\n",
    " 'owned_toyota_compactsuv_ind',\n",
    " 'owned_toyota_fullsizesuv_ind',\n",
    " 'owned_toyota_hybrid_ind',\n",
    " 'owned_toyota_midsizesuv_ind',\n",
    " 'owned_toyota_sportscar_ind',\n",
    " 'owned_toyota_subcompact_ind',\n",
    " 'past_owned_toyota_compactsuv_ind',\n",
    " 'current_owned_toyota_compact_ind',\n",
    " 'current_owned_toyota_compactsuv_ind',\n",
    " 'current_owned_toyota_fullsizesuv_ind',\n",
    " 'current_owned_toyota_hybrid_ind',\n",
    " 'current_owned_toyota_midsizesuv_ind',\n",
    " 'current_owned_toyota_sportscar_ind',\n",
    " 'current_owned_toyota_subcompact_ind',\n",
    " 'past_owned_toyota_4wd_ind',\n",
    " 'past_owned_toyota_suv_ind',\n",
    " 'driver_ind',\n",
    " 'sales_survey_ind',\n",
    " 'service_survey_ind',\n",
    " 'has_uss',\n",
    " 'multiple_case_type_ind',\n",
    " 'has_cec',\n",
    " 'lhr_incomplete_lead_ind',\n",
    " 'lhr_sweepstakes_1_permission_ind',\n",
    " 'current_lead',\n",
    " 'current_handraiser',\n",
    " 'current_participator',\n",
    " 'ever_lead_ind',\n",
    " 'ever_handraiser_ind',\n",
    " 'ever_participator_ind',\n",
    " 'has_emd',\n",
    " 'communication_received_ind',\n",
    " 'campaign_received_ind',\n",
    " 'offer_received_ind',\n",
    " 'communication_opened_ind',\n",
    " 'communication_clicked_ind',\n",
    " 'campaign_opened_ind',\n",
    " 'campaign_clicked_ind',\n",
    " 'brochure_requested_ind',\n",
    " 'active_offer_ind',\n",
    " 'dealer_loyalist',\n",
    " 'no_ro_visit_during_tc',\n",
    " 'no_ro_visits_post_0_2_tc',\n",
    " 'no_ro_visits_post_2_4_tc',\n",
    " 'ever_customer_payment_ind',\n",
    " 'ever_warranty_payment_ind',\n",
    " 'ever_service_ind',\n",
    " 'ever_service_hybrid_ind',\n",
    " 'ever_service_lexus_sedan_ind',\n",
    " 'ever_service_lexus_LUV_ind',\n",
    " 'customer_high_payment_ind',\n",
    " 'warranty_high_payment_ind',\n",
    " 'high_service_ind',\n",
    " 'high_ro_time_ind',\n",
    " 'current_vehicle_serviced_ind',\n",
    " 'current_vehicle_customer_full_payment_ind',\n",
    " 'current_vehicle_high_service_ind',\n",
    " 'current_vehicle_high_ro_time_ind',\n",
    " 'has_nsh',\n",
    " 'pma_lexus_dealership_region',\n",
    " 'customer_language_english_ind',\n",
    " 'customer_language_spanish_ind',\n",
    " 'no_sales_dealer_assoc',\n",
    " 'days_since_last_purchase_vehicle',\n",
    " 'avg_zip3_vehicle_val',\n",
    " 'owned_hybrid_no',\n",
    " 'first_purchase_vehicle_msrp',\n",
    " 'second_last_purchase_age',\n",
    " 'days_since_first_purchase_vehicle',\n",
    " 'no_leased_vehicle',\n",
    " 'last_sales_dealer_region',\n",
    " 'i1_education',\n",
    " 'avg_no_vehicles_per_hh',\n",
    " 'max_value_vehicles_per_hh',\n",
    " 'no_of_chldrn_cd',\n",
    " 'no_of_adlts_per_hh_cd',\n",
    " 'i1_occupation_grp_val',\n",
    " 'length_of_residence',\n",
    " 'avg_custpay_recent_vehicle',\n",
    " 'last_reported_mileage_recent_vehicle',\n",
    " 'no_ro_visits_48_60mo',\n",
    " 'avg_cust_pay_48_60mo',\n",
    " 'avg_cust_pay_36_48mo',\n",
    " 'avg_cust_pay_24_36mo',\n",
    " 'avg_ro_time_18_24mo',\n",
    " 'no_ro_visits_12_18mo',\n",
    " 'avg_ro_time_12_18mo',\n",
    " 'no_ro_visits_6_12mo',\n",
    " 'avg_ro_time_6_12mo',\n",
    " 'no_ro_visits_0_6mo',\n",
    " 'avg_ro_time_0_6mo',\n",
    " 'no_servicing_dealer',\n",
    " 'noros_high_cust_pay_18_24mo',\n",
    " 'noros_high_cust_pay_12_18mo',\n",
    " 'noros_high_cust_pay_6_12mo',\n",
    " 'noros_high_cust_pay_0_6mo',\n",
    " 'noros_high_ro_time_18_24mo',\n",
    " 'noros_high_ro_time_12_18mo',\n",
    " 'noros_high_ro_time_6_12mo',\n",
    " 'noros_high_ro_time_0_6mo',\n",
    " 'avg_mileage_permonth_recent_vehicle',\n",
    " 'est_current_mileage',\n",
    " 'avg_service_assoc_length',\n",
    " 'last_serviced_dealer_no',\n",
    " 'last_serviced_dealer_region',\n",
    " 'pma_toy_scion_dealership_cd',\n",
    " 'pma_toy_scion_dealership_region',\n",
    " 'pma_lexus_dealership_cd']"
   ]
  },
  {
   "cell_type": "code",
   "execution_count": 80,
   "metadata": {},
   "outputs": [],
   "source": [
    "X_2017_app= pd.DataFrame()\n",
    "col_not_found=[]\n",
    "for col in cols:\n",
    "    if col in df_2017.columns:\n",
    "        X_2017_app[col]=df_2017[col].copy()\n",
    "    else:\n",
    "        col_not_found.append(col)"
   ]
  },
  {
   "cell_type": "code",
   "execution_count": 82,
   "metadata": {},
   "outputs": [
    {
     "data": {
      "text/plain": [
       "(5070955, 257)"
      ]
     },
     "execution_count": 82,
     "metadata": {},
     "output_type": "execute_result"
    }
   ],
   "source": [
    "X_2017_app.shape"
   ]
  },
  {
   "cell_type": "code",
   "execution_count": 83,
   "metadata": {},
   "outputs": [
    {
     "data": {
      "text/plain": [
       "[]"
      ]
     },
     "execution_count": 83,
     "metadata": {},
     "output_type": "execute_result"
    }
   ],
   "source": [
    "col_not_found"
   ]
  },
  {
   "cell_type": "code",
   "execution_count": 85,
   "metadata": {},
   "outputs": [],
   "source": [
    "from sklearn.preprocessing import Imputer"
   ]
  },
  {
   "cell_type": "code",
   "execution_count": 86,
   "metadata": {},
   "outputs": [],
   "source": [
    "def missing(df):    \n",
    "    categorical_list = df.select_dtypes(include=\"O\").columns.tolist()\n",
    "    numerical_list = df.select_dtypes(exclude=\"O\").columns.tolist()\n",
    "    '''\n",
    "    print('Number of categorical features:', str(len(categorical_list)))\n",
    "    print('Number of numerical features:', str(len(numerical_list)))'''\n",
    "    for cat_col in categorical_list:\n",
    "        if df[cat_col].isnull().sum()>0:\n",
    "            #print(\"Categorical column \"+ str(cat_col) + \" is getting imputed by most frequent value- \" +str(df[cat_col].value_counts().index[0]))\n",
    "            df[cat_col].fillna(df[cat_col].value_counts().index[0], inplace=True)\n",
    "\n",
    "    fill_NaN = Imputer(missing_values='NaN', strategy='mean', axis=0)\n",
    "    imputed_df = pd.DataFrame(fill_NaN.fit_transform(df[numerical_list]))\n",
    "    imputed_df.columns = numerical_list\n",
    "    result= pd.concat([df[categorical_list].reset_index(drop=True), imputed_df.reset_index(drop=True)], axis=1)\n",
    "    return result"
   ]
  },
  {
   "cell_type": "code",
   "execution_count": 87,
   "metadata": {},
   "outputs": [],
   "source": [
    "X= X_2017_app.copy()"
   ]
  },
  {
   "cell_type": "code",
   "execution_count": 88,
   "metadata": {},
   "outputs": [
    {
     "name": "stderr",
     "output_type": "stream",
     "text": [
      "/root/anaconda3/lib/python3.6/site-packages/sklearn/utils/deprecation.py:58: DeprecationWarning:\n",
      "\n",
      "Class Imputer is deprecated; Imputer was deprecated in version 0.20 and will be removed in 0.22. Import impute.SimpleImputer from sklearn instead.\n",
      "\n"
     ]
    }
   ],
   "source": [
    "X_imputed= missing(X)"
   ]
  },
  {
   "cell_type": "code",
   "execution_count": 89,
   "metadata": {},
   "outputs": [
    {
     "data": {
      "text/plain": [
       "(5070955, 257)"
      ]
     },
     "execution_count": 89,
     "metadata": {},
     "output_type": "execute_result"
    }
   ],
   "source": [
    "X_imputed.shape"
   ]
  },
  {
   "cell_type": "code",
   "execution_count": 90,
   "metadata": {},
   "outputs": [
    {
     "name": "stderr",
     "output_type": "stream",
     "text": [
      "/root/anaconda3/lib/python3.6/site-packages/pandas/core/generic.py:7772: SettingWithCopyWarning:\n",
      "\n",
      "\n",
      "A value is trying to be set on a copy of a slice from a DataFrame\n",
      "\n",
      "See the caveats in the documentation: http://pandas.pydata.org/pandas-docs/stable/indexing.html#indexing-view-versus-copy\n",
      "\n"
     ]
    },
    {
     "name": "stdout",
     "output_type": "stream",
     "text": [
      "\n",
      " Time taken to execute the function is 480.34844040870667\n",
      "\n"
     ]
    }
   ],
   "source": [
    "X_outlier_treated= data_prep.outlier_treatment_dataframe(X_imputed)"
   ]
  },
  {
   "cell_type": "code",
   "execution_count": null,
   "metadata": {},
   "outputs": [],
   "source": [
    "X_outlier_treated.dtypes"
   ]
  },
  {
   "cell_type": "code",
   "execution_count": 95,
   "metadata": {},
   "outputs": [
    {
     "data": {
      "text/plain": [
       "341"
      ]
     },
     "execution_count": 95,
     "metadata": {},
     "output_type": "execute_result"
    }
   ],
   "source": [
    "gc.collect()"
   ]
  },
  {
   "cell_type": "code",
   "execution_count": 96,
   "metadata": {},
   "outputs": [
    {
     "name": "stdout",
     "output_type": "stream",
     "text": [
      "Number of categorical features: 37\n",
      "\n",
      " Time taken to execute the function is 46.58539652824402\n",
      "\n"
     ]
    }
   ],
   "source": [
    "X_encoded= data_prep.label_encode(X_outlier_treated)"
   ]
  },
  {
   "cell_type": "code",
   "execution_count": 97,
   "metadata": {},
   "outputs": [],
   "source": [
    "X_encoded_abs=X_encoded.abs()"
   ]
  },
  {
   "cell_type": "code",
   "execution_count": 98,
   "metadata": {},
   "outputs": [
    {
     "name": "stdout",
     "output_type": "stream",
     "text": [
      "Number of categorical features: 0\n",
      "Number of numerical features: 257\n",
      "\n",
      " Time taken to execute the function is 84.55540108680725\n",
      "\n"
     ]
    }
   ],
   "source": [
    "X_norm= data_prep.standarization(X_encoded_abs)"
   ]
  },
  {
   "cell_type": "code",
   "execution_count": 99,
   "metadata": {},
   "outputs": [],
   "source": [
    "X_h5_2017= X_norm.to_hdf(mlresult_dir + str(project_identifier) + '_' + str(datetime.datetime.now().day)+ '_X_2017.h5', key= 'df')\n",
    "y_h5_2017= y_2017.to_hdf(mlresult_dir + str(project_identifier) + '_' + str(datetime.datetime.now().day)+ '_y_2017.h5', key= 'df')"
   ]
  },
  {
   "cell_type": "code",
   "execution_count": 101,
   "metadata": {},
   "outputs": [],
   "source": [
    "X_h5= pd.read_hdf(mlresult_dir + 'c360_customeradt_in_market_lexus_25_X_2017.h5')"
   ]
  },
  {
   "cell_type": "code",
   "execution_count": 104,
   "metadata": {},
   "outputs": [
    {
     "data": {
      "text/plain": [
       "(5070955, 257)"
      ]
     },
     "execution_count": 104,
     "metadata": {},
     "output_type": "execute_result"
    }
   ],
   "source": [
    "X_h5.shape"
   ]
  },
  {
   "cell_type": "code",
   "execution_count": 102,
   "metadata": {},
   "outputs": [],
   "source": [
    "y_h5= pd.read_hdf(mlresult_dir + 'c360_customeradt_in_market_lexus_25_y_2017.h5')"
   ]
  },
  {
   "cell_type": "code",
   "execution_count": 107,
   "metadata": {},
   "outputs": [
    {
     "data": {
      "text/plain": [
       "(5070955,)"
      ]
     },
     "execution_count": 107,
     "metadata": {},
     "output_type": "execute_result"
    }
   ],
   "source": [
    "y_h5.shape"
   ]
  },
  {
   "cell_type": "code",
   "execution_count": 108,
   "metadata": {},
   "outputs": [],
   "source": [
    "test= pd.concat([X_h5.reset_index(drop=True), y_h5.reset_index(drop=True)], axis=1)"
   ]
  },
  {
   "cell_type": "code",
   "execution_count": 109,
   "metadata": {},
   "outputs": [
    {
     "data": {
      "text/plain": [
       "(5070955, 258)"
      ]
     },
     "execution_count": 109,
     "metadata": {},
     "output_type": "execute_result"
    }
   ],
   "source": [
    "test.shape"
   ]
  },
  {
   "cell_type": "code",
   "execution_count": 110,
   "metadata": {},
   "outputs": [
    {
     "data": {
      "text/html": [
       "<div>\n",
       "<style scoped>\n",
       "    .dataframe tbody tr th:only-of-type {\n",
       "        vertical-align: middle;\n",
       "    }\n",
       "\n",
       "    .dataframe tbody tr th {\n",
       "        vertical-align: top;\n",
       "    }\n",
       "\n",
       "    .dataframe thead th {\n",
       "        text-align: right;\n",
       "    }\n",
       "</style>\n",
       "<table border=\"1\" class=\"dataframe\">\n",
       "  <thead>\n",
       "    <tr style=\"text-align: right;\">\n",
       "      <th></th>\n",
       "      <th>active_brand</th>\n",
       "      <th>association_type</th>\n",
       "      <th>last_sales_dealer_markettype</th>\n",
       "      <th>marital_status</th>\n",
       "      <th>marital_status_confidence</th>\n",
       "      <th>i1_education_confidence</th>\n",
       "      <th>home_ownership</th>\n",
       "      <th>presence_of_children</th>\n",
       "      <th>creditcard_cd</th>\n",
       "      <th>gndr_cd</th>\n",
       "      <th>...</th>\n",
       "      <th>noros_high_ro_time_0_6mo</th>\n",
       "      <th>avg_mileage_permonth_recent_vehicle</th>\n",
       "      <th>est_current_mileage</th>\n",
       "      <th>avg_service_assoc_length</th>\n",
       "      <th>last_serviced_dealer_no</th>\n",
       "      <th>last_serviced_dealer_region</th>\n",
       "      <th>pma_toy_scion_dealership_cd</th>\n",
       "      <th>pma_toy_scion_dealership_region</th>\n",
       "      <th>pma_lexus_dealership_cd</th>\n",
       "      <th>dep_purchase_lexus_new_luv_6mo</th>\n",
       "    </tr>\n",
       "  </thead>\n",
       "  <tbody>\n",
       "    <tr>\n",
       "      <th>0</th>\n",
       "      <td>-0.622455</td>\n",
       "      <td>-0.600296</td>\n",
       "      <td>1.866616</td>\n",
       "      <td>-0.659082</td>\n",
       "      <td>-0.364961</td>\n",
       "      <td>-1.487035</td>\n",
       "      <td>-0.210103</td>\n",
       "      <td>-0.190859</td>\n",
       "      <td>0.463681</td>\n",
       "      <td>0.676845</td>\n",
       "      <td>...</td>\n",
       "      <td>-6.412111e-01</td>\n",
       "      <td>-0.051872</td>\n",
       "      <td>-0.153909</td>\n",
       "      <td>-1.306075e+00</td>\n",
       "      <td>3.816403e-01</td>\n",
       "      <td>5.830639e-02</td>\n",
       "      <td>-0.727694</td>\n",
       "      <td>0.760767</td>\n",
       "      <td>0.307273</td>\n",
       "      <td>0</td>\n",
       "    </tr>\n",
       "    <tr>\n",
       "      <th>1</th>\n",
       "      <td>-0.622455</td>\n",
       "      <td>-0.600296</td>\n",
       "      <td>-0.093857</td>\n",
       "      <td>1.723322</td>\n",
       "      <td>-1.722904</td>\n",
       "      <td>0.600903</td>\n",
       "      <td>-0.210103</td>\n",
       "      <td>1.759789</td>\n",
       "      <td>0.463681</td>\n",
       "      <td>0.676845</td>\n",
       "      <td>...</td>\n",
       "      <td>1.951197e-16</td>\n",
       "      <td>-0.001436</td>\n",
       "      <td>-0.000946</td>\n",
       "      <td>7.770049e-16</td>\n",
       "      <td>5.348864e-15</td>\n",
       "      <td>-1.824737e-15</td>\n",
       "      <td>0.694600</td>\n",
       "      <td>-0.682256</td>\n",
       "      <td>0.417435</td>\n",
       "      <td>0</td>\n",
       "    </tr>\n",
       "    <tr>\n",
       "      <th>2</th>\n",
       "      <td>-0.622455</td>\n",
       "      <td>-0.600296</td>\n",
       "      <td>-0.093857</td>\n",
       "      <td>-0.659082</td>\n",
       "      <td>0.992982</td>\n",
       "      <td>0.600903</td>\n",
       "      <td>-0.210103</td>\n",
       "      <td>-0.190859</td>\n",
       "      <td>0.463681</td>\n",
       "      <td>0.676845</td>\n",
       "      <td>...</td>\n",
       "      <td>1.951197e-16</td>\n",
       "      <td>-0.001436</td>\n",
       "      <td>-0.000946</td>\n",
       "      <td>7.770049e-16</td>\n",
       "      <td>5.348864e-15</td>\n",
       "      <td>-1.824737e-15</td>\n",
       "      <td>5.157756</td>\n",
       "      <td>-1.361325</td>\n",
       "      <td>2.267375</td>\n",
       "      <td>0</td>\n",
       "    </tr>\n",
       "    <tr>\n",
       "      <th>3</th>\n",
       "      <td>-0.622455</td>\n",
       "      <td>-0.600296</td>\n",
       "      <td>-0.093857</td>\n",
       "      <td>-0.659082</td>\n",
       "      <td>0.992982</td>\n",
       "      <td>0.600903</td>\n",
       "      <td>-0.210103</td>\n",
       "      <td>-0.190859</td>\n",
       "      <td>0.463681</td>\n",
       "      <td>-1.095187</td>\n",
       "      <td>...</td>\n",
       "      <td>1.951197e-16</td>\n",
       "      <td>-0.001436</td>\n",
       "      <td>-0.000946</td>\n",
       "      <td>7.770049e-16</td>\n",
       "      <td>5.348864e-15</td>\n",
       "      <td>-1.824737e-15</td>\n",
       "      <td>5.157756</td>\n",
       "      <td>-1.361325</td>\n",
       "      <td>2.267375</td>\n",
       "      <td>0</td>\n",
       "    </tr>\n",
       "    <tr>\n",
       "      <th>4</th>\n",
       "      <td>-0.622455</td>\n",
       "      <td>-0.600296</td>\n",
       "      <td>-0.093857</td>\n",
       "      <td>-0.659082</td>\n",
       "      <td>0.992982</td>\n",
       "      <td>0.600903</td>\n",
       "      <td>-0.210103</td>\n",
       "      <td>-0.190859</td>\n",
       "      <td>0.463681</td>\n",
       "      <td>-1.095187</td>\n",
       "      <td>...</td>\n",
       "      <td>1.951197e-16</td>\n",
       "      <td>-0.001436</td>\n",
       "      <td>-0.000946</td>\n",
       "      <td>7.770049e-16</td>\n",
       "      <td>5.348864e-15</td>\n",
       "      <td>-1.824737e-15</td>\n",
       "      <td>5.157756</td>\n",
       "      <td>-1.361325</td>\n",
       "      <td>2.267375</td>\n",
       "      <td>0</td>\n",
       "    </tr>\n",
       "  </tbody>\n",
       "</table>\n",
       "<p>5 rows × 258 columns</p>\n",
       "</div>"
      ],
      "text/plain": [
       "   active_brand  association_type  last_sales_dealer_markettype  \\\n",
       "0     -0.622455         -0.600296                      1.866616   \n",
       "1     -0.622455         -0.600296                     -0.093857   \n",
       "2     -0.622455         -0.600296                     -0.093857   \n",
       "3     -0.622455         -0.600296                     -0.093857   \n",
       "4     -0.622455         -0.600296                     -0.093857   \n",
       "\n",
       "   marital_status  marital_status_confidence  i1_education_confidence  \\\n",
       "0       -0.659082                  -0.364961                -1.487035   \n",
       "1        1.723322                  -1.722904                 0.600903   \n",
       "2       -0.659082                   0.992982                 0.600903   \n",
       "3       -0.659082                   0.992982                 0.600903   \n",
       "4       -0.659082                   0.992982                 0.600903   \n",
       "\n",
       "   home_ownership  presence_of_children  creditcard_cd   gndr_cd  \\\n",
       "0       -0.210103             -0.190859       0.463681  0.676845   \n",
       "1       -0.210103              1.759789       0.463681  0.676845   \n",
       "2       -0.210103             -0.190859       0.463681  0.676845   \n",
       "3       -0.210103             -0.190859       0.463681 -1.095187   \n",
       "4       -0.210103             -0.190859       0.463681 -1.095187   \n",
       "\n",
       "                ...                noros_high_ro_time_0_6mo  \\\n",
       "0               ...                           -6.412111e-01   \n",
       "1               ...                            1.951197e-16   \n",
       "2               ...                            1.951197e-16   \n",
       "3               ...                            1.951197e-16   \n",
       "4               ...                            1.951197e-16   \n",
       "\n",
       "   avg_mileage_permonth_recent_vehicle  est_current_mileage  \\\n",
       "0                            -0.051872            -0.153909   \n",
       "1                            -0.001436            -0.000946   \n",
       "2                            -0.001436            -0.000946   \n",
       "3                            -0.001436            -0.000946   \n",
       "4                            -0.001436            -0.000946   \n",
       "\n",
       "   avg_service_assoc_length  last_serviced_dealer_no  \\\n",
       "0             -1.306075e+00             3.816403e-01   \n",
       "1              7.770049e-16             5.348864e-15   \n",
       "2              7.770049e-16             5.348864e-15   \n",
       "3              7.770049e-16             5.348864e-15   \n",
       "4              7.770049e-16             5.348864e-15   \n",
       "\n",
       "   last_serviced_dealer_region  pma_toy_scion_dealership_cd  \\\n",
       "0                 5.830639e-02                    -0.727694   \n",
       "1                -1.824737e-15                     0.694600   \n",
       "2                -1.824737e-15                     5.157756   \n",
       "3                -1.824737e-15                     5.157756   \n",
       "4                -1.824737e-15                     5.157756   \n",
       "\n",
       "   pma_toy_scion_dealership_region  pma_lexus_dealership_cd  \\\n",
       "0                         0.760767                 0.307273   \n",
       "1                        -0.682256                 0.417435   \n",
       "2                        -1.361325                 2.267375   \n",
       "3                        -1.361325                 2.267375   \n",
       "4                        -1.361325                 2.267375   \n",
       "\n",
       "   dep_purchase_lexus_new_luv_6mo  \n",
       "0                               0  \n",
       "1                               0  \n",
       "2                               0  \n",
       "3                               0  \n",
       "4                               0  \n",
       "\n",
       "[5 rows x 258 columns]"
      ]
     },
     "execution_count": 110,
     "metadata": {},
     "output_type": "execute_result"
    }
   ],
   "source": [
    "test.head()"
   ]
  },
  {
   "cell_type": "code",
   "execution_count": 111,
   "metadata": {},
   "outputs": [],
   "source": [
    "sample= test.sample(frac= 0.001)"
   ]
  },
  {
   "cell_type": "code",
   "execution_count": 113,
   "metadata": {},
   "outputs": [
    {
     "data": {
      "text/plain": [
       "0    0\n",
       "1    0\n",
       "2    0\n",
       "3    0\n",
       "4    0\n",
       "Name: dep_purchase_lexus_new_luv_6mo, dtype: int32"
      ]
     },
     "execution_count": 113,
     "metadata": {},
     "output_type": "execute_result"
    }
   ],
   "source": [
    "y_h5.head()"
   ]
  },
  {
   "cell_type": "code",
   "execution_count": 114,
   "metadata": {},
   "outputs": [],
   "source": [
    "sample_X= sample.drop('dep_purchase_lexus_new_luv_6mo', axis= 1, inplace=False)"
   ]
  },
  {
   "cell_type": "code",
   "execution_count": 115,
   "metadata": {},
   "outputs": [],
   "source": [
    "sample_y= sample['dep_purchase_lexus_new_luv_6mo']"
   ]
  },
  {
   "cell_type": "code",
   "execution_count": 112,
   "metadata": {},
   "outputs": [
    {
     "name": "stdout",
     "output_type": "stream",
     "text": [
      "Loaded Decision tree model ::  DecisionTreeClassifier(class_weight=None, criterion='gini', max_depth=None,\n",
      "            max_features=None, max_leaf_nodes=None,\n",
      "            min_impurity_decrease=0.0, min_impurity_split=None,\n",
      "            min_samples_leaf=1, min_samples_split=2,\n",
      "            min_weight_fraction_leaf=0.0, presort=False, random_state=None,\n",
      "            splitter='best')\n"
     ]
    }
   ],
   "source": [
    "DecisionTree_pkl_filename = os.path.join(mlobjects+'DecisionTree_.pkl')\n",
    "dt_model_pkl = open(DecisionTree_pkl_filename, 'rb')\n",
    "dt = pickle.load(dt_model_pkl)\n",
    "print (\"Loaded Decision tree model :: \", dt)"
   ]
  },
  {
   "cell_type": "code",
   "execution_count": 145,
   "metadata": {},
   "outputs": [],
   "source": [
    "y_pred_dt= dt.predict(X_h5)"
   ]
  },
  {
   "cell_type": "code",
   "execution_count": 146,
   "metadata": {},
   "outputs": [
    {
     "data": {
      "text/plain": [
       "4574"
      ]
     },
     "execution_count": 146,
     "metadata": {},
     "output_type": "execute_result"
    }
   ],
   "source": [
    "gc.collect()"
   ]
  },
  {
   "cell_type": "code",
   "execution_count": 147,
   "metadata": {},
   "outputs": [
    {
     "name": "stdout",
     "output_type": "stream",
     "text": [
      "accuracy  60.97186821811671\n"
     ]
    }
   ],
   "source": [
    "acc =accuracy_score(y_pred= y_pred_dt, y_true=y_h5) * 100\n",
    "print('accuracy ', acc)"
   ]
  },
  {
   "cell_type": "code",
   "execution_count": 148,
   "metadata": {},
   "outputs": [
    {
     "name": "stdout",
     "output_type": "stream",
     "text": [
      "f1_score 39.22637813975103\n"
     ]
    }
   ],
   "source": [
    "#f1_score\n",
    "f1=f1_score(y_pred= y_pred_dt, y_true=y_h5, average='macro')  * 100\n",
    "print('f1_score ' + str(f1))"
   ]
  },
  {
   "cell_type": "code",
   "execution_count": 150,
   "metadata": {},
   "outputs": [
    {
     "name": "stdout",
     "output_type": "stream",
     "text": [
      "precision_score  98.64797933761447\n"
     ]
    }
   ],
   "source": [
    "#precision_score\n",
    "prec=precision_score(y_pred= y_pred_dt, y_true=y_h5, average='weighted')* 100\n",
    "print('precision_score ', prec)"
   ]
  },
  {
   "cell_type": "code",
   "execution_count": 151,
   "metadata": {},
   "outputs": [
    {
     "name": "stdout",
     "output_type": "stream",
     "text": [
      "recall_score  65.86935487500281\n"
     ]
    }
   ],
   "source": [
    "#recall_score\n",
    "recall=recall_score(y_pred= y_pred_dt, y_true=y_h5)*100\n",
    "print('recall_score ' , recall)"
   ]
  },
  {
   "cell_type": "code",
   "execution_count": 152,
   "metadata": {},
   "outputs": [
    {
     "data": {
      "image/png": "[encoded data removed]",
      "text/plain": [
       "<Figure size 432x288 with 1 Axes>"
      ]
     },
     "metadata": {},
     "output_type": "display_data"
    }
   ],
   "source": [
    "#roc_curve\n",
    "y_pred_proba_dt = dt.predict_proba(X_h5)[:,1]\n",
    "false_positive_rate, true_positive_rate, thresholds = roc_curve(y_true=y_h5, y_score=y_pred_proba_dt)\n",
    "plt.plot([0,1],[0,1],'k--')\n",
    "plt.plot(false_positive_rate,true_positive_rate, label='Decision Tree')\n",
    "plt.xlabel('false_positive_rate')\n",
    "plt.ylabel('true_positive_rate')\n",
    "plt.title('ROC curve of Decision Tree' )\n",
    "plt.show()"
   ]
  },
  {
   "cell_type": "code",
   "execution_count": 153,
   "metadata": {},
   "outputs": [
    {
     "name": "stdout",
     "output_type": "stream",
     "text": [
      "roc_auc_score 63.3989614323336\n"
     ]
    }
   ],
   "source": [
    "#roc_auc_score\n",
    "roc= roc_auc_score(y_h5, y_pred_proba_dt) * 100\n",
    "print('roc_auc_score ' + str(roc))"
   ]
  },
  {
   "cell_type": "code",
   "execution_count": 154,
   "metadata": {},
   "outputs": [
    {
     "name": "stdout",
     "output_type": "stream",
     "text": [
      "confusion_matrix  [[3062583 1963931]\n",
      " [  15168   29273]]\n"
     ]
    }
   ],
   "source": [
    "#confusion_matrix\n",
    "print('confusion_matrix ', confusion_matrix(y_h5, y_pred_dt))"
   ]
  },
  {
   "cell_type": "code",
   "execution_count": 133,
   "metadata": {},
   "outputs": [
    {
     "name": "stdout",
     "output_type": "stream",
     "text": [
      "classification_report              precision    recall  f1-score   support\n",
      "\n",
      "           0       0.99      0.60      0.75      5006\n",
      "           1       0.02      0.63      0.04        65\n",
      "\n",
      "   micro avg       0.60      0.60      0.60      5071\n",
      "   macro avg       0.51      0.61      0.39      5071\n",
      "weighted avg       0.98      0.60      0.74      5071\n",
      "\n"
     ]
    }
   ],
   "source": [
    "pd.crosstab(sample_y, y_pred, rownames=['True'], colnames=['Predicted'], margins=True)\n",
    "class_report= classification_report(sample_y,y_pred)\n",
    "print(\"classification_report\"+ str(class_report))"
   ]
  },
  {
   "cell_type": "code",
   "execution_count": 156,
   "metadata": {},
   "outputs": [
    {
     "name": "stdout",
     "output_type": "stream",
     "text": [
      "active_brand 0.004639223766507647\n",
      "association_type 0.0003122857622719425\n",
      "last_sales_dealer_markettype 0.0012588973856929846\n",
      "marital_status 0.0016576618464561406\n",
      "marital_status_confidence 0.0032848514935332174\n",
      "i1_education_confidence 0.0017880212603426661\n",
      "home_ownership 0.005621999928558216\n",
      "presence_of_children 0.005255347679832398\n",
      "creditcard_cd 0.0021517614578474677\n",
      "gndr_cd 0.0037776449211794644\n",
      "interest_in_fitness_cd 0.0013946062854326713\n",
      "interest_in_outdoors_cd 0.0014422848207493394\n",
      "interest_in_sports_cd 0.0015194730794767966\n",
      "interest_in_golf_cd 0.0007756377528518741\n",
      "tennis_cd 0.0005490662092954018\n",
      "interest_in_skiing_cd 0.0012255220836191643\n",
      "interest_in_cultural_arts_cd 0.001321696667343216\n",
      "cruise_enthusiasts_cd 0.0007853994663319172\n",
      "interest_in_music_cd 0.0006276615924246866\n",
      "musical_class_opera_big_bnd_cd 0.0003939265146743859\n",
      "music_country_cd 0.0008577470024525326\n",
      "music_christian_cd 0.0007724345167342192\n",
      "music_oldies_cd 0.00035550198043277987\n",
      "music_rock_cd 0.0009854860850981465\n",
      "photography_cd 0.0013156632086515135\n",
      "interest_in_travel_cd 0.001194942353557564\n",
      "dwelling_type 0.0013238648633261722\n",
      "aged_parent_in_hh 0.001707093208529035\n",
      "home_business_ind 0.0007319365241218849\n",
      "i1_business_owner_flg 0.0008361761340632671\n",
      "presence_of_automobile_cd 0.0012022490167118622\n",
      "healthy_living_cd 0.0010524990293852268\n",
      "investors_cd 0.0014715734945570861\n",
      "invest_in_mutual_fund_annts_cd 0.0009306344146179168\n",
      "last_serviced_dealer_markettype 0.0012522527499080108\n",
      "pma_toy_scion_dealership_markettype 0.0027125056426115977\n",
      "pma_lexus_dealership_markettype 0.0017092936879677025\n",
      "owned_lexus_sedan_ind 0.0004463146828595526\n",
      "owned_lexus_LUV_ind 6.29834534538085e-05\n",
      "owned_lexus_new_luv_ind 0.000559972062658387\n",
      "owned_lexus_cpo_luv_ind 8.997636207686928e-05\n",
      "owned_lexus_new_sedan_ind 0.00039714566483373684\n",
      "owned_lexus_cpo_sedan_ind 0.0007822368380365261\n",
      "owned_lexus_ind 0.00013482821529397522\n",
      "owned_corolla_ind 0.0\n",
      "owned_rav4_ind 0.0\n",
      "owned_prius_ind 0.0\n",
      "owned_suv_ind 0.0\n",
      "owned_hybrid_ind 0.00034680434467779963\n",
      "owned_big_engine_vehicle_ind 0.00029805055728482875\n",
      "owned_4wd_vehicle_ind 0.0011157452669135553\n",
      "multiple_vehicle_type_ind 0.0004887865896090282\n",
      "owned_prius_no 0.0001063475244502267\n",
      "owned_is250_ind 0.0006791105178076784\n",
      "owned_is350_ind 0.000797089558208646\n",
      "owned_is_ind 0.000694595190817356\n",
      "owned_es_ind 0.0005530976946540191\n",
      "owned_rx_ind 0.000830467638040009\n",
      "owned_ls_ind 0.0003847275341906921\n",
      "owned_gs_ind 0.0005964834741471561\n",
      "owned_highlander_ind 0.0\n",
      "owned_hs250h_ind 0.00022241948349152453\n",
      "owned_ct200h_ind 0.0008010485988603216\n",
      "owned_white_vehicle_ind 0.000997644191410961\n",
      "owned_black_vehicle_ind 0.00028207757563338654\n",
      "owned_silver_gray_vehicle_ind 0.0014784825192449007\n",
      "owned_gold_brown_orange_vehicle_ind 0.00014265073731708255\n",
      "owned_yellow_vehicle_ind 0.00038846092883044916\n",
      "owned_green_vehicle_ind 0.0007425780453738465\n",
      "owned_aqua_vehicle_ind 0.0017623955421453704\n",
      "owned_blue_vehicle_ind 0.0008010877358842326\n",
      "owned_purple_vehicle_ind 0.0\n",
      "owned_brown_vehicle_ind 5.8739792197646066e-05\n",
      "owned_gold_vehicle_ind 0.00010982323234889808\n",
      "owned_red_vehicle_ind 0.0\n",
      "owned_orange_vehicle_ind 1.7022812472670855e-05\n",
      "owned_other_color_vehicle_ind 0.0025255178208027675\n",
      "owned_gray_vehicle_ind 0.0\n",
      "owned_vehicle_my_1981_90_ind 0.00016238244932203556\n",
      "owned_vehicle_my_1991_00_ind 0.0004989752513049911\n",
      "owned_vehicle_my_2001_10_ind 0.0006729847517221562\n",
      "owned_vehicle_my_2011_20_ind 0.0010795831263607292\n",
      "purchased_vehicle_last_2years_ind 0.00018498380636968712\n",
      "purchased_lexus_sedan_last_2years_ind 0.0002686019071467527\n",
      "purchased_lexus_sedan_last_3years_ind 0.0015717673236916479\n",
      "purchased_lexus_LUV_last_2years_ind 2.2569070820948214e-05\n",
      "purchased_lexus_LUV_last_3years_ind 0.0014533353939490976\n",
      "purchased_lexus_last_3years_ind 0.000262371814664108\n",
      "purchased_rav4_last_3years_ind 0.0\n",
      "purchased_is_last_3years_ind 0.0007226118659647977\n",
      "current_owned_lexus_sedan_ind 0.0003827247228133408\n",
      "current_owned_lexus_LUV_ind 0.00024630698561807154\n",
      "current_owned_lexus_new_luv_ind 0.0030037384338133196\n",
      "current_owned_lexus_new_sedan_ind 0.00028945510460145064\n",
      "current_owned_lexus_cpo_luv_ind 0.00032297705232396104\n",
      "current_owned_lexus_cpo_sedan_ind 0.00039308365483601627\n",
      "current_owned_lexus_ind 7.780308956058697e-05\n",
      "current_owned_corolla_ind 0.0\n",
      "current_owned_rav4_ind 0.0\n",
      "current_owned_prius_ind 0.0\n",
      "current_owned_is_ind 0.0004928587764268184\n",
      "current_owned_es_ind 0.0012456143343830574\n",
      "current_owned_rx_ind 0.0008472328544035687\n",
      "current_owned_ls_ind 0.00010504148322723978\n",
      "current_owned_gs_ind 0.0004641238747292055\n",
      "current_owned_highlander_ind 0.0\n",
      "past_owned_lexus_sedan_ind 0.005396958253760274\n",
      "past_owned_lexus_LUV_ind 0.000590848186586008\n",
      "past_owned_lexus_new_luv_ind 0.0008369699886055868\n",
      "past_owned_lexus_new_sedan_ind 0.000711397164446327\n",
      "past_owned_lexus_cpo_luv_ind 0.0003902627450406802\n",
      "past_owned_lexus_cpo_sedan_ind 0.0005901299332736541\n",
      "past_owned_lexus_ind 4.723759009035636e-05\n",
      "past_owned_rav4_ind 0.0\n",
      "past_owned_is_ind 0.00041517357380401094\n",
      "past_owned_es_ind 0.0009558341479097264\n",
      "past_owned_rx_ind 0.0011332916615762077\n",
      "past_owned_ls_ind 0.00036132940436909883\n",
      "past_owned_gs_ind 0.000612947573880461\n",
      "purchased_vehicle_new_ind 0.0013954011363559715\n",
      "purchased_vehicle_used_ind 0.0007461986814873633\n",
      "purchased_vehicle_cpo_ind 0.0010776070090356186\n",
      "purchased_vehicle_lexus_ind 0.0002955545352125618\n",
      "purchased_vehicle_suv_ind 0.0\n",
      "purchased_vehicle_hybrid_ind 0.0003384109550861994\n",
      "purchased_vehicle_big_engine_ind 0.002885780060118905\n",
      "purchased_vehicle_4wd_ind 0.0007739828903358864\n",
      "purchased_vehicle_lexus_sedan_ind 0.0002369377534690891\n",
      "purchased_vehicle_lexus_LUV_ind 0.0007619352146914287\n",
      "purchased_vehicle_corolla_ind 0.0\n",
      "purchased_vehicle_rav4_ind 0.0\n",
      "purchased_vehicle_prius_ind 0.0\n",
      "first_purchase_ind 6.29834534538085e-05\n",
      "first_purchase_lexus_sedan_ind 0.0004547511410971051\n",
      "first_purchase_lexus_LUV_ind 0.00031348121076321407\n",
      "first_purchase_lexus_ind 0.00011546966466531555\n",
      "first_purchase_hybrid_ind 0.0005049996215434731\n",
      "first_purchase_prius_ind 0.0\n",
      "first_purchase_big_engine_ind 0.0002902325777745708\n",
      "first_purchase_suv_ind 0.0\n",
      "dofu_year1_ind 0.0007281384648881435\n",
      "dofu_year2_ind 0.0004181774308098993\n",
      "dofu_year3_ind 0.0002084070542341203\n",
      "dofu_year4_ind 0.0\n",
      "dofu_year5above_ind 2.6176917967100603e-05\n",
      "tc_active_ind 0.0\n",
      "first_purchase_luxury_vehicle_ind 0.00036215485735939886\n",
      "owned_corolla_no 0.00012232537613877183\n",
      "owned_toyota_compact_ind 0.0\n",
      "owned_toyota_compactsuv_ind 0.0\n",
      "owned_toyota_fullsizesuv_ind 0.0\n",
      "owned_toyota_hybrid_ind 0.0\n",
      "owned_toyota_midsizesuv_ind 0.0\n",
      "owned_toyota_sportscar_ind 0.0\n",
      "owned_toyota_subcompact_ind 0.0\n",
      "past_owned_toyota_compactsuv_ind 0.0\n",
      "current_owned_toyota_compact_ind 0.0\n",
      "current_owned_toyota_compactsuv_ind 0.0\n",
      "current_owned_toyota_fullsizesuv_ind 0.0\n",
      "current_owned_toyota_hybrid_ind 0.0\n",
      "current_owned_toyota_midsizesuv_ind 0.0\n",
      "current_owned_toyota_sportscar_ind 0.0\n",
      "current_owned_toyota_subcompact_ind 0.0\n",
      "past_owned_toyota_4wd_ind 0.000747669796690217\n",
      "past_owned_toyota_suv_ind 0.0\n",
      "driver_ind 0.008111954381108078\n",
      "sales_survey_ind 0.0017696579655780077\n",
      "service_survey_ind 0.0014494271891291504\n",
      "has_uss 0.0023414443005948015\n",
      "multiple_case_type_ind 0.0015664348551025402\n",
      "has_cec 0.0014246510661402997\n",
      "lhr_incomplete_lead_ind 0.0\n",
      "lhr_sweepstakes_1_permission_ind 0.00012192490569805603\n",
      "current_lead 0.0006519835232888625\n",
      "current_handraiser 0.0004667172193023826\n",
      "current_participator 0.0\n",
      "ever_lead_ind 0.0009744839193115336\n",
      "ever_handraiser_ind 0.0011416285875433705\n",
      "ever_participator_ind 1.9627707518627287e-05\n",
      "has_emd 0.0012356491251232457\n",
      "communication_received_ind 0.0007945028987019462\n",
      "campaign_received_ind 0.0011140313104670127\n",
      "offer_received_ind 0.0008890393630673963\n",
      "communication_opened_ind 0.00099826963603249\n",
      "communication_clicked_ind 0.0009234484247236712\n",
      "campaign_opened_ind 0.0008224359748182351\n",
      "campaign_clicked_ind 0.0008882246897074881\n",
      "brochure_requested_ind 0.00018907229104724496\n",
      "active_offer_ind 0.0010041006549809488\n",
      "dealer_loyalist 0.0006617515876721525\n",
      "no_ro_visit_during_tc 4.198896896920565e-05\n",
      "no_ro_visits_post_0_2_tc 0.0\n",
      "no_ro_visits_post_2_4_tc 3.149172672690425e-05\n",
      "ever_customer_payment_ind 0.0009053069044720327\n",
      "ever_warranty_payment_ind 0.00044069957409167114\n",
      "ever_service_ind 0.00013777630443020608\n",
      "ever_service_hybrid_ind 0.000321345899754813\n",
      "ever_service_lexus_sedan_ind 0.0004017105419980638\n",
      "ever_service_lexus_LUV_ind 0.022895686807905675\n",
      "customer_high_payment_ind 0.0016358322368335244\n",
      "warranty_high_payment_ind 0.0015525307199927658\n",
      "high_service_ind 0.0008253244232285513\n",
      "high_ro_time_ind 0.0009616960082637153\n",
      "current_vehicle_serviced_ind 2.714804028181391e-05\n",
      "current_vehicle_customer_full_payment_ind 0.0009745385444255518\n",
      "current_vehicle_high_service_ind 0.0008771495617667062\n",
      "current_vehicle_high_ro_time_ind 0.0012110004802551994\n",
      "has_nsh 9.886069471749635e-05\n",
      "pma_lexus_dealership_region 0.002529720839974624\n",
      "customer_language_english_ind 0.4240705548607575\n",
      "customer_language_spanish_ind 0.00016706884174311833\n",
      "no_sales_dealer_assoc 0.0015465170798419166\n",
      "days_since_last_purchase_vehicle 0.03653616565240394\n",
      "avg_zip3_vehicle_val 0.019986395892742096\n",
      "owned_hybrid_no 0.0010097706803865122\n",
      "first_purchase_vehicle_msrp 0.010790017022663441\n",
      "second_last_purchase_age 0.006891156658725224\n",
      "days_since_first_purchase_vehicle 0.01928873653960388\n",
      "no_leased_vehicle 0.002946628068360897\n",
      "last_sales_dealer_region 0.0020014895882683064\n",
      "i1_education 0.007901208841916975\n",
      "avg_no_vehicles_per_hh 0.01847441175761989\n",
      "max_value_vehicles_per_hh 0.02974174747388316\n",
      "no_of_chldrn_cd 0.0035087285646500086\n",
      "no_of_adlts_per_hh_cd 0.009075423869622404\n",
      "i1_occupation_grp_val 0.007410670150962787\n",
      "length_of_residence 0.016371648881201437\n",
      "avg_custpay_recent_vehicle 0.010849670184719341\n",
      "last_reported_mileage_recent_vehicle 0.014591800826933298\n",
      "no_ro_visits_48_60mo 0.004557122595533823\n",
      "avg_cust_pay_48_60mo 0.005587341947079781\n",
      "avg_cust_pay_36_48mo 0.007317393443204884\n",
      "avg_cust_pay_24_36mo 0.006009462598416759\n",
      "avg_ro_time_18_24mo 0.00737149712320499\n",
      "no_ro_visits_12_18mo 0.0027493009838855486\n",
      "avg_ro_time_12_18mo 0.007900442022585415\n",
      "no_ro_visits_6_12mo 0.003210627842461364\n",
      "avg_ro_time_6_12mo 0.006507673828423294\n",
      "no_ro_visits_0_6mo 0.002331157723884608\n",
      "avg_ro_time_0_6mo 0.008360224278499029\n",
      "no_servicing_dealer 0.002845675721926814\n",
      "noros_high_cust_pay_18_24mo 0.0005900396509906454\n",
      "noros_high_cust_pay_12_18mo 5.848463534996505e-05\n",
      "noros_high_cust_pay_6_12mo 0.00036819368751610584\n",
      "noros_high_cust_pay_0_6mo 0.0005870286999141067\n",
      "noros_high_ro_time_18_24mo 0.0017912038307821001\n",
      "noros_high_ro_time_12_18mo 0.0016020125720271668\n",
      "noros_high_ro_time_6_12mo 0.0015051038716930804\n",
      "noros_high_ro_time_0_6mo 0.0021448478167371706\n",
      "avg_mileage_permonth_recent_vehicle 0.014199251100312232\n",
      "est_current_mileage 0.015632320998035097\n",
      "avg_service_assoc_length 0.017707680224219365\n",
      "last_serviced_dealer_no 0.012823681503934833\n",
      "last_serviced_dealer_region 0.0030326720705414834\n",
      "pma_toy_scion_dealership_cd 0.015486930732888166\n",
      "pma_toy_scion_dealership_region 0.006334199908119922\n",
      "pma_lexus_dealership_cd 0.013228528068329803\n"
     ]
    }
   ],
   "source": [
    "for name, importance in zip(X_h5.columns, dt.feature_importances_):\n",
    "    print(name, importance)"
   ]
  },
  {
   "cell_type": "markdown",
   "metadata": {},
   "source": [
    "### Random Forest"
   ]
  },
  {
   "cell_type": "code",
   "execution_count": 162,
   "metadata": {},
   "outputs": [
    {
     "name": "stdout",
     "output_type": "stream",
     "text": [
      "Loaded RF tree model ::  RandomForestClassifier(bootstrap=True, class_weight=None, criterion='gini',\n",
      "            max_depth=None, max_features='auto', max_leaf_nodes=None,\n",
      "            min_impurity_decrease=0.0, min_impurity_split=None,\n",
      "            min_samples_leaf=20, min_samples_split=40,\n",
      "            min_weight_fraction_leaf=0.0, n_estimators=50, n_jobs=-1,\n",
      "            oob_score=False, random_state=42, verbose=0, warm_start=False)\n"
     ]
    }
   ],
   "source": [
    "rf_pkl_filename = os.path.join(mlobjects+'rf.pkl')\n",
    "rf_pkl = open(rf_pkl_filename, 'rb')\n",
    "rf = pickle.load(rf_pkl)\n",
    "print (\"Loaded RF tree model :: \", rf)"
   ]
  },
  {
   "cell_type": "code",
   "execution_count": 165,
   "metadata": {},
   "outputs": [
    {
     "name": "stdout",
     "output_type": "stream",
     "text": [
      "confusion_matrix  [[4196582  829932]\n",
      " [  19312   25129]]\n"
     ]
    }
   ],
   "source": [
    "#confusion_matrix\n",
    "\n",
    "print('confusion_matrix ', confusion_matrix(y_h5, rf.predict(X_h5)))"
   ]
  },
  {
   "cell_type": "code",
   "execution_count": 166,
   "metadata": {},
   "outputs": [
    {
     "name": "stdout",
     "output_type": "stream",
     "text": [
      "roc_auc_score 78.71725563999871\n"
     ]
    }
   ],
   "source": [
    "#roc_auc_score\n",
    "y_pred_proba_rf = rf.predict_proba(X_h5)[:,1]\n",
    "roc= roc_auc_score(y_h5, y_pred_proba_rf) * 100\n",
    "print('roc_auc_score ' + str(roc))"
   ]
  },
  {
   "cell_type": "code",
   "execution_count": 167,
   "metadata": {},
   "outputs": [
    {
     "name": "stdout",
     "output_type": "stream",
     "text": [
      "active_brand 0.0016118708448338626\n",
      "association_type 0.0015416332996434534\n",
      "last_sales_dealer_markettype 0.0004038589074716195\n",
      "marital_status 0.0010558012734255668\n",
      "marital_status_confidence 0.0016433128056787744\n",
      "i1_education_confidence 0.0006414553483208116\n",
      "home_ownership 0.0006286121877979504\n",
      "presence_of_children 0.0015581689887299486\n",
      "creditcard_cd 0.00030060906943900773\n",
      "gndr_cd 0.0013993679302158391\n",
      "interest_in_fitness_cd 0.0004324670912969634\n",
      "interest_in_outdoors_cd 0.00039937595282466416\n",
      "interest_in_sports_cd 0.0008055395801777951\n",
      "interest_in_golf_cd 0.00018566003686964832\n",
      "tennis_cd 0.0\n",
      "interest_in_skiing_cd 3.195888526974744e-05\n",
      "interest_in_cultural_arts_cd 9.163896704633973e-05\n",
      "cruise_enthusiasts_cd 9.388462165730088e-05\n",
      "interest_in_music_cd 0.0005870090222960773\n",
      "musical_class_opera_big_bnd_cd 7.655816263602972e-05\n",
      "music_country_cd 9.406293061009438e-05\n",
      "music_christian_cd 1.8581797547864353e-05\n",
      "music_oldies_cd 0.0\n",
      "music_rock_cd 9.629225917295558e-05\n",
      "photography_cd 5.145822111586197e-05\n",
      "interest_in_travel_cd 0.0005859077878808123\n",
      "dwelling_type 0.00044235804619507365\n",
      "aged_parent_in_hh 0.000193984971657869\n",
      "home_business_ind 7.514618955153433e-05\n",
      "i1_business_owner_flg 5.0138380230344524e-05\n",
      "presence_of_automobile_cd 4.16685167894449e-05\n",
      "healthy_living_cd 0.00028508741358503184\n",
      "investors_cd 0.0003021360828801336\n",
      "invest_in_mutual_fund_annts_cd 0.00012435878632981615\n",
      "last_serviced_dealer_markettype 0.0003786081669815491\n",
      "pma_toy_scion_dealership_markettype 0.0007807670342035592\n",
      "pma_lexus_dealership_markettype 0.0005186512726430779\n",
      "owned_lexus_sedan_ind 0.0012181304768161246\n",
      "owned_lexus_LUV_ind 0.007844286312265912\n",
      "owned_lexus_new_luv_ind 0.0216823700861571\n",
      "owned_lexus_cpo_luv_ind 0.0005760426343751644\n",
      "owned_lexus_new_sedan_ind 0.0016260793159139579\n",
      "owned_lexus_cpo_sedan_ind 0.0005272104410733677\n",
      "owned_lexus_ind 0.00016790069109295762\n",
      "owned_corolla_ind 0.0\n",
      "owned_rav4_ind 0.0\n",
      "owned_prius_ind 0.0\n",
      "owned_suv_ind 0.0\n",
      "owned_hybrid_ind 0.0004748943865391789\n",
      "owned_big_engine_vehicle_ind 0.001403817737628\n",
      "owned_4wd_vehicle_ind 0.003199128254045816\n",
      "multiple_vehicle_type_ind 0.001742374619303451\n",
      "owned_prius_no 0.0003170935840405878\n",
      "owned_is250_ind 0.00047966094467210744\n",
      "owned_is350_ind 2.12992979969386e-05\n",
      "owned_is_ind 0.0004024903693019934\n",
      "owned_es_ind 0.0006051112600783718\n",
      "owned_rx_ind 0.012087663491229233\n",
      "owned_ls_ind 0.00014506305024497289\n",
      "owned_gs_ind 0.0002713637722414548\n",
      "owned_highlander_ind 0.0\n",
      "owned_hs250h_ind 0.0\n",
      "owned_ct200h_ind 0.00012722244254867405\n",
      "owned_white_vehicle_ind 0.00021930626965658146\n",
      "owned_black_vehicle_ind 1.4060598886351044e-05\n",
      "owned_silver_gray_vehicle_ind 0.0006132112777040062\n",
      "owned_gold_brown_orange_vehicle_ind 0.0\n",
      "owned_yellow_vehicle_ind 3.8940666722099536e-05\n",
      "owned_green_vehicle_ind 0.00010581768175104774\n",
      "owned_aqua_vehicle_ind 0.0007511149254139939\n",
      "owned_blue_vehicle_ind 0.0001323130441441735\n",
      "owned_purple_vehicle_ind 0.0\n",
      "owned_brown_vehicle_ind 0.0\n",
      "owned_gold_vehicle_ind 0.0\n",
      "owned_red_vehicle_ind 0.0\n",
      "owned_orange_vehicle_ind 0.0\n",
      "owned_other_color_vehicle_ind 0.0007089547456827627\n",
      "owned_gray_vehicle_ind 0.0\n",
      "owned_vehicle_my_1981_90_ind 0.0\n",
      "owned_vehicle_my_1991_00_ind 0.00021939335231427256\n",
      "owned_vehicle_my_2001_10_ind 0.0014030135319520554\n",
      "owned_vehicle_my_2011_20_ind 0.011250133516429377\n",
      "purchased_vehicle_last_2years_ind 0.002613479957562405\n",
      "purchased_lexus_sedan_last_2years_ind 0.0008640003750930452\n",
      "purchased_lexus_sedan_last_3years_ind 0.0023399426122262374\n",
      "purchased_lexus_LUV_last_2years_ind 0.001936124427544604\n",
      "purchased_lexus_LUV_last_3years_ind 0.007501706928923119\n",
      "purchased_lexus_last_3years_ind 0.007993687648874632\n",
      "purchased_rav4_last_3years_ind 0.0\n",
      "purchased_is_last_3years_ind 0.000304035728772512\n",
      "current_owned_lexus_sedan_ind 0.0019256767467232968\n",
      "current_owned_lexus_LUV_ind 0.03148452498125226\n",
      "current_owned_lexus_new_luv_ind 0.03327579994164852\n",
      "current_owned_lexus_new_sedan_ind 0.002838575477563402\n",
      "current_owned_lexus_cpo_luv_ind 0.0010440621225989966\n",
      "current_owned_lexus_cpo_sedan_ind 0.0005187258331142714\n",
      "current_owned_lexus_ind 0.007336402369604522\n",
      "current_owned_corolla_ind 0.0\n",
      "current_owned_rav4_ind 0.0\n",
      "current_owned_prius_ind 0.0\n",
      "current_owned_is_ind 0.00030088557426538067\n",
      "current_owned_es_ind 0.0005930388139949412\n",
      "current_owned_rx_ind 0.007166467382927475\n",
      "current_owned_ls_ind 8.855706430590432e-05\n",
      "current_owned_gs_ind 9.803198904088406e-05\n",
      "current_owned_highlander_ind 0.0\n",
      "past_owned_lexus_sedan_ind 0.0014257336828255318\n",
      "past_owned_lexus_LUV_ind 0.002086648542533272\n",
      "past_owned_lexus_new_luv_ind 0.0016698031041781018\n",
      "past_owned_lexus_new_sedan_ind 0.000841706993952496\n",
      "past_owned_lexus_cpo_luv_ind 5.084353172794965e-05\n",
      "past_owned_lexus_cpo_sedan_ind 0.00010554218328036106\n",
      "past_owned_lexus_ind 0.0034778784629014444\n",
      "past_owned_rav4_ind 0.0\n",
      "past_owned_is_ind 0.00022669973136525207\n",
      "past_owned_es_ind 0.00016243815839985223\n",
      "past_owned_rx_ind 0.000873253944190962\n",
      "past_owned_ls_ind 0.00010077139401981233\n",
      "past_owned_gs_ind 8.884862546654679e-05\n",
      "purchased_vehicle_new_ind 0.042825043488941825\n",
      "purchased_vehicle_used_ind 0.00029503569269295196\n",
      "purchased_vehicle_cpo_ind 0.0017323267416185677\n",
      "purchased_vehicle_lexus_ind 0.01588818822738514\n",
      "purchased_vehicle_suv_ind 0.0\n",
      "purchased_vehicle_hybrid_ind 0.00042544660655214353\n",
      "purchased_vehicle_big_engine_ind 0.000580381668094056\n",
      "purchased_vehicle_4wd_ind 0.0009281665100980076\n",
      "purchased_vehicle_lexus_sedan_ind 0.0010502283452689172\n",
      "purchased_vehicle_lexus_LUV_ind 0.021540998375651103\n",
      "purchased_vehicle_corolla_ind 0.0\n",
      "purchased_vehicle_rav4_ind 0.0\n",
      "purchased_vehicle_prius_ind 0.0\n",
      "first_purchase_ind 0.0007915691689195252\n",
      "first_purchase_lexus_sedan_ind 0.0004988690597869195\n",
      "first_purchase_lexus_LUV_ind 0.0006320178685263199\n",
      "first_purchase_lexus_ind 0.0015233639001693384\n",
      "first_purchase_hybrid_ind 0.0004675854392434259\n",
      "first_purchase_prius_ind 0.0\n",
      "first_purchase_big_engine_ind 0.0002074768631680808\n",
      "first_purchase_suv_ind 0.0\n",
      "dofu_year1_ind 0.02378977403911313\n",
      "dofu_year2_ind 0.001956160136464227\n",
      "dofu_year3_ind 0.00023416031724402483\n",
      "dofu_year4_ind 0.0\n",
      "dofu_year5above_ind 0.0\n",
      "tc_active_ind 0.0\n",
      "first_purchase_luxury_vehicle_ind 0.0012146588243696391\n",
      "owned_corolla_no 0.0002976744697723643\n",
      "owned_toyota_compact_ind 0.0\n",
      "owned_toyota_compactsuv_ind 0.0\n",
      "owned_toyota_fullsizesuv_ind 0.0\n",
      "owned_toyota_hybrid_ind 0.0\n",
      "owned_toyota_midsizesuv_ind 0.0\n",
      "owned_toyota_sportscar_ind 0.0\n",
      "owned_toyota_subcompact_ind 0.0\n",
      "past_owned_toyota_compactsuv_ind 0.0\n",
      "current_owned_toyota_compact_ind 0.0\n",
      "current_owned_toyota_compactsuv_ind 0.0\n",
      "current_owned_toyota_fullsizesuv_ind 0.0\n",
      "current_owned_toyota_hybrid_ind 0.0\n",
      "current_owned_toyota_midsizesuv_ind 0.0\n",
      "current_owned_toyota_sportscar_ind 0.0\n",
      "current_owned_toyota_subcompact_ind 0.0\n",
      "past_owned_toyota_4wd_ind 0.0003497829475380618\n",
      "past_owned_toyota_suv_ind 0.0\n",
      "driver_ind 0.013747770743979124\n",
      "sales_survey_ind 0.003356131658790937\n",
      "service_survey_ind 0.0016634442213535692\n",
      "has_uss 0.002301294062367387\n",
      "multiple_case_type_ind 0.0002672001819068585\n",
      "has_cec 0.00022072122206983263\n",
      "lhr_incomplete_lead_ind 0.0\n",
      "lhr_sweepstakes_1_permission_ind 0.0\n",
      "current_lead 0.00033392823979476395\n",
      "current_handraiser 3.017350972908751e-05\n",
      "current_participator 0.0\n",
      "ever_lead_ind 0.0003915175160048897\n",
      "ever_handraiser_ind 0.00010723674114940018\n",
      "ever_participator_ind 0.0\n",
      "has_emd 0.0009275472690851866\n",
      "communication_received_ind 0.0009526840486840341\n",
      "campaign_received_ind 0.0008645227616484496\n",
      "offer_received_ind 0.0009203006259893387\n",
      "communication_opened_ind 0.0008728615729117582\n",
      "communication_clicked_ind 0.0008894426452943425\n",
      "campaign_opened_ind 0.0007862673819640583\n",
      "campaign_clicked_ind 0.0008862724567435894\n",
      "brochure_requested_ind 1.0293873331713885e-05\n",
      "active_offer_ind 0.000923973103839093\n",
      "dealer_loyalist 8.32492202979861e-05\n",
      "no_ro_visit_during_tc 0.006716941527726904\n",
      "no_ro_visits_post_0_2_tc 0.00278007462990006\n",
      "no_ro_visits_post_2_4_tc 0.0032464193519117467\n",
      "ever_customer_payment_ind 0.0005729213055213949\n",
      "ever_warranty_payment_ind 0.01412698566571421\n",
      "ever_service_ind 0.0021359288127699703\n",
      "ever_service_hybrid_ind 0.0002470808776767879\n",
      "ever_service_lexus_sedan_ind 0.0010029051289085463\n",
      "ever_service_lexus_LUV_ind 0.01735934557154936\n",
      "customer_high_payment_ind 0.00047255201645812696\n",
      "warranty_high_payment_ind 0.00038362980256740454\n",
      "high_service_ind 0.0011020753403449507\n",
      "high_ro_time_ind 0.0007782931928149509\n",
      "current_vehicle_serviced_ind 0.008106539790317328\n",
      "current_vehicle_customer_full_payment_ind 0.00046587162674056084\n",
      "current_vehicle_high_service_ind 0.0008670636822144144\n",
      "current_vehicle_high_ro_time_ind 0.0006976235100085253\n",
      "has_nsh 0.006138964791444887\n",
      "pma_lexus_dealership_region 0.0021689510419119805\n",
      "customer_language_english_ind 0.30991425340847445\n",
      "customer_language_spanish_ind 0.0\n",
      "no_sales_dealer_assoc 0.0015307588167113035\n",
      "days_since_last_purchase_vehicle 0.04418271520910917\n",
      "avg_zip3_vehicle_val 0.0057198497268774766\n",
      "owned_hybrid_no 0.0007777599224916772\n",
      "first_purchase_vehicle_msrp 0.005700530497894492\n",
      "second_last_purchase_age 0.00868825033577015\n",
      "days_since_first_purchase_vehicle 0.015306602141643554\n",
      "no_leased_vehicle 0.0009609046437650759\n",
      "last_sales_dealer_region 0.0027698622691926674\n",
      "i1_education 0.002049215807903598\n",
      "avg_no_vehicles_per_hh 0.004783916392425937\n",
      "max_value_vehicles_per_hh 0.017210606862065502\n",
      "no_of_chldrn_cd 0.0005904120047718742\n",
      "no_of_adlts_per_hh_cd 0.002298747943095837\n",
      "i1_occupation_grp_val 0.0029821014435269647\n",
      "length_of_residence 0.005056632473207811\n",
      "avg_custpay_recent_vehicle 0.005969002189550477\n",
      "last_reported_mileage_recent_vehicle 0.013302201340280569\n",
      "no_ro_visits_48_60mo 0.005077983890463186\n",
      "avg_cust_pay_48_60mo 0.002736011500559829\n",
      "avg_cust_pay_36_48mo 0.0031772841603073393\n",
      "avg_cust_pay_24_36mo 0.002894080188790116\n",
      "avg_ro_time_18_24mo 0.006868778944109082\n",
      "no_ro_visits_12_18mo 0.005267241541448617\n",
      "avg_ro_time_12_18mo 0.004864109688081045\n",
      "no_ro_visits_6_12mo 0.006050012500652203\n",
      "avg_ro_time_6_12mo 0.007568745630767731\n",
      "no_ro_visits_0_6mo 0.0068868984987075265\n",
      "avg_ro_time_0_6mo 0.005414129556333214\n",
      "no_servicing_dealer 0.0010846822141965962\n",
      "noros_high_cust_pay_18_24mo 0.0028088776550972\n",
      "noros_high_cust_pay_12_18mo 0.0026445065857347637\n",
      "noros_high_cust_pay_6_12mo 0.0002740099633823164\n",
      "noros_high_cust_pay_0_6mo 0.0004850272426065664\n",
      "noros_high_ro_time_18_24mo 0.0012461743561609593\n",
      "noros_high_ro_time_12_18mo 0.001725817447742573\n",
      "noros_high_ro_time_6_12mo 0.0019109911696663802\n",
      "noros_high_ro_time_0_6mo 0.005032465176237361\n",
      "avg_mileage_permonth_recent_vehicle 0.006952781642743432\n",
      "est_current_mileage 0.014221523340377655\n",
      "avg_service_assoc_length 0.006322986801359846\n",
      "last_serviced_dealer_no 0.005232085537440256\n",
      "last_serviced_dealer_region 0.002090193776584573\n",
      "pma_toy_scion_dealership_cd 0.0058987766111718055\n",
      "pma_toy_scion_dealership_region 0.0036166030984266756\n",
      "pma_lexus_dealership_cd 0.00547964049593076\n"
     ]
    }
   ],
   "source": [
    "for name, importance in zip(X_h5.columns, rf.feature_importances_):\n",
    "    print(name, importance)"
   ]
  },
  {
   "cell_type": "markdown",
   "metadata": {},
   "source": [
    "### Adaboost"
   ]
  },
  {
   "cell_type": "code",
   "execution_count": 168,
   "metadata": {},
   "outputs": [
    {
     "name": "stdout",
     "output_type": "stream",
     "text": [
      "Loaded Adaboost model ::  AdaBoostClassifier(algorithm='SAMME.R', base_estimator=None,\n",
      "          learning_rate=1.0, n_estimators=50, random_state=None)\n"
     ]
    }
   ],
   "source": [
    "adaboost_pkl_filename = os.path.join(mlobjects+'adaboost.pkl')\n",
    "adaboost_pkl = open(adaboost_pkl_filename, 'rb')\n",
    "adaboost = pickle.load(adaboost_pkl)\n",
    "print (\"Loaded Adaboost model :: \", adaboost)"
   ]
  },
  {
   "cell_type": "code",
   "execution_count": 169,
   "metadata": {},
   "outputs": [],
   "source": [
    "y_pred_ada= adaboost.predict(X_h5)"
   ]
  },
  {
   "cell_type": "code",
   "execution_count": 170,
   "metadata": {},
   "outputs": [
    {
     "name": "stdout",
     "output_type": "stream",
     "text": [
      "confusion_matrix  [[4222293  804221]\n",
      " [  20729   23712]]\n"
     ]
    }
   ],
   "source": [
    "#confusion_matrix\n",
    "\n",
    "print('confusion_matrix ', confusion_matrix(y_h5, y_pred_ada))"
   ]
  },
  {
   "cell_type": "code",
   "execution_count": 174,
   "metadata": {},
   "outputs": [
    {
     "name": "stdout",
     "output_type": "stream",
     "text": [
      "roc_auc_score 77.41474240130988\n"
     ]
    }
   ],
   "source": [
    "#roc_auc_score\n",
    "y_pred_proba_ada = adaboost.predict_proba(X_h5)[:,1]\n",
    "roc= roc_auc_score(y_h5, y_pred_proba_ada) * 100\n",
    "print('roc_auc_score ' + str(roc))"
   ]
  },
  {
   "cell_type": "code",
   "execution_count": 175,
   "metadata": {},
   "outputs": [
    {
     "name": "stdout",
     "output_type": "stream",
     "text": [
      "active_brand 0.02\n",
      "association_type 0.0\n",
      "last_sales_dealer_markettype 0.0\n",
      "marital_status 0.0\n",
      "marital_status_confidence 0.0\n",
      "i1_education_confidence 0.0\n",
      "home_ownership 0.0\n",
      "presence_of_children 0.0\n",
      "creditcard_cd 0.0\n",
      "gndr_cd 0.0\n",
      "interest_in_fitness_cd 0.0\n",
      "interest_in_outdoors_cd 0.0\n",
      "interest_in_sports_cd 0.0\n",
      "interest_in_golf_cd 0.0\n",
      "tennis_cd 0.0\n",
      "interest_in_skiing_cd 0.0\n",
      "interest_in_cultural_arts_cd 0.0\n",
      "cruise_enthusiasts_cd 0.0\n",
      "interest_in_music_cd 0.0\n",
      "musical_class_opera_big_bnd_cd 0.0\n",
      "music_country_cd 0.0\n",
      "music_christian_cd 0.0\n",
      "music_oldies_cd 0.0\n",
      "music_rock_cd 0.0\n",
      "photography_cd 0.0\n",
      "interest_in_travel_cd 0.0\n",
      "dwelling_type 0.0\n",
      "aged_parent_in_hh 0.0\n",
      "home_business_ind 0.0\n",
      "i1_business_owner_flg 0.0\n",
      "presence_of_automobile_cd 0.0\n",
      "healthy_living_cd 0.0\n",
      "investors_cd 0.0\n",
      "invest_in_mutual_fund_annts_cd 0.0\n",
      "last_serviced_dealer_markettype 0.0\n",
      "pma_toy_scion_dealership_markettype 0.0\n",
      "pma_lexus_dealership_markettype 0.0\n",
      "owned_lexus_sedan_ind 0.0\n",
      "owned_lexus_LUV_ind 0.0\n",
      "owned_lexus_new_luv_ind 0.0\n",
      "owned_lexus_cpo_luv_ind 0.0\n",
      "owned_lexus_new_sedan_ind 0.0\n",
      "owned_lexus_cpo_sedan_ind 0.0\n",
      "owned_lexus_ind 0.0\n",
      "owned_corolla_ind 0.0\n",
      "owned_rav4_ind 0.0\n",
      "owned_prius_ind 0.0\n",
      "owned_suv_ind 0.0\n",
      "owned_hybrid_ind 0.0\n",
      "owned_big_engine_vehicle_ind 0.0\n",
      "owned_4wd_vehicle_ind 0.0\n",
      "multiple_vehicle_type_ind 0.0\n",
      "owned_prius_no 0.0\n",
      "owned_is250_ind 0.0\n",
      "owned_is350_ind 0.0\n",
      "owned_is_ind 0.0\n",
      "owned_es_ind 0.0\n",
      "owned_rx_ind 0.0\n",
      "owned_ls_ind 0.0\n",
      "owned_gs_ind 0.0\n",
      "owned_highlander_ind 0.0\n",
      "owned_hs250h_ind 0.0\n",
      "owned_ct200h_ind 0.0\n",
      "owned_white_vehicle_ind 0.0\n",
      "owned_black_vehicle_ind 0.0\n",
      "owned_silver_gray_vehicle_ind 0.02\n",
      "owned_gold_brown_orange_vehicle_ind 0.0\n",
      "owned_yellow_vehicle_ind 0.0\n",
      "owned_green_vehicle_ind 0.0\n",
      "owned_aqua_vehicle_ind 0.02\n",
      "owned_blue_vehicle_ind 0.0\n",
      "owned_purple_vehicle_ind 0.0\n",
      "owned_brown_vehicle_ind 0.0\n",
      "owned_gold_vehicle_ind 0.0\n",
      "owned_red_vehicle_ind 0.0\n",
      "owned_orange_vehicle_ind 0.0\n",
      "owned_other_color_vehicle_ind 0.0\n",
      "owned_gray_vehicle_ind 0.0\n",
      "owned_vehicle_my_1981_90_ind 0.0\n",
      "owned_vehicle_my_1991_00_ind 0.0\n",
      "owned_vehicle_my_2001_10_ind 0.0\n",
      "owned_vehicle_my_2011_20_ind 0.0\n",
      "purchased_vehicle_last_2years_ind 0.0\n",
      "purchased_lexus_sedan_last_2years_ind 0.02\n",
      "purchased_lexus_sedan_last_3years_ind 0.0\n",
      "purchased_lexus_LUV_last_2years_ind 0.02\n",
      "purchased_lexus_LUV_last_3years_ind 0.02\n",
      "purchased_lexus_last_3years_ind 0.0\n",
      "purchased_rav4_last_3years_ind 0.0\n",
      "purchased_is_last_3years_ind 0.02\n",
      "current_owned_lexus_sedan_ind 0.0\n",
      "current_owned_lexus_LUV_ind 0.0\n",
      "current_owned_lexus_new_luv_ind 0.02\n",
      "current_owned_lexus_new_sedan_ind 0.0\n",
      "current_owned_lexus_cpo_luv_ind 0.0\n",
      "current_owned_lexus_cpo_sedan_ind 0.0\n",
      "current_owned_lexus_ind 0.0\n",
      "current_owned_corolla_ind 0.0\n",
      "current_owned_rav4_ind 0.0\n",
      "current_owned_prius_ind 0.0\n",
      "current_owned_is_ind 0.0\n",
      "current_owned_es_ind 0.02\n",
      "current_owned_rx_ind 0.0\n",
      "current_owned_ls_ind 0.0\n",
      "current_owned_gs_ind 0.0\n",
      "current_owned_highlander_ind 0.0\n",
      "past_owned_lexus_sedan_ind 0.0\n",
      "past_owned_lexus_LUV_ind 0.0\n",
      "past_owned_lexus_new_luv_ind 0.0\n",
      "past_owned_lexus_new_sedan_ind 0.0\n",
      "past_owned_lexus_cpo_luv_ind 0.0\n",
      "past_owned_lexus_cpo_sedan_ind 0.0\n",
      "past_owned_lexus_ind 0.0\n",
      "past_owned_rav4_ind 0.0\n",
      "past_owned_is_ind 0.0\n",
      "past_owned_es_ind 0.0\n",
      "past_owned_rx_ind 0.0\n",
      "past_owned_ls_ind 0.0\n",
      "past_owned_gs_ind 0.0\n",
      "purchased_vehicle_new_ind 0.0\n",
      "purchased_vehicle_used_ind 0.02\n",
      "purchased_vehicle_cpo_ind 0.0\n",
      "purchased_vehicle_lexus_ind 0.0\n",
      "purchased_vehicle_suv_ind 0.0\n",
      "purchased_vehicle_hybrid_ind 0.0\n",
      "purchased_vehicle_big_engine_ind 0.0\n",
      "purchased_vehicle_4wd_ind 0.0\n",
      "purchased_vehicle_lexus_sedan_ind 0.0\n",
      "purchased_vehicle_lexus_LUV_ind 0.0\n",
      "purchased_vehicle_corolla_ind 0.0\n",
      "purchased_vehicle_rav4_ind 0.0\n",
      "purchased_vehicle_prius_ind 0.0\n",
      "first_purchase_ind 0.0\n",
      "first_purchase_lexus_sedan_ind 0.0\n",
      "first_purchase_lexus_LUV_ind 0.0\n",
      "first_purchase_lexus_ind 0.0\n",
      "first_purchase_hybrid_ind 0.0\n",
      "first_purchase_prius_ind 0.0\n",
      "first_purchase_big_engine_ind 0.0\n",
      "first_purchase_suv_ind 0.0\n",
      "dofu_year1_ind 0.0\n",
      "dofu_year2_ind 0.0\n",
      "dofu_year3_ind 0.0\n",
      "dofu_year4_ind 0.0\n",
      "dofu_year5above_ind 0.0\n",
      "tc_active_ind 0.0\n",
      "first_purchase_luxury_vehicle_ind 0.0\n",
      "owned_corolla_no 0.0\n",
      "owned_toyota_compact_ind 0.0\n",
      "owned_toyota_compactsuv_ind 0.0\n",
      "owned_toyota_fullsizesuv_ind 0.0\n",
      "owned_toyota_hybrid_ind 0.0\n",
      "owned_toyota_midsizesuv_ind 0.0\n",
      "owned_toyota_sportscar_ind 0.0\n",
      "owned_toyota_subcompact_ind 0.0\n",
      "past_owned_toyota_compactsuv_ind 0.0\n",
      "current_owned_toyota_compact_ind 0.0\n",
      "current_owned_toyota_compactsuv_ind 0.0\n",
      "current_owned_toyota_fullsizesuv_ind 0.0\n",
      "current_owned_toyota_hybrid_ind 0.0\n",
      "current_owned_toyota_midsizesuv_ind 0.0\n",
      "current_owned_toyota_sportscar_ind 0.0\n",
      "current_owned_toyota_subcompact_ind 0.0\n",
      "past_owned_toyota_4wd_ind 0.0\n",
      "past_owned_toyota_suv_ind 0.0\n",
      "driver_ind 0.02\n",
      "sales_survey_ind 0.0\n",
      "service_survey_ind 0.0\n",
      "has_uss 0.02\n",
      "multiple_case_type_ind 0.0\n",
      "has_cec 0.0\n",
      "lhr_incomplete_lead_ind 0.0\n",
      "lhr_sweepstakes_1_permission_ind 0.0\n",
      "current_lead 0.0\n",
      "current_handraiser 0.0\n",
      "current_participator 0.0\n",
      "ever_lead_ind 0.02\n",
      "ever_handraiser_ind 0.0\n",
      "ever_participator_ind 0.0\n",
      "has_emd 0.0\n",
      "communication_received_ind 0.02\n",
      "campaign_received_ind 0.0\n",
      "offer_received_ind 0.0\n",
      "communication_opened_ind 0.0\n",
      "communication_clicked_ind 0.0\n",
      "campaign_opened_ind 0.0\n",
      "campaign_clicked_ind 0.02\n",
      "brochure_requested_ind 0.02\n",
      "active_offer_ind 0.0\n",
      "dealer_loyalist 0.0\n",
      "no_ro_visit_during_tc 0.0\n",
      "no_ro_visits_post_0_2_tc 0.0\n",
      "no_ro_visits_post_2_4_tc 0.0\n",
      "ever_customer_payment_ind 0.0\n",
      "ever_warranty_payment_ind 0.0\n",
      "ever_service_ind 0.0\n",
      "ever_service_hybrid_ind 0.0\n",
      "ever_service_lexus_sedan_ind 0.0\n",
      "ever_service_lexus_LUV_ind 0.04\n",
      "customer_high_payment_ind 0.0\n",
      "warranty_high_payment_ind 0.0\n",
      "high_service_ind 0.0\n",
      "high_ro_time_ind 0.0\n",
      "current_vehicle_serviced_ind 0.0\n",
      "current_vehicle_customer_full_payment_ind 0.0\n",
      "current_vehicle_high_service_ind 0.0\n",
      "current_vehicle_high_ro_time_ind 0.0\n",
      "has_nsh 0.0\n",
      "pma_lexus_dealership_region 0.0\n",
      "customer_language_english_ind 0.04\n",
      "customer_language_spanish_ind 0.02\n",
      "no_sales_dealer_assoc 0.0\n",
      "days_since_last_purchase_vehicle 0.1\n",
      "avg_zip3_vehicle_val 0.02\n",
      "owned_hybrid_no 0.0\n",
      "first_purchase_vehicle_msrp 0.0\n",
      "second_last_purchase_age 0.0\n",
      "days_since_first_purchase_vehicle 0.02\n",
      "no_leased_vehicle 0.02\n",
      "last_sales_dealer_region 0.02\n",
      "i1_education 0.0\n",
      "avg_no_vehicles_per_hh 0.0\n",
      "max_value_vehicles_per_hh 0.2\n",
      "no_of_chldrn_cd 0.0\n",
      "no_of_adlts_per_hh_cd 0.0\n",
      "i1_occupation_grp_val 0.0\n",
      "length_of_residence 0.02\n",
      "avg_custpay_recent_vehicle 0.0\n",
      "last_reported_mileage_recent_vehicle 0.06\n",
      "no_ro_visits_48_60mo 0.02\n",
      "avg_cust_pay_48_60mo 0.0\n",
      "avg_cust_pay_36_48mo 0.0\n",
      "avg_cust_pay_24_36mo 0.0\n",
      "avg_ro_time_18_24mo 0.0\n",
      "no_ro_visits_12_18mo 0.0\n",
      "avg_ro_time_12_18mo 0.0\n",
      "no_ro_visits_6_12mo 0.0\n",
      "avg_ro_time_6_12mo 0.02\n",
      "no_ro_visits_0_6mo 0.02\n",
      "avg_ro_time_0_6mo 0.0\n",
      "no_servicing_dealer 0.0\n",
      "noros_high_cust_pay_18_24mo 0.0\n",
      "noros_high_cust_pay_12_18mo 0.0\n",
      "noros_high_cust_pay_6_12mo 0.0\n",
      "noros_high_cust_pay_0_6mo 0.0\n",
      "noros_high_ro_time_18_24mo 0.0\n",
      "noros_high_ro_time_12_18mo 0.0\n",
      "noros_high_ro_time_6_12mo 0.0\n",
      "noros_high_ro_time_0_6mo 0.02\n",
      "avg_mileage_permonth_recent_vehicle 0.02\n",
      "est_current_mileage 0.0\n",
      "avg_service_assoc_length 0.0\n",
      "last_serviced_dealer_no 0.02\n",
      "last_serviced_dealer_region 0.0\n",
      "pma_toy_scion_dealership_cd 0.0\n",
      "pma_toy_scion_dealership_region 0.0\n",
      "pma_lexus_dealership_cd 0.0\n"
     ]
    }
   ],
   "source": [
    "for name, importance in zip(X_h5.columns, adaboost.feature_importances_):\n",
    "    print(name, importance)"
   ]
  },
  {
   "cell_type": "code",
   "execution_count": 141,
   "metadata": {},
   "outputs": [
    {
     "data": {
      "image/png": "[encoded data removed]",
      "text/plain": [
       "<Figure size 432x288 with 1 Axes>"
      ]
     },
     "metadata": {},
     "output_type": "display_data"
    }
   ],
   "source": [
    "#roc_curve\n",
    "y_pred_proba_ada = dt.predict_proba(sample_X)[:,1]\n",
    "false_positive_rate, true_positive_rate, thresholds = roc_curve(y_true=sample_y, y_score=y_pred_proba_ada)\n",
    "plt.plot([0,1],[0,1],'k--')\n",
    "plt.plot(false_positive_rate,true_positive_rate, label='Decision Tree')\n",
    "plt.xlabel('false_positive_rate')\n",
    "plt.ylabel('true_positive_rate')\n",
    "plt.title('ROC curve of Decision Tree' )\n",
    "plt.show()"
   ]
  },
  {
   "cell_type": "markdown",
   "metadata": {},
   "source": [
    "### SGD\n"
   ]
  },
  {
   "cell_type": "code",
   "execution_count": 188,
   "metadata": {},
   "outputs": [
    {
     "name": "stdout",
     "output_type": "stream",
     "text": [
      "Loaded sgd model ::  SGDClassifier(alpha=0.0001, average=False, class_weight=None,\n",
      "       early_stopping=False, epsilon=0.1, eta0=0.0, fit_intercept=True,\n",
      "       l1_ratio=0.15, learning_rate='optimal', loss='log', max_iter=1000,\n",
      "       n_iter=None, n_iter_no_change=5, n_jobs=-1, penalty='l2',\n",
      "       power_t=0.5, random_state=42, shuffle=True, tol=None,\n",
      "       validation_fraction=0.1, verbose=0, warm_start=False)\n"
     ]
    }
   ],
   "source": [
    "sgd_pkl_filename = os.path.join(mlobjects+'SGD.pkl')\n",
    "sgd_pkl = open(sgd_pkl_filename, 'rb')\n",
    "sgd = pickle.load(sgd_pkl)\n",
    "print (\"Loaded sgd model :: \", sgd)"
   ]
  },
  {
   "cell_type": "code",
   "execution_count": 189,
   "metadata": {},
   "outputs": [],
   "source": [
    "y_pred_sgd= sgd.predict(X_h5)"
   ]
  },
  {
   "cell_type": "code",
   "execution_count": 190,
   "metadata": {},
   "outputs": [
    {
     "name": "stdout",
     "output_type": "stream",
     "text": [
      "confusion_matrix  [[3365496 1661018]\n",
      " [  12102   32339]]\n"
     ]
    }
   ],
   "source": [
    "#confusion_matrix\n",
    "\n",
    "print('confusion_matrix ', confusion_matrix(y_h5, y_pred_sgd))"
   ]
  },
  {
   "cell_type": "code",
   "execution_count": 191,
   "metadata": {},
   "outputs": [
    {
     "name": "stdout",
     "output_type": "stream",
     "text": [
      "roc_auc_score 70.12935508495029\n"
     ]
    }
   ],
   "source": [
    "#roc_auc_score\n",
    "y_pred_proba_sgd = sgd.predict_proba(X_h5)[:,1]\n",
    "roc= roc_auc_score(y_h5, y_pred_proba_sgd) * 100\n",
    "print('roc_auc_score ' + str(roc))"
   ]
  },
  {
   "cell_type": "code",
   "execution_count": null,
   "metadata": {},
   "outputs": [],
   "source": []
  },
  {
   "cell_type": "markdown",
   "metadata": {},
   "source": [
    "### XGB\n"
   ]
  },
  {
   "cell_type": "code",
   "execution_count": 177,
   "metadata": {},
   "outputs": [
    {
     "name": "stdout",
     "output_type": "stream",
     "text": [
      "Loaded XGB model ::  XGBClassifier(base_score=0.5, booster='gbtree', colsample_bylevel=1,\n",
      "       colsample_bytree=1, gamma=0, learning_rate=0.1, max_delta_step=0,\n",
      "       max_depth=3, min_child_weight=1, missing=0, n_estimators=100,\n",
      "       n_jobs=-1, nthread=None, objective='binary:logistic',\n",
      "       random_state=42, reg_alpha=0, reg_lambda=1, scale_pos_weight=1,\n",
      "       seed=None, silent=True, subsample=1)\n"
     ]
    }
   ],
   "source": [
    "xgb_pkl_filename = os.path.join(mlobjects+'xgb.pkl')\n",
    "xgb_pkl = open(xgb_pkl_filename, 'rb')\n",
    "xgb = pickle.load(xgb_pkl)\n",
    "print (\"Loaded XGB model :: \", xgb)"
   ]
  },
  {
   "cell_type": "code",
   "execution_count": 178,
   "metadata": {},
   "outputs": [],
   "source": [
    "y_pred_xgb= xgb.predict(X_h5)"
   ]
  },
  {
   "cell_type": "code",
   "execution_count": 179,
   "metadata": {},
   "outputs": [
    {
     "name": "stdout",
     "output_type": "stream",
     "text": [
      "confusion_matrix  [[4483807  542707]\n",
      " [  25644   18797]]\n"
     ]
    }
   ],
   "source": [
    "#confusion_matrix\n",
    "\n",
    "print('confusion_matrix ', confusion_matrix(y_h5, y_pred_xgb))"
   ]
  },
  {
   "cell_type": "code",
   "execution_count": 180,
   "metadata": {},
   "outputs": [
    {
     "name": "stdout",
     "output_type": "stream",
     "text": [
      "roc_auc_score 77.40592580569363\n"
     ]
    }
   ],
   "source": [
    "#roc_auc_score\n",
    "y_pred_proba_xgb = xgb.predict_proba(X_h5)[:,1]\n",
    "roc= roc_auc_score(y_h5, y_pred_proba_xgb) * 100\n",
    "print('roc_auc_score ' + str(roc))"
   ]
  },
  {
   "cell_type": "code",
   "execution_count": 182,
   "metadata": {},
   "outputs": [
    {
     "name": "stdout",
     "output_type": "stream",
     "text": [
      "active_brand 0.004297994\n",
      "association_type 0.015759312\n",
      "last_sales_dealer_markettype 0.0\n",
      "marital_status 0.0\n",
      "marital_status_confidence 0.0014326648\n",
      "i1_education_confidence 0.0\n",
      "home_ownership 0.0028653296\n",
      "presence_of_children 0.0\n",
      "creditcard_cd 0.0\n",
      "gndr_cd 0.0057306592\n",
      "interest_in_fitness_cd 0.0\n",
      "interest_in_outdoors_cd 0.0\n",
      "interest_in_sports_cd 0.0\n",
      "interest_in_golf_cd 0.0\n",
      "tennis_cd 0.0\n",
      "interest_in_skiing_cd 0.0\n",
      "interest_in_cultural_arts_cd 0.0\n",
      "cruise_enthusiasts_cd 0.0\n",
      "interest_in_music_cd 0.0\n",
      "musical_class_opera_big_bnd_cd 0.0\n",
      "music_country_cd 0.0\n",
      "music_christian_cd 0.0\n",
      "music_oldies_cd 0.0\n",
      "music_rock_cd 0.0\n",
      "photography_cd 0.0\n",
      "interest_in_travel_cd 0.0\n",
      "dwelling_type 0.0\n",
      "aged_parent_in_hh 0.0\n",
      "home_business_ind 0.0\n",
      "i1_business_owner_flg 0.0\n",
      "presence_of_automobile_cd 0.0\n",
      "healthy_living_cd 0.0\n",
      "investors_cd 0.0\n",
      "invest_in_mutual_fund_annts_cd 0.0\n",
      "last_serviced_dealer_markettype 0.0\n",
      "pma_toy_scion_dealership_markettype 0.0\n",
      "pma_lexus_dealership_markettype 0.0\n",
      "owned_lexus_sedan_ind 0.0\n",
      "owned_lexus_LUV_ind 0.0028653296\n",
      "owned_lexus_new_luv_ind 0.014326648\n",
      "owned_lexus_cpo_luv_ind 0.0\n",
      "owned_lexus_new_sedan_ind 0.0\n",
      "owned_lexus_cpo_sedan_ind 0.0\n",
      "owned_lexus_ind 0.004297994\n",
      "owned_corolla_ind 0.0\n",
      "owned_rav4_ind 0.0\n",
      "owned_prius_ind 0.0\n",
      "owned_suv_ind 0.0\n",
      "owned_hybrid_ind 0.0\n",
      "owned_big_engine_vehicle_ind 0.007163324\n",
      "owned_4wd_vehicle_ind 0.0\n",
      "multiple_vehicle_type_ind 0.0\n",
      "owned_prius_no 0.0\n",
      "owned_is250_ind 0.0028653296\n",
      "owned_is350_ind 0.0\n",
      "owned_is_ind 0.0\n",
      "owned_es_ind 0.0028653296\n",
      "owned_rx_ind 0.0114613185\n",
      "owned_ls_ind 0.0\n",
      "owned_gs_ind 0.0\n",
      "owned_highlander_ind 0.0\n",
      "owned_hs250h_ind 0.0\n",
      "owned_ct200h_ind 0.0014326648\n",
      "owned_white_vehicle_ind 0.0\n",
      "owned_black_vehicle_ind 0.0\n",
      "owned_silver_gray_vehicle_ind 0.0057306592\n",
      "owned_gold_brown_orange_vehicle_ind 0.0\n",
      "owned_yellow_vehicle_ind 0.0\n",
      "owned_green_vehicle_ind 0.0\n",
      "owned_aqua_vehicle_ind 0.0014326648\n",
      "owned_blue_vehicle_ind 0.0\n",
      "owned_purple_vehicle_ind 0.0\n",
      "owned_brown_vehicle_ind 0.0\n",
      "owned_gold_vehicle_ind 0.0\n",
      "owned_red_vehicle_ind 0.0\n",
      "owned_orange_vehicle_ind 0.0\n",
      "owned_other_color_vehicle_ind 0.0028653296\n",
      "owned_gray_vehicle_ind 0.0\n",
      "owned_vehicle_my_1981_90_ind 0.0\n",
      "owned_vehicle_my_1991_00_ind 0.0\n",
      "owned_vehicle_my_2001_10_ind 0.0\n",
      "owned_vehicle_my_2011_20_ind 0.004297994\n",
      "purchased_vehicle_last_2years_ind 0.0028653296\n",
      "purchased_lexus_sedan_last_2years_ind 0.004297994\n",
      "purchased_lexus_sedan_last_3years_ind 0.0\n",
      "purchased_lexus_LUV_last_2years_ind 0.0028653296\n",
      "purchased_lexus_LUV_last_3years_ind 0.008595988\n",
      "purchased_lexus_last_3years_ind 0.0057306592\n",
      "purchased_rav4_last_3years_ind 0.0\n",
      "purchased_is_last_3years_ind 0.0014326648\n",
      "current_owned_lexus_sedan_ind 0.0\n",
      "current_owned_lexus_LUV_ind 0.014326648\n",
      "current_owned_lexus_new_luv_ind 0.025787966\n",
      "current_owned_lexus_new_sedan_ind 0.0014326648\n",
      "current_owned_lexus_cpo_luv_ind 0.0\n",
      "current_owned_lexus_cpo_sedan_ind 0.0\n",
      "current_owned_lexus_ind 0.0\n",
      "current_owned_corolla_ind 0.0\n",
      "current_owned_rav4_ind 0.0\n",
      "current_owned_prius_ind 0.0\n",
      "current_owned_is_ind 0.0\n",
      "current_owned_es_ind 0.004297994\n",
      "current_owned_rx_ind 0.0\n",
      "current_owned_ls_ind 0.0\n",
      "current_owned_gs_ind 0.0014326648\n",
      "current_owned_highlander_ind 0.0\n",
      "past_owned_lexus_sedan_ind 0.0014326648\n",
      "past_owned_lexus_LUV_ind 0.0014326648\n",
      "past_owned_lexus_new_luv_ind 0.0\n",
      "past_owned_lexus_new_sedan_ind 0.0028653296\n",
      "past_owned_lexus_cpo_luv_ind 0.0\n",
      "past_owned_lexus_cpo_sedan_ind 0.0\n",
      "past_owned_lexus_ind 0.0\n",
      "past_owned_rav4_ind 0.0\n",
      "past_owned_is_ind 0.0\n",
      "past_owned_es_ind 0.0\n",
      "past_owned_rx_ind 0.0\n",
      "past_owned_ls_ind 0.0\n",
      "past_owned_gs_ind 0.0\n",
      "purchased_vehicle_new_ind 0.004297994\n",
      "purchased_vehicle_used_ind 0.010028653\n",
      "purchased_vehicle_cpo_ind 0.0\n",
      "purchased_vehicle_lexus_ind 0.0\n",
      "purchased_vehicle_suv_ind 0.0\n",
      "purchased_vehicle_hybrid_ind 0.0\n",
      "purchased_vehicle_big_engine_ind 0.0\n",
      "purchased_vehicle_4wd_ind 0.0014326648\n",
      "purchased_vehicle_lexus_sedan_ind 0.0\n",
      "purchased_vehicle_lexus_LUV_ind 0.010028653\n",
      "purchased_vehicle_corolla_ind 0.0\n",
      "purchased_vehicle_rav4_ind 0.0\n",
      "purchased_vehicle_prius_ind 0.0\n",
      "first_purchase_ind 0.0\n",
      "first_purchase_lexus_sedan_ind 0.0\n",
      "first_purchase_lexus_LUV_ind 0.0\n",
      "first_purchase_lexus_ind 0.0\n",
      "first_purchase_hybrid_ind 0.0\n",
      "first_purchase_prius_ind 0.0\n",
      "first_purchase_big_engine_ind 0.0\n",
      "first_purchase_suv_ind 0.0\n",
      "dofu_year1_ind 0.007163324\n",
      "dofu_year2_ind 0.0\n",
      "dofu_year3_ind 0.0\n",
      "dofu_year4_ind 0.0\n",
      "dofu_year5above_ind 0.0\n",
      "tc_active_ind 0.0\n",
      "first_purchase_luxury_vehicle_ind 0.0\n",
      "owned_corolla_no 0.0\n",
      "owned_toyota_compact_ind 0.0\n",
      "owned_toyota_compactsuv_ind 0.0\n",
      "owned_toyota_fullsizesuv_ind 0.0\n",
      "owned_toyota_hybrid_ind 0.0\n",
      "owned_toyota_midsizesuv_ind 0.0\n",
      "owned_toyota_sportscar_ind 0.0\n",
      "owned_toyota_subcompact_ind 0.0\n",
      "past_owned_toyota_compactsuv_ind 0.0\n",
      "current_owned_toyota_compact_ind 0.0\n",
      "current_owned_toyota_compactsuv_ind 0.0\n",
      "current_owned_toyota_fullsizesuv_ind 0.0\n",
      "current_owned_toyota_hybrid_ind 0.0\n",
      "current_owned_toyota_midsizesuv_ind 0.0\n",
      "current_owned_toyota_sportscar_ind 0.0\n",
      "current_owned_toyota_subcompact_ind 0.0\n",
      "past_owned_toyota_4wd_ind 0.0014326648\n",
      "past_owned_toyota_suv_ind 0.0\n",
      "driver_ind 0.05730659\n",
      "sales_survey_ind 0.0028653296\n",
      "service_survey_ind 0.0057306592\n",
      "has_uss 0.0057306592\n",
      "multiple_case_type_ind 0.0\n",
      "has_cec 0.0\n",
      "lhr_incomplete_lead_ind 0.0\n",
      "lhr_sweepstakes_1_permission_ind 0.0\n",
      "current_lead 0.0\n",
      "current_handraiser 0.0\n",
      "current_participator 0.0\n",
      "ever_lead_ind 0.0057306592\n",
      "ever_handraiser_ind 0.0057306592\n",
      "ever_participator_ind 0.0\n",
      "has_emd 0.0\n",
      "communication_received_ind 0.008595988\n",
      "campaign_received_ind 0.0\n",
      "offer_received_ind 0.0\n",
      "communication_opened_ind 0.0\n",
      "communication_clicked_ind 0.008595988\n",
      "campaign_opened_ind 0.0\n",
      "campaign_clicked_ind 0.0\n",
      "brochure_requested_ind 0.004297994\n",
      "active_offer_ind 0.0\n",
      "dealer_loyalist 0.0\n",
      "no_ro_visit_during_tc 0.0\n",
      "no_ro_visits_post_0_2_tc 0.0\n",
      "no_ro_visits_post_2_4_tc 0.0\n",
      "ever_customer_payment_ind 0.0\n",
      "ever_warranty_payment_ind 0.010028653\n",
      "ever_service_ind 0.0\n",
      "ever_service_hybrid_ind 0.0014326648\n",
      "ever_service_lexus_sedan_ind 0.0\n",
      "ever_service_lexus_LUV_ind 0.008595988\n",
      "customer_high_payment_ind 0.0\n",
      "warranty_high_payment_ind 0.0\n",
      "high_service_ind 0.0028653296\n",
      "high_ro_time_ind 0.0\n",
      "current_vehicle_serviced_ind 0.0\n",
      "current_vehicle_customer_full_payment_ind 0.0\n",
      "current_vehicle_high_service_ind 0.0\n",
      "current_vehicle_high_ro_time_ind 0.0\n",
      "has_nsh 0.0\n",
      "pma_lexus_dealership_region 0.007163324\n",
      "customer_language_english_ind 0.07020057\n",
      "customer_language_spanish_ind 0.0\n",
      "no_sales_dealer_assoc 0.0028653296\n",
      "days_since_last_purchase_vehicle 0.15186246\n",
      "avg_zip3_vehicle_val 0.022922637\n",
      "owned_hybrid_no 0.0\n",
      "first_purchase_vehicle_msrp 0.008595988\n",
      "second_last_purchase_age 0.025787966\n",
      "days_since_first_purchase_vehicle 0.028653296\n",
      "no_leased_vehicle 0.012893983\n",
      "last_sales_dealer_region 0.0014326648\n",
      "i1_education 0.0\n",
      "avg_no_vehicles_per_hh 0.004297994\n",
      "max_value_vehicles_per_hh 0.108882524\n",
      "no_of_chldrn_cd 0.0\n",
      "no_of_adlts_per_hh_cd 0.0028653296\n",
      "i1_occupation_grp_val 0.0057306592\n",
      "length_of_residence 0.021489972\n",
      "avg_custpay_recent_vehicle 0.0057306592\n",
      "last_reported_mileage_recent_vehicle 0.025787966\n",
      "no_ro_visits_48_60mo 0.017191976\n",
      "avg_cust_pay_48_60mo 0.0014326648\n",
      "avg_cust_pay_36_48mo 0.008595988\n",
      "avg_cust_pay_24_36mo 0.008595988\n",
      "avg_ro_time_18_24mo 0.008595988\n",
      "no_ro_visits_12_18mo 0.008595988\n",
      "avg_ro_time_12_18mo 0.004297994\n",
      "no_ro_visits_6_12mo 0.0\n",
      "avg_ro_time_6_12mo 0.007163324\n",
      "no_ro_visits_0_6mo 0.0028653296\n",
      "avg_ro_time_0_6mo 0.0057306592\n",
      "no_servicing_dealer 0.0\n",
      "noros_high_cust_pay_18_24mo 0.0\n",
      "noros_high_cust_pay_12_18mo 0.0\n",
      "noros_high_cust_pay_6_12mo 0.0\n",
      "noros_high_cust_pay_0_6mo 0.0\n",
      "noros_high_ro_time_18_24mo 0.0\n",
      "noros_high_ro_time_12_18mo 0.0014326648\n",
      "noros_high_ro_time_6_12mo 0.0028653296\n",
      "noros_high_ro_time_0_6mo 0.012893983\n",
      "avg_mileage_permonth_recent_vehicle 0.014326648\n",
      "est_current_mileage 0.0057306592\n",
      "avg_service_assoc_length 0.010028653\n",
      "last_serviced_dealer_no 0.010028653\n",
      "last_serviced_dealer_region 0.007163324\n",
      "pma_toy_scion_dealership_cd 0.008595988\n",
      "pma_toy_scion_dealership_region 0.0057306592\n",
      "pma_lexus_dealership_cd 0.008595988\n"
     ]
    }
   ],
   "source": [
    "for name, importance in zip(X_h5.columns, xgb.feature_importances_):\n",
    "    print(name, importance)"
   ]
  },
  {
   "cell_type": "code",
   "execution_count": null,
   "metadata": {},
   "outputs": [],
   "source": []
  },
  {
   "cell_type": "markdown",
   "metadata": {},
   "source": [
    "### MLP\n"
   ]
  },
  {
   "cell_type": "code",
   "execution_count": 192,
   "metadata": {},
   "outputs": [
    {
     "name": "stdout",
     "output_type": "stream",
     "text": [
      "Loaded MLPC model ::  MLPClassifier(activation='relu', alpha=0.0001, batch_size='auto', beta_1=0.9,\n",
      "       beta_2=0.999, early_stopping=False, epsilon=1e-08,\n",
      "       hidden_layer_sizes=(100,), learning_rate='constant',\n",
      "       learning_rate_init=0.001, max_iter=200, momentum=0.9,\n",
      "       n_iter_no_change=10, nesterovs_momentum=True, power_t=0.5,\n",
      "       random_state=None, shuffle=True, solver='adam', tol=0.0001,\n",
      "       validation_fraction=0.1, verbose=False, warm_start=False)\n"
     ]
    }
   ],
   "source": [
    "mlpc_pkl_filename = os.path.join(mlobjects+'mlpc.pkl')\n",
    "mlpc_pkl = open(mlpc_pkl_filename, 'rb')\n",
    "mlpc = pickle.load(mlpc_pkl)\n",
    "print (\"Loaded MLPC model :: \", mlpc)"
   ]
  },
  {
   "cell_type": "code",
   "execution_count": 193,
   "metadata": {},
   "outputs": [],
   "source": [
    "y_pred_mlpc= mlpc.predict(X_h5)"
   ]
  },
  {
   "cell_type": "code",
   "execution_count": 194,
   "metadata": {},
   "outputs": [
    {
     "name": "stdout",
     "output_type": "stream",
     "text": [
      "confusion_matrix  [[2932835 2093679]\n",
      " [   7499   36942]]\n"
     ]
    }
   ],
   "source": [
    "#confusion_matrix\n",
    "\n",
    "print('confusion_matrix ', confusion_matrix(y_h5, y_pred_mlpc))"
   ]
  },
  {
   "cell_type": "code",
   "execution_count": 196,
   "metadata": {},
   "outputs": [
    {
     "name": "stdout",
     "output_type": "stream",
     "text": [
      "roc_auc_score 0.7741027933284734\n"
     ]
    }
   ],
   "source": [
    "#roc_auc_score\n",
    "y_pred_proba_mlpc = mlpc.predict_proba(X_h5)[:,1]\n",
    "roc= roc_auc_score(y_h5, y_pred_proba_mlpc) \n",
    "print('roc_auc_score ' + str(roc))"
   ]
  },
  {
   "cell_type": "code",
   "execution_count": null,
   "metadata": {},
   "outputs": [],
   "source": []
  },
  {
   "cell_type": "markdown",
   "metadata": {},
   "source": [
    "### GB\n"
   ]
  },
  {
   "cell_type": "code",
   "execution_count": 197,
   "metadata": {},
   "outputs": [
    {
     "name": "stdout",
     "output_type": "stream",
     "text": [
      "Loaded MLPC model ::  MLPClassifier(activation='relu', alpha=0.0001, batch_size='auto', beta_1=0.9,\n",
      "       beta_2=0.999, early_stopping=False, epsilon=1e-08,\n",
      "       hidden_layer_sizes=(100,), learning_rate='constant',\n",
      "       learning_rate_init=0.001, max_iter=200, momentum=0.9,\n",
      "       n_iter_no_change=10, nesterovs_momentum=True, power_t=0.5,\n",
      "       random_state=None, shuffle=True, solver='adam', tol=0.0001,\n",
      "       validation_fraction=0.1, verbose=False, warm_start=False)\n"
     ]
    }
   ],
   "source": [
    "gb_pkl_filename = os.path.join(mlobjects+'mlpc.pkl')\n",
    "gb_pkl = open(gb_pkl_filename, 'rb')\n",
    "gb = pickle.load(gb_pkl)\n",
    "print (\"Loaded MLPC model :: \", mlpc)"
   ]
  },
  {
   "cell_type": "code",
   "execution_count": 198,
   "metadata": {},
   "outputs": [],
   "source": [
    "y_pred_gb= gb.predict(X_h5)"
   ]
  },
  {
   "cell_type": "code",
   "execution_count": 199,
   "metadata": {},
   "outputs": [
    {
     "name": "stdout",
     "output_type": "stream",
     "text": [
      "confusion_matrix  [[2932835 2093679]\n",
      " [   7499   36942]]\n"
     ]
    }
   ],
   "source": [
    "#confusion_matrix\n",
    "\n",
    "print('confusion_matrix ', confusion_matrix(y_h5, y_pred_gb))"
   ]
  },
  {
   "cell_type": "code",
   "execution_count": 200,
   "metadata": {},
   "outputs": [
    {
     "name": "stdout",
     "output_type": "stream",
     "text": [
      "roc_auc_score 0.7741027933284734\n"
     ]
    }
   ],
   "source": [
    "#roc_auc_score\n",
    "y_pred_proba_gb = mlpc.predict_proba(X_h5)[:,1]\n",
    "roc= roc_auc_score(y_h5, y_pred_proba_gb) \n",
    "print('roc_auc_score ' + str(roc))"
   ]
  },
  {
   "cell_type": "markdown",
   "metadata": {},
   "source": [
    "### H2o"
   ]
  },
  {
   "cell_type": "code",
   "execution_count": 202,
   "metadata": {},
   "outputs": [],
   "source": [
    "h2o_model = h2o.load_model(mlobjects + 'RM_h2o_classification')"
   ]
  },
  {
   "cell_type": "code",
   "execution_count": null,
   "metadata": {},
   "outputs": [
    {
     "name": "stderr",
     "output_type": "stream",
     "text": [
      "/datascience/home/ssaha/h2o/utils/shared_utils.py:170: FutureWarning:\n",
      "\n",
      "Method .as_matrix will be removed in a future version. Use .values instead.\n",
      "\n"
     ]
    }
   ],
   "source": [
    "test_h2o= h2o.H2OFrame(test)"
   ]
  },
  {
   "cell_type": "code",
   "execution_count": 204,
   "metadata": {},
   "outputs": [
    {
     "ename": "ValueError",
     "evalue": "test_data must be an instance of H2OFrame",
     "output_type": "error",
     "traceback": [
      "\u001b[0;31m---------------------------------------------------------------------------\u001b[0m",
      "\u001b[0;31mValueError\u001b[0m                                Traceback (most recent call last)",
      "\u001b[0;32m<ipython-input-204-ab973df0bfd7>\u001b[0m in \u001b[0;36m<module>\u001b[0;34m()\u001b[0m\n\u001b[0;32m----> 1\u001b[0;31m \u001b[0mh2o_model\u001b[0m\u001b[0;34m.\u001b[0m\u001b[0mpredict\u001b[0m\u001b[0;34m(\u001b[0m\u001b[0mX_h5\u001b[0m\u001b[0;34m)\u001b[0m\u001b[0;34m\u001b[0m\u001b[0m\n\u001b[0m",
      "\u001b[0;32m~/h2o/model/model_base.py\u001b[0m in \u001b[0;36mpredict\u001b[0;34m(self, test_data, custom_metric, custom_metric_func)\u001b[0m\n\u001b[1;32m    147\u001b[0m                              \"The argument 'eval_func_ref' cannot be specified when eval_func is specified, \")\n\u001b[1;32m    148\u001b[0m             \u001b[0meval_func_ref\u001b[0m \u001b[0;34m=\u001b[0m \u001b[0mh2o\u001b[0m\u001b[0;34m.\u001b[0m\u001b[0mupload_custom_metric\u001b[0m\u001b[0;34m(\u001b[0m\u001b[0mcustom_metric\u001b[0m\u001b[0;34m)\u001b[0m\u001b[0;34m\u001b[0m\u001b[0m\n\u001b[0;32m--> 149\u001b[0;31m         \u001b[0;32mif\u001b[0m \u001b[0;32mnot\u001b[0m \u001b[0misinstance\u001b[0m\u001b[0;34m(\u001b[0m\u001b[0mtest_data\u001b[0m\u001b[0;34m,\u001b[0m \u001b[0mh2o\u001b[0m\u001b[0;34m.\u001b[0m\u001b[0mH2OFrame\u001b[0m\u001b[0;34m)\u001b[0m\u001b[0;34m:\u001b[0m \u001b[0;32mraise\u001b[0m \u001b[0mValueError\u001b[0m\u001b[0;34m(\u001b[0m\u001b[0;34m\"test_data must be an instance of H2OFrame\"\u001b[0m\u001b[0;34m)\u001b[0m\u001b[0;34m\u001b[0m\u001b[0m\n\u001b[0m\u001b[1;32m    150\u001b[0m         j = H2OJob(h2o.api(\"POST /4/Predictions/models/%s/frames/%s\" % (self.model_id, test_data.frame_id), data = {'custom_metric_func': custom_metric_func}),\n\u001b[1;32m    151\u001b[0m                    self._model_json[\"algo\"] + \" prediction\")\n",
      "\u001b[0;31mValueError\u001b[0m: test_data must be an instance of H2OFrame"
     ]
    }
   ],
   "source": [
    "y_pred_h2o = h2o_model.predict(test_h2o)"
   ]
  },
  {
   "cell_type": "code",
   "execution_count": null,
   "metadata": {},
   "outputs": [],
   "source": []
  }
 ],
 "metadata": {
  "kernelspec": {
   "display_name": "Python 3",
   "language": "python",
   "name": "python3"
  },
  "language_info": {
   "codemirror_mode": {
    "name": "ipython",
    "version": 3
   },
   "file_extension": ".py",
   "mimetype": "text/x-python",
   "name": "python",
   "nbconvert_exporter": "python",
   "pygments_lexer": "ipython3",
   "version": "3.6.5"
  }
 },
 "nbformat": 4,
 "nbformat_minor": 2
}
