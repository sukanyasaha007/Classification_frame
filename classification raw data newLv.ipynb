{
 "cells": [
  {
   "cell_type": "code",
   "execution_count": 79,
   "metadata": {
    "scrolled": true
   },
   "outputs": [],
   "source": [
    "import sys\n",
    "import numpy as np\n",
    "\n",
    "import time\n",
    "import sys\n",
    "import warnings\n",
    "import datetime\n",
    "import gc\n",
    "import pandas as pd\n",
    "import matplotlib.pyplot as plt\n",
    "import sklearn \n",
    "import os\n",
    "import seaborn as sns\n",
    "from pathlib import Path\n",
    "import pickle\n",
    "import plotly as pl\n",
    "\n",
    "from sklearn.model_selection import GridSearchCV\n",
    "import data_prep \n",
    "import data_summary\n",
    "import lime_ModelExplainer\n",
    "import data_split\n",
    "#import plot_residual\n",
    "import reading_data\n",
    "import eda\n",
    "from lime_ModelExplainer import lime_explainer\n",
    "%matplotlib inline  \n",
    "\n",
    "from sklearn.feature_selection import SelectKBest\n",
    "from sklearn.feature_selection import chi2, f_classif, mutual_info_classif\n",
    "\n",
    "from imblearn.under_sampling import TomekLinks\n",
    "\n",
    "from sklearn.decomposition import PCA\n",
    "import imblearn\n",
    "from imblearn.over_sampling import RandomOverSampler\n",
    "from imblearn.under_sampling import RandomUnderSampler\n",
    "\n",
    "from statsmodels.stats.outliers_influence import variance_inflation_factor \n",
    "from statsmodels.tools.tools import add_constant\n",
    "\n",
    "from scipy.stats import boxcox\n",
    "from sklearn.preprocessing import LabelEncoder\n",
    "from sklearn.utils import resample\n",
    "from sklearn.feature_selection import RFECV\n",
    "from sklearn.ensemble import RandomForestClassifier\n",
    "from sklearn.model_selection import StratifiedKFold\n",
    "from sklearn.svm import SVC\n",
    "from sklearn.metrics import recall_score, accuracy_score, precision_score, f1_score\n",
    "from sklearn.linear_model import LogisticRegression\n",
    "from sklearn.model_selection import GridSearchCV\n",
    "import mlModels\n",
    "import pickle\n",
    "\n",
    "from sklearn.model_selection import cross_val_score\n",
    "from sklearn.metrics import f1_score, accuracy_score, precision_score, log_loss, recall_score, roc_curve, roc_auc_score, confusion_matrix,classification_report \n",
    "from sklearn.metrics import  adjusted_mutual_info_score, balanced_accuracy_score\n",
    "from sklearn.metrics import fbeta_score\n",
    "\n",
    "\n",
    "from config_param import project_identifier\n",
    "from directoryPath import mlresult_dir, parent_dir, parent_dir_project, mlresult_dir,  data_dir, input_dir, mlobjects\n",
    "import directoryPath\n",
    "\n",
    "sys.path.append('/datascience/home/ssaha/Test/')\n",
    "sys.path.append('/datascience/home/ssaha/')\n",
    "import h2o"
   ]
  },
  {
   "cell_type": "code",
   "execution_count": null,
   "metadata": {},
   "outputs": [],
   "source": [
    "feats_r=[\"owned_lexus_LUV_no\",\n",
    "\"owned_lexus_cpo_sedan_ind\",\n",
    "\"active_brand\",\n",
    "\"max_value_vehicles_per_hh\",\n",
    "\"avg_no_repairs_under_warranty\",\n",
    "\"owned_4wd_vehicle_ind\",\n",
    "\"has_uss\",\n",
    "\"avg_no_repairs_after_warranty\",\n",
    "\"last_reported_mileage_recent_vehicle\",\n",
    "\"days_since_last_purchase_vehicle\",\n",
    "\n",
    "\"communication_clicked_ind\",\n",
    "\"avg_cust_pay_0_6mo\",\n",
    "\"avg_zip3_vehicle_val\",\n",
    "\"no_ro_visits_24_36mo\",\n",
    "\"last_purchase_vehicle_msrp\",\n",
    "\"days_since_first_purchase_vehicle\",\n",
    "\"no_cpro_visits\",\n",
    "\"first_purchase_vehicle_msrp\",\n",
    "\"est_current_mileage\",\n",
    "\"no_repairs_under_warranty_most_recent_veh\",\n",
    "\"no_repairs_after_warranty_most_recent_veh\",\n",
    "\"presence_of_children\",\n",
    "\"no_ro_visits_18_24mo\",\n",
    "\"avg_mileage_permonth_recent_vehicle\",\n",
    "\"avg_assoc_length\",\n",
    "\"owned_lexus_sedan_no\",\n",
    "\"avg_cust_pay_24_36mo\",\n",
    "\"max_cust_pay_6_12mo\",\n",
    "\"no_ro_visits_6_12mo\",\n",
    "\"avg_custpay\",\n",
    "\"generation_group\",\n",
    "\"no_ro_visits_0_6mo\",\n",
    "\"no_days_since_lastro_recent\",\n",
    "\"avg_warrpay\",\n",
    "\"max_service_assoc_length\"]"
   ]
  },
  {
   "cell_type": "code",
   "execution_count": 8,
   "metadata": {},
   "outputs": [
    {
     "data": {
      "text/plain": [
       "137"
      ]
     },
     "execution_count": 8,
     "metadata": {},
     "output_type": "execute_result"
    }
   ],
   "source": [
    "gc.collect()"
   ]
  },
  {
   "cell_type": "code",
   "execution_count": null,
   "metadata": {},
   "outputs": [],
   "source": [
    "start= time.time()\n",
    "df_2016= reading_data.read_data(path=\"/datascience/home/ssaha/input/c360_customeradt_in_market_lexus_082016/\")\n",
    "print(time.time() -start)"
   ]
  },
  {
   "cell_type": "code",
   "execution_count": null,
   "metadata": {},
   "outputs": [],
   "source": [
    "X=df_2016[feats_r].copy()"
   ]
  },
  {
   "cell_type": "code",
   "execution_count": null,
   "metadata": {},
   "outputs": [],
   "source": [
    "start= time.time()\n",
    "y = df_2016[\"dep_purchase_lexus_new_luv_6mo\"] \n",
    "print(time.time() -start)"
   ]
  },
  {
   "cell_type": "code",
   "execution_count": 43,
   "metadata": {},
   "outputs": [],
   "source": [
    "\n",
    "numerical_list = ['avg_custpay',\n",
    "'avg_assoc_length',\n",
    "'avg_mileage_permonth_recent_vehicle',\n",
    "'est_current_mileage',\n",
    "'first_purchase_vehicle_msrp',\n",
    "'last_purchase_vehicle_msrp',\n",
    "'avg_zip3_vehicle_val',\n",
    "'avg_cust_pay_0_6mo',\n",
    "'avg_warrpay',\n",
    "'max_service_assoc_length',\n",
    "'max_cust_pay_6_12mo',\n",
    "'avg_cust_pay_24_36mo',\n",
    "'last_reported_mileage_recent_vehicle']"
   ]
  },
  {
   "cell_type": "code",
   "execution_count": 31,
   "metadata": {},
   "outputs": [],
   "source": [
    "X[numerical_list]=X[numerical_list].astype('float')"
   ]
  },
  {
   "cell_type": "code",
   "execution_count": 53,
   "metadata": {},
   "outputs": [],
   "source": [
    "categorical_list=[x for x in feats_48 if x not in numerical_list]"
   ]
  },
  {
   "cell_type": "code",
   "execution_count": 54,
   "metadata": {},
   "outputs": [
    {
     "data": {
      "text/plain": [
       "22"
      ]
     },
     "execution_count": 54,
     "metadata": {},
     "output_type": "execute_result"
    }
   ],
   "source": [
    "len(categorical_list)"
   ]
  },
  {
   "cell_type": "code",
   "execution_count": 74,
   "metadata": {},
   "outputs": [],
   "source": [
    "X[categorical_list]=X[categorical_list].astype('O')"
   ]
  },
  {
   "cell_type": "code",
   "execution_count": 75,
   "metadata": {},
   "outputs": [
    {
     "name": "stdout",
     "output_type": "stream",
     "text": [
      "791.9011943340302\n",
      "797.5892729759216\n"
     ]
    }
   ],
   "source": [
    "start_time= time.time()\n",
    "X[categorical_list]=X[categorical_list].apply(lambda x : x.fillna(0)) \n",
    "print(time.time()- start)\n",
    "\n",
    "start_time= time.time()\n",
    "X[numerical_list]=X[numerical_list].apply(lambda x: x.replace([np.inf, -np.inf], np.nan))\n",
    "X[numerical_list]=X[numerical_list].apply(lambda x : x.fillna(x.mean()))  #if x.dtype.kind in 'bOSU' else fill_NaN.fit_transform(x)\n",
    "print(time.time()- start)"
   ]
  },
  {
   "cell_type": "code",
   "execution_count": null,
   "metadata": {},
   "outputs": [],
   "source": [
    "X.isnull().sum()"
   ]
  },
  {
   "cell_type": "raw",
   "metadata": {},
   "source": [
    "categorical_list.append('owned_lexus_LUV_no')"
   ]
  },
  {
   "cell_type": "raw",
   "metadata": {},
   "source": [
    "X[categorical_list].apply(lambda x : x.replace({'Not Present':0}, inplace=True)) \n"
   ]
  },
  {
   "cell_type": "raw",
   "metadata": {},
   "source": [
    "X.owned_lexus_LUV_no.replace({'Not Present': 0}, inplace=True) #1032656  #2174"
   ]
  },
  {
   "cell_type": "code",
   "execution_count": 77,
   "metadata": {
    "scrolled": true
   },
   "outputs": [
    {
     "ename": "KeyboardInterrupt",
     "evalue": "",
     "output_type": "error",
     "traceback": [
      "\u001b[0;31m---------------------------------------------------------------------------\u001b[0m",
      "\u001b[0;31mKeyboardInterrupt\u001b[0m                         Traceback (most recent call last)",
      "\u001b[0;32m<ipython-input-77-1aba7c8314ac>\u001b[0m in \u001b[0;36m<module>\u001b[0;34m()\u001b[0m\n\u001b[0;32m----> 1\u001b[0;31m \u001b[0mX_encoded\u001b[0m\u001b[0;34m=\u001b[0m \u001b[0mpd\u001b[0m\u001b[0;34m.\u001b[0m\u001b[0mget_dummies\u001b[0m\u001b[0;34m(\u001b[0m\u001b[0mX\u001b[0m\u001b[0;34m)\u001b[0m\u001b[0;34m\u001b[0m\u001b[0m\n\u001b[0m",
      "\u001b[0;32m/root/anaconda3/lib/python3.6/site-packages/pandas/core/reshape/reshape.py\u001b[0m in \u001b[0;36mget_dummies\u001b[0;34m(data, prefix, prefix_sep, dummy_na, columns, sparse, drop_first, dtype)\u001b[0m\n\u001b[1;32m    892\u001b[0m                                     drop_first=drop_first, dtype=dtype)\n\u001b[1;32m    893\u001b[0m             \u001b[0mwith_dummies\u001b[0m\u001b[0;34m.\u001b[0m\u001b[0mappend\u001b[0m\u001b[0;34m(\u001b[0m\u001b[0mdummy\u001b[0m\u001b[0;34m)\u001b[0m\u001b[0;34m\u001b[0m\u001b[0m\n\u001b[0;32m--> 894\u001b[0;31m         \u001b[0mresult\u001b[0m \u001b[0;34m=\u001b[0m \u001b[0mconcat\u001b[0m\u001b[0;34m(\u001b[0m\u001b[0mwith_dummies\u001b[0m\u001b[0;34m,\u001b[0m \u001b[0maxis\u001b[0m\u001b[0;34m=\u001b[0m\u001b[0;36m1\u001b[0m\u001b[0;34m)\u001b[0m\u001b[0;34m\u001b[0m\u001b[0m\n\u001b[0m\u001b[1;32m    895\u001b[0m     \u001b[0;32melse\u001b[0m\u001b[0;34m:\u001b[0m\u001b[0;34m\u001b[0m\u001b[0m\n\u001b[1;32m    896\u001b[0m         result = _get_dummies_1d(data, prefix, prefix_sep, dummy_na,\n",
      "\u001b[0;32m/root/anaconda3/lib/python3.6/site-packages/pandas/core/reshape/concat.py\u001b[0m in \u001b[0;36mconcat\u001b[0;34m(objs, axis, join, join_axes, ignore_index, keys, levels, names, verify_integrity, sort, copy)\u001b[0m\n\u001b[1;32m    224\u001b[0m                        \u001b[0mverify_integrity\u001b[0m\u001b[0;34m=\u001b[0m\u001b[0mverify_integrity\u001b[0m\u001b[0;34m,\u001b[0m\u001b[0;34m\u001b[0m\u001b[0m\n\u001b[1;32m    225\u001b[0m                        copy=copy, sort=sort)\n\u001b[0;32m--> 226\u001b[0;31m     \u001b[0;32mreturn\u001b[0m \u001b[0mop\u001b[0m\u001b[0;34m.\u001b[0m\u001b[0mget_result\u001b[0m\u001b[0;34m(\u001b[0m\u001b[0;34m)\u001b[0m\u001b[0;34m\u001b[0m\u001b[0m\n\u001b[0m\u001b[1;32m    227\u001b[0m \u001b[0;34m\u001b[0m\u001b[0m\n\u001b[1;32m    228\u001b[0m \u001b[0;34m\u001b[0m\u001b[0m\n",
      "\u001b[0;32m/root/anaconda3/lib/python3.6/site-packages/pandas/core/reshape/concat.py\u001b[0m in \u001b[0;36mget_result\u001b[0;34m(self)\u001b[0m\n\u001b[1;32m    421\u001b[0m             new_data = concatenate_block_managers(\n\u001b[1;32m    422\u001b[0m                 \u001b[0mmgrs_indexers\u001b[0m\u001b[0;34m,\u001b[0m \u001b[0mself\u001b[0m\u001b[0;34m.\u001b[0m\u001b[0mnew_axes\u001b[0m\u001b[0;34m,\u001b[0m \u001b[0mconcat_axis\u001b[0m\u001b[0;34m=\u001b[0m\u001b[0mself\u001b[0m\u001b[0;34m.\u001b[0m\u001b[0maxis\u001b[0m\u001b[0;34m,\u001b[0m\u001b[0;34m\u001b[0m\u001b[0m\n\u001b[0;32m--> 423\u001b[0;31m                 copy=self.copy)\n\u001b[0m\u001b[1;32m    424\u001b[0m             \u001b[0;32mif\u001b[0m \u001b[0;32mnot\u001b[0m \u001b[0mself\u001b[0m\u001b[0;34m.\u001b[0m\u001b[0mcopy\u001b[0m\u001b[0;34m:\u001b[0m\u001b[0;34m\u001b[0m\u001b[0m\n\u001b[1;32m    425\u001b[0m                 \u001b[0mnew_data\u001b[0m\u001b[0;34m.\u001b[0m\u001b[0m_consolidate_inplace\u001b[0m\u001b[0;34m(\u001b[0m\u001b[0;34m)\u001b[0m\u001b[0;34m\u001b[0m\u001b[0m\n",
      "\u001b[0;32m/root/anaconda3/lib/python3.6/site-packages/pandas/core/internals.py\u001b[0m in \u001b[0;36mconcatenate_block_managers\u001b[0;34m(mgrs_indexers, axes, concat_axis, copy)\u001b[0m\n\u001b[1;32m   5410\u001b[0m             \u001b[0mvalues\u001b[0m \u001b[0;34m=\u001b[0m \u001b[0mb\u001b[0m\u001b[0;34m.\u001b[0m\u001b[0mvalues\u001b[0m\u001b[0;34m\u001b[0m\u001b[0m\n\u001b[1;32m   5411\u001b[0m             \u001b[0;32mif\u001b[0m \u001b[0mcopy\u001b[0m\u001b[0;34m:\u001b[0m\u001b[0;34m\u001b[0m\u001b[0m\n\u001b[0;32m-> 5412\u001b[0;31m                 \u001b[0mvalues\u001b[0m \u001b[0;34m=\u001b[0m \u001b[0mvalues\u001b[0m\u001b[0;34m.\u001b[0m\u001b[0mcopy\u001b[0m\u001b[0;34m(\u001b[0m\u001b[0;34m)\u001b[0m\u001b[0;34m\u001b[0m\u001b[0m\n\u001b[0m\u001b[1;32m   5413\u001b[0m             \u001b[0;32melif\u001b[0m \u001b[0;32mnot\u001b[0m \u001b[0mcopy\u001b[0m\u001b[0;34m:\u001b[0m\u001b[0;34m\u001b[0m\u001b[0m\n\u001b[1;32m   5414\u001b[0m                 \u001b[0mvalues\u001b[0m \u001b[0;34m=\u001b[0m \u001b[0mvalues\u001b[0m\u001b[0;34m.\u001b[0m\u001b[0mview\u001b[0m\u001b[0;34m(\u001b[0m\u001b[0;34m)\u001b[0m\u001b[0;34m\u001b[0m\u001b[0m\n",
      "\u001b[0;31mKeyboardInterrupt\u001b[0m: "
     ]
    }
   ],
   "source": [
    "X_encoded= data_prep.label_encode(X)"
   ]
  },
  {
   "cell_type": "code",
   "execution_count": null,
   "metadata": {},
   "outputs": [],
   "source": [
    "X_train, X_test,y_train, y_test= data_split.train_test_split(X, y)"
   ]
  },
  {
   "cell_type": "code",
   "execution_count": 59,
   "metadata": {
    "scrolled": true
   },
   "outputs": [
    {
     "name": "stdout",
     "output_type": "stream",
     "text": [
      "training set size (3556834, 35)\n",
      "training set size (1185612, 35)\n"
     ]
    }
   ],
   "source": [
    "print('training set size',X_train.shape)\n",
    "print('training set size',X_test.shape)"
   ]
  },
  {
   "cell_type": "code",
   "execution_count": null,
   "metadata": {},
   "outputs": [],
   "source": [
    "log= mlModels.logistic_regression(X_train, y_train, X_test, y_test, False, C=.1, solver='newton-cg', dual=False, max_iter=1000)"
   ]
  },
  {
   "cell_type": "code",
   "execution_count": 126,
   "metadata": {},
   "outputs": [],
   "source": [
    "X_old= pd.read_hdf(mlresult_dir+ 'c360_customeradt_in_market_lexus_20_X_2016.h5')"
   ]
  },
  {
   "cell_type": "code",
   "execution_count": 127,
   "metadata": {},
   "outputs": [],
   "source": [
    "y_old= pd.read_hdf(mlresult_dir + 'c360_customeradt_in_market_lexus_20_y_2016.h5')"
   ]
  },
  {
   "cell_type": "code",
   "execution_count": 84,
   "metadata": {},
   "outputs": [
    {
     "name": "stdout",
     "output_type": "stream",
     "text": [
      "Removed indexes: [4401525 3752992 1017693 ... 4742212 4742345 4742347]\n",
      "3.366814374923706\n"
     ]
    }
   ],
   "source": [
    "start= time.time()\n",
    "rus, id_rus, X_rus, y_rus= data_prep.random_undersample(X_old, y_old)\n",
    "print(time.time() -start)"
   ]
  },
  {
   "cell_type": "code",
   "execution_count": 86,
   "metadata": {},
   "outputs": [
    {
     "data": {
      "text/plain": [
       "(84732, 257)"
      ]
     },
     "execution_count": 86,
     "metadata": {},
     "output_type": "execute_result"
    }
   ],
   "source": [
    "X_rus.shape"
   ]
  },
  {
   "cell_type": "code",
   "execution_count": 88,
   "metadata": {},
   "outputs": [
    {
     "data": {
      "text/plain": [
       "(84732,)"
      ]
     },
     "execution_count": 88,
     "metadata": {},
     "output_type": "execute_result"
    }
   ],
   "source": [
    "y_rus.shape"
   ]
  },
  {
   "cell_type": "code",
   "execution_count": 89,
   "metadata": {},
   "outputs": [],
   "source": [
    "from imblearn.under_sampling import RepeatedEditedNearestNeighbours"
   ]
  },
  {
   "cell_type": "code",
   "execution_count": 90,
   "metadata": {},
   "outputs": [],
   "source": [
    "rusknn = RepeatedEditedNearestNeighbours(return_indices=True)\n",
    "X_rusknn, y_rusknn, id_rusknn = rus.fit_sample(X_old, y_old)\n",
    "X_rusknn= pd.DataFrame(X_rusknn, columns=X_old.columns)\n",
    "y_rusknn= pd.Series(y_rusknn, name=y.name)"
   ]
  },
  {
   "cell_type": "code",
   "execution_count": 91,
   "metadata": {},
   "outputs": [
    {
     "data": {
      "text/plain": [
       "(84732, 257)"
      ]
     },
     "execution_count": 91,
     "metadata": {},
     "output_type": "execute_result"
    }
   ],
   "source": [
    "X_rusknn.shape"
   ]
  },
  {
   "cell_type": "markdown",
   "metadata": {},
   "source": [
    "#### 80:20"
   ]
  },
  {
   "cell_type": "code",
   "execution_count": 116,
   "metadata": {},
   "outputs": [
    {
     "data": {
      "text/plain": [
       "(4742446, 257)"
      ]
     },
     "execution_count": 116,
     "metadata": {},
     "output_type": "execute_result"
    }
   ],
   "source": [
    "X_old.shape"
   ]
  },
  {
   "cell_type": "code",
   "execution_count": 117,
   "metadata": {},
   "outputs": [
    {
     "data": {
      "text/plain": [
       "(4742446,)"
      ]
     },
     "execution_count": 117,
     "metadata": {},
     "output_type": "execute_result"
    }
   ],
   "source": [
    "y_old.shape"
   ]
  },
  {
   "cell_type": "code",
   "execution_count": null,
   "metadata": {},
   "outputs": [],
   "source": [
    "train.shape"
   ]
  },
  {
   "cell_type": "code",
   "execution_count": 130,
   "metadata": {},
   "outputs": [],
   "source": [
    "from sklearn.utils import resample"
   ]
  },
  {
   "cell_type": "code",
   "execution_count": 145,
   "metadata": {},
   "outputs": [],
   "source": [
    "# Separate majority and minority classes  ### 1min\n",
    "train_majority = X_old.iloc[y_old[y_old==0].index]\n",
    "\n",
    "\n",
    "train_minority = X_old.iloc[y_old[y_old==1].index]\n",
    "\n",
    "\n",
    "#train_sampled=pd.DataFrame(None)\n",
    "# Upsample minority class\n",
    "train_majority_sampled = resample(train_majority, \n",
    "                                 replace=False,     # sample without replacement\n",
    "                                 n_samples=np.round(train_minority.shape[0]*9),    # to match majority class\n",
    "                                 random_state=123) # reproducible results\n",
    "'''train_minority_sampled = resample(train_minority, \n",
    "                                 replace=False,     # sample without replacement\n",
    "                                 n_samples=np.round(train_minority.shape[0]*1),    # to match majority class\n",
    "                                 random_state=123)'''\n",
    "\n",
    "\n",
    "# Combine majority class with upsampled minority class\n",
    "train_sampled = pd.concat([train_majority_sampled, train_minority])\n"
   ]
  },
  {
   "cell_type": "code",
   "execution_count": 149,
   "metadata": {},
   "outputs": [
    {
     "data": {
      "text/plain": [
       "(4700080, 257)"
      ]
     },
     "execution_count": 149,
     "metadata": {},
     "output_type": "execute_result"
    }
   ],
   "source": [
    " \n",
    "# Display new class counts\n",
    "train_sampled.iloc[y_old[y_old==0].index].shape"
   ]
  },
  {
   "cell_type": "code",
   "execution_count": 150,
   "metadata": {},
   "outputs": [
    {
     "data": {
      "text/plain": [
       "(42366, 257)"
      ]
     },
     "execution_count": 150,
     "metadata": {},
     "output_type": "execute_result"
    }
   ],
   "source": [
    "train_sampled.iloc[y_old[y_old==1].index].shape"
   ]
  },
  {
   "cell_type": "code",
   "execution_count": 151,
   "metadata": {},
   "outputs": [
    {
     "data": {
      "text/plain": [
       "(423660, 257)"
      ]
     },
     "execution_count": 151,
     "metadata": {},
     "output_type": "execute_result"
    }
   ],
   "source": [
    "train_sampled.shape"
   ]
  },
  {
   "cell_type": "code",
   "execution_count": 152,
   "metadata": {},
   "outputs": [
    {
     "data": {
      "text/plain": [
       "(4742446,)"
      ]
     },
     "execution_count": 152,
     "metadata": {},
     "output_type": "execute_result"
    }
   ],
   "source": [
    "y_old.shape"
   ]
  },
  {
   "cell_type": "code",
   "execution_count": 161,
   "metadata": {},
   "outputs": [],
   "source": [
    "X_old_xgb_selected= train_sampled[[\"days_since_last_purchase_vehicle\",\n",
    "\"max_value_vehicles_per_hh\",\n",
    "\"customer_language_english_ind\",\n",
    "\"driver_ind\",\n",
    "\"days_since_first_purchase_vehicle\",\n",
    "\"current_owned_lexus_new_luv_ind\",\n",
    "\"second_last_purchase_age\",\n",
    "\"last_reported_mileage_recent_vehicle\",\n",
    "\"avg_zip3_vehicle_val\",\n",
    "\"length_of_residence\",\n",
    "\"no_ro_visits_48_60mo\",\n",
    "\"association_type\",\n",
    "\"owned_lexus_new_luv_ind\",\n",
    "\"current_owned_lexus_LUV_ind\",\n",
    "\"avg_mileage_permonth_recent_vehicle\",\n",
    "\"no_leased_vehicle\",\n",
    "\"noros_high_ro_time_0_6mo\",\n",
    "\"owned_rx_ind\",\n",
    "\"purchased_vehicle_used_ind\",\n",
    "\"purchased_vehicle_lexus_LUV_ind\",\n",
    "\"ever_warranty_payment_ind\",\n",
    "\"avg_service_assoc_length\",\n",
    "\"last_serviced_dealer_no\",\n",
    "\"purchased_lexus_LUV_last_3years_ind\",\n",
    "\"communication_received_ind\",\n",
    "\"communication_clicked_ind\",\n",
    "\"ever_service_lexus_LUV_ind\",\n",
    "\"first_purchase_vehicle_msrp\",\n",
    "\"avg_cust_pay_36_48mo\",\n",
    "\"avg_cust_pay_24_36mo\",\n",
    "\"avg_ro_time_18_24mo\",\n",
    "\"no_ro_visits_12_18mo\",\n",
    "\"pma_toy_scion_dealership_cd\",\n",
    "\"pma_lexus_dealership_cd\",\n",
    "\"owned_big_engine_vehicle_ind\",\n",
    "\"dofu_year1_ind\",\n",
    "\"pma_lexus_dealership_region\",\n",
    "\"avg_ro_time_6_12mo\",\n",
    "\"last_serviced_dealer_region\",\n",
    "\"gndr_cd\",\n",
    "\"owned_silver_gray_vehicle_ind\",\n",
    "\"purchased_lexus_last_3years_ind\",\n",
    "\"service_survey_ind\",\n",
    "\"has_uss\",\n",
    "\"ever_lead_ind\",\n",
    "\"ever_handraiser_ind\",\n",
    "\"i1_occupation_grp_val\",\n",
    "\"avg_custpay_recent_vehicle\",\n",
    "\"avg_ro_time_0_6mo\",\n",
    "\"est_current_mileage\",\n",
    "\"pma_toy_scion_dealership_region\",\n",
    "\"active_brand\",\n",
    "\"owned_lexus_ind\",\n",
    "\"owned_vehicle_my_2011_20_ind\",\n",
    "\"purchased_lexus_sedan_last_2years_ind\",\n",
    "\"current_owned_es_ind\",\n",
    "\"purchased_vehicle_new_ind\",\n",
    "\"brochure_requested_ind\",\n",
    "\"avg_no_vehicles_per_hh\",\n",
    "\"avg_ro_time_12_18mo\",\n",
    "\"home_ownership\",\n",
    "\"owned_lexus_LUV_ind\",\n",
    "\"owned_is250_ind\",\n",
    "\"owned_es_ind\",\n",
    "\"owned_other_color_vehicle_ind\",\n",
    "\"purchased_vehicle_last_2years_ind\",\n",
    "\"purchased_lexus_LUV_last_2years_ind\",\n",
    "\"past_owned_lexus_new_sedan_ind\",\n",
    "\"sales_survey_ind\",\n",
    "\"high_service_ind\",\n",
    "\"no_sales_dealer_assoc\",\n",
    "\"no_of_adlts_per_hh_cd\",\n",
    "\"no_ro_visits_0_6mo\",\n",
    "\"noros_high_ro_time_6_12mo\",\n",
    "\"marital_status_confidence\",\n",
    "\"owned_ct200h_ind\",\n",
    "\"owned_aqua_vehicle_ind\",\n",
    "\"purchased_is_last_3years_ind\",\n",
    "\"current_owned_lexus_new_sedan_ind\",\n",
    "\"current_owned_gs_ind\",\n",
    "\"past_owned_lexus_sedan_ind\",\n",
    "\"past_owned_lexus_LUV_ind\",\n",
    "\"purchased_vehicle_4wd_ind\",\n",
    "\"past_owned_toyota_4wd_ind\",\n",
    "\"ever_service_hybrid_ind\",\n",
    "\"last_sales_dealer_region\",\n",
    "\"avg_cust_pay_48_60mo\",\n",
    "\"noros_high_ro_time_12_18mo\"]]"
   ]
  },
  {
   "cell_type": "code",
   "execution_count": 162,
   "metadata": {},
   "outputs": [],
   "source": [
    "X_train, X_test,y_train, y_test= data_split.train_test_split(X_old_xgb_selected, y_old.iloc[train_sampled.index])"
   ]
  },
  {
   "cell_type": "code",
   "execution_count": 164,
   "metadata": {},
   "outputs": [
    {
     "name": "stdout",
     "output_type": "stream",
     "text": [
      "cross_val_score [0.99247836 0.99321783 0.99309194 0.99317062 0.99302889]\n",
      "accuracy 99.5741868479441\n",
      "balanced_accuracy_score 79.3119266055046\n",
      "f1_score 86.85044973095908\n",
      "precision_score 99.57601102184488\n",
      "Log loss 0.14707065244870718\n",
      "recall_score 58.62385321100917\n"
     ]
    },
    {
     "data": {
      "image/png": "[encoded data removed]",
      "text/plain": [
       "<Figure size 432x288 with 1 Axes>"
      ]
     },
     "metadata": {},
     "output_type": "display_data"
    },
    {
     "name": "stdout",
     "output_type": "stream",
     "text": [
      "roc_auc_score 99.99977157210466\n",
      "confusion_matrix [[104825      0]\n",
      " [   451    639]]\n",
      "classification_report              precision    recall  f1-score   support\n",
      "\n",
      "           0       1.00      1.00      1.00    104825\n",
      "           1       1.00      0.59      0.74      1090\n",
      "\n",
      "   micro avg       1.00      1.00      1.00    105915\n",
      "   macro avg       1.00      0.79      0.87    105915\n",
      "weighted avg       1.00      1.00      1.00    105915\n",
      "\n",
      "\n",
      " Time taken to execute the rf is 2.4612228870391846\n",
      "\n",
      "Dated on2019-01-21 04:28:24.483300\n",
      "\n"
     ]
    }
   ],
   "source": [
    "rf= mlModels.rf(X_train, y_train, X_test, y_test)"
   ]
  },
  {
   "cell_type": "code",
   "execution_count": 155,
   "metadata": {},
   "outputs": [],
   "source": [
    "X_old_test= pd.read_hdf(mlresult_dir + 'c360_customeradt_in_market_lexus_25_X_2017.h5')\n",
    "\n",
    "y_old_test = pd.read_hdf(mlresult_dir + 'c360_customeradt_in_market_lexus_25_y_2017.h5')"
   ]
  },
  {
   "cell_type": "code",
   "execution_count": 157,
   "metadata": {},
   "outputs": [],
   "source": [
    "import model_evaluation"
   ]
  },
  {
   "cell_type": "code",
   "execution_count": 166,
   "metadata": {},
   "outputs": [],
   "source": [
    "X_old_test_xgb_selected= X_old_test[X_old_xgb_selected.columns.tolist()]"
   ]
  },
  {
   "cell_type": "code",
   "execution_count": 167,
   "metadata": {},
   "outputs": [
    {
     "name": "stdout",
     "output_type": "stream",
     "text": [
      "Provided model : \n",
      " RandomForestClassifier(bootstrap=True, class_weight=None, criterion='gini',\n",
      "            max_depth=None, max_features='auto', max_leaf_nodes=None,\n",
      "            min_impurity_decrease=0.0, min_impurity_split=None,\n",
      "            min_samples_leaf=20, min_samples_split=40,\n",
      "            min_weight_fraction_leaf=0.0, n_estimators=50, n_jobs=-1,\n",
      "            oob_score=False, random_state=42, verbose=0, warm_start=False)\n",
      "accuracy  99.12361675463498\n"
     ]
    },
    {
     "name": "stderr",
     "output_type": "stream",
     "text": [
      "/root/anaconda3/lib/python3.6/site-packages/sklearn/metrics/classification.py:1143: UndefinedMetricWarning:\n",
      "\n",
      "F-score is ill-defined and being set to 0.0 in labels with no predicted samples.\n",
      "\n"
     ]
    },
    {
     "name": "stdout",
     "output_type": "stream",
     "text": [
      "f1_score  49.779939903752116\n"
     ]
    },
    {
     "name": "stderr",
     "output_type": "stream",
     "text": [
      "/root/anaconda3/lib/python3.6/site-packages/sklearn/metrics/classification.py:1143: UndefinedMetricWarning:\n",
      "\n",
      "Precision is ill-defined and being set to 0.0 in labels with no predicted samples.\n",
      "\n"
     ]
    },
    {
     "name": "stdout",
     "output_type": "stream",
     "text": [
      "precision_score  98.25491398519752\n",
      "recall_score  0.0\n",
      "confusion_matrix \n",
      " [[5026514       0]\n",
      " [  44441       0]]\n",
      "days_since_last_purchase_vehicle 0.03790967285328002\n",
      "max_value_vehicles_per_hh 0.04218051499236816\n",
      "customer_language_english_ind 0.017425054552162537\n",
      "driver_ind 0.007444120207359613\n",
      "days_since_first_purchase_vehicle 0.03859103650058219\n",
      "current_owned_lexus_new_luv_ind 0.004668499104554783\n",
      "second_last_purchase_age 0.020067595660145328\n",
      "last_reported_mileage_recent_vehicle 0.036275855047693685\n",
      "avg_zip3_vehicle_val 0.0368775979906665\n",
      "length_of_residence 0.03276958711745477\n",
      "no_ro_visits_48_60mo 0.012442947091707745\n",
      "association_type 0.0020575902546163764\n",
      "owned_lexus_new_luv_ind 0.0037884815191490547\n",
      "current_owned_lexus_LUV_ind 0.0022924564326244163\n",
      "avg_mileage_permonth_recent_vehicle 0.03839995613754378\n",
      "no_leased_vehicle 0.0015986918973777211\n",
      "noros_high_ro_time_0_6mo 0.007407661002679776\n",
      "owned_rx_ind 0.003238665597073761\n",
      "purchased_vehicle_used_ind 0.0011827796262682251\n",
      "purchased_vehicle_lexus_LUV_ind 0.0020478513719423812\n",
      "ever_warranty_payment_ind 0.0014121665896280197\n",
      "avg_service_assoc_length 0.03576613385988631\n",
      "last_serviced_dealer_no 0.030114619364158098\n",
      "purchased_lexus_LUV_last_3years_ind 0.004654099209326326\n",
      "communication_received_ind 0.0059183019333001845\n",
      "communication_clicked_ind 0.00422915403069726\n",
      "ever_service_lexus_LUV_ind 0.0033345511990071604\n",
      "first_purchase_vehicle_msrp 0.029496380749218076\n",
      "avg_cust_pay_36_48mo 0.015901560801610707\n",
      "avg_cust_pay_24_36mo 0.015406376928309476\n",
      "avg_ro_time_18_24mo 0.020668672220974346\n",
      "no_ro_visits_12_18mo 0.010326535205939793\n",
      "pma_toy_scion_dealership_cd 0.03271472989616758\n",
      "pma_lexus_dealership_cd 0.02984353451681406\n",
      "owned_big_engine_vehicle_ind 0.0016147399301430802\n",
      "dofu_year1_ind 0.0025871777818013975\n",
      "pma_lexus_dealership_region 0.009442590552404834\n",
      "avg_ro_time_6_12mo 0.02235104975999095\n",
      "last_serviced_dealer_region 0.010075781449462145\n",
      "gndr_cd 0.00687585882065426\n",
      "owned_silver_gray_vehicle_ind 0.004202751069725047\n",
      "purchased_lexus_last_3years_ind 0.0022733915524686464\n",
      "service_survey_ind 0.005717967349611968\n",
      "has_uss 0.005703045097848714\n",
      "ever_lead_ind 0.0009858230092027178\n",
      "ever_handraiser_ind 0.0015200733274999135\n",
      "i1_occupation_grp_val 0.01712970150454166\n",
      "avg_custpay_recent_vehicle 0.027277160116002962\n",
      "avg_ro_time_0_6mo 0.022579039717403607\n",
      "est_current_mileage 0.036692448987210594\n",
      "pma_toy_scion_dealership_region 0.016936240461956666\n",
      "active_brand 0.0023942315893374683\n",
      "owned_lexus_ind 0.00023883018523445602\n",
      "owned_vehicle_my_2011_20_ind 0.002755237264459865\n",
      "purchased_lexus_sedan_last_2years_ind 0.0021302943396207443\n",
      "current_owned_es_ind 0.002343620497314353\n",
      "purchased_vehicle_new_ind 0.005558404530766064\n",
      "brochure_requested_ind 0.00023605855657153\n",
      "avg_no_vehicles_per_hh 0.0352646496597647\n",
      "avg_ro_time_12_18mo 0.020917325710111435\n",
      "home_ownership 0.010020569632095092\n",
      "owned_lexus_LUV_ind 0.002216627950142265\n",
      "owned_is250_ind 0.001872025338210649\n",
      "owned_es_ind 0.004194080249160708\n",
      "owned_other_color_vehicle_ind 0.0037574682396097295\n",
      "purchased_vehicle_last_2years_ind 0.004311913571220303\n",
      "purchased_lexus_LUV_last_2years_ind 0.0035853264988148946\n",
      "past_owned_lexus_new_sedan_ind 0.0026620760768537146\n",
      "sales_survey_ind 0.005226727314882007\n",
      "high_service_ind 0.003847512671539739\n",
      "no_sales_dealer_assoc 0.005405080691582412\n",
      "no_of_adlts_per_hh_cd 0.018799705048613252\n",
      "no_ro_visits_0_6mo 0.00919285375441915\n",
      "noros_high_ro_time_6_12mo 0.006308463511934738\n",
      "marital_status_confidence 0.007707470591695616\n",
      "owned_ct200h_ind 0.002020383695267188\n",
      "owned_aqua_vehicle_ind 0.005482387338589725\n",
      "purchased_is_last_3years_ind 0.0009331422204252656\n",
      "current_owned_lexus_new_sedan_ind 0.0026997678883587963\n",
      "current_owned_gs_ind 0.0026751780153445666\n",
      "past_owned_lexus_sedan_ind 0.0032188820868502064\n",
      "past_owned_lexus_LUV_ind 0.0022240191025222106\n",
      "purchased_vehicle_4wd_ind 0.0029166446149532094\n",
      "past_owned_toyota_4wd_ind 0.002284508465960735\n",
      "ever_service_hybrid_ind 0.0028287925149583244\n",
      "last_sales_dealer_region 0.007830979693298193\n",
      "avg_cust_pay_48_60mo 0.015217263167653663\n",
      "noros_high_ro_time_12_18mo 0.006303225771645677\n",
      "roc_auc_score 75.81517938104207\n"
     ]
    },
    {
     "data": {
      "image/png": "[encoded data removed]",
      "text/plain": [
       "<Figure size 432x288 with 1 Axes>"
      ]
     },
     "metadata": {},
     "output_type": "display_data"
    }
   ],
   "source": [
    "model_evaluation.model_evaluation_test(X_old_test_xgb_selected, y_old_test, rf, alg_name='Random Forest Model', feat_imp=True, roc=True)"
   ]
  },
  {
   "cell_type": "raw",
   "metadata": {},
   "source": [
    "### 65:35"
   ]
  },
  {
   "cell_type": "code",
   "execution_count": 334,
   "metadata": {},
   "outputs": [],
   "source": [
    "from imblearn.under_sampling import RandomUnderSampler"
   ]
  },
  {
   "cell_type": "code",
   "execution_count": 337,
   "metadata": {},
   "outputs": [],
   "source": [
    "rusknn = RandomUnderSampler(return_indices=True, sampling_strategy={0:.8})\n",
    "X_rus, y_rus, id_rus = rus.fit_sample(X_old, y_old)\n",
    "X_rus= pd.DataFrame(X_rus, columns=X_old.columns)\n",
    "y_rus= pd.Series(y_rus, name=y.name)"
   ]
  },
  {
   "cell_type": "code",
   "execution_count": 339,
   "metadata": {},
   "outputs": [
    {
     "data": {
      "text/plain": [
       "1    42366\n",
       "0    42366\n",
       "Name: dep_purchase_lexus_new_luv_6mo, dtype: int64"
      ]
     },
     "execution_count": 339,
     "metadata": {},
     "output_type": "execute_result"
    }
   ],
   "source": [
    "y_rusknn.value_counts()"
   ]
  },
  {
   "cell_type": "raw",
   "metadata": {},
   "source": [
    "X_rusknn.shape"
   ]
  },
  {
   "cell_type": "raw",
   "metadata": {},
   "source": [
    "X_old.shape"
   ]
  },
  {
   "cell_type": "raw",
   "metadata": {},
   "source": [
    "X_rusknn=X_rusknn.append(X_old.iloc[y_old[y_old==0].index].sample(frac=.0075))"
   ]
  },
  {
   "cell_type": "raw",
   "metadata": {},
   "source": [
    "X_rusknn.shape"
   ]
  },
  {
   "cell_type": "raw",
   "metadata": {},
   "source": [
    "y_old.iloc[X_rusknn.index].value_counts()"
   ]
  },
  {
   "cell_type": "raw",
   "metadata": {},
   "source": [
    "y_rusknn.tail()"
   ]
  },
  {
   "cell_type": "raw",
   "metadata": {},
   "source": [
    "# Separate majority and minority classes  ### 1min\n",
    "X_train_majority = X_old.iloc[y_old[y_old==0].index]\n",
    "\n",
    "\n",
    "X_train_minority = X_old.iloc[y_old[y_old==1].index]"
   ]
  },
  {
   "cell_type": "raw",
   "metadata": {},
   "source": [
    "int(np.round(X_train_minority.shape[0]*1.84))"
   ]
  },
  {
   "cell_type": "raw",
   "metadata": {},
   "source": [
    "X_train_minority.shape"
   ]
  },
  {
   "cell_type": "raw",
   "metadata": {},
   "source": [
    "X_train_majority_sampled = resample(X_train_majority, \n",
    "                                 replace=False,     # sample without replacement\n",
    "                                 n_samples=int(np.round(X_train_minority.shape[0]*1.84)),    # to match majority class\n",
    "                                 random_state=123) # reproducible results\n",
    "\n",
    "\n",
    "\n",
    "# Combine majority class with upsampled minority class\n",
    "X_train_sampled = pd.concat([X_train_majority_sampled, X_train_minority], axis=0)\n"
   ]
  },
  {
   "cell_type": "raw",
   "metadata": {},
   "source": [
    "X_train_sampled.shape"
   ]
  },
  {
   "cell_type": "raw",
   "metadata": {},
   "source": [
    "y_old.iloc[X_train_sampled.index].shape"
   ]
  },
  {
   "cell_type": "code",
   "execution_count": 204,
   "metadata": {},
   "outputs": [],
   "source": [
    "from imblearn.under_sampling import OneSidedSelection"
   ]
  },
  {
   "cell_type": "raw",
   "metadata": {},
   "source": [
    "model_evaluation.model_evaluation_test(X_old_test_xgb_selected, y_old_test, rf_rus_knn, alg_name='Random Forest Model', feat_imp=True, roc=True)"
   ]
  },
  {
   "cell_type": "raw",
   "metadata": {},
   "source": [
    "rf_rus_knn= mlModels.rf(X_train, y_train, X_test, y_test)"
   ]
  },
  {
   "cell_type": "raw",
   "metadata": {},
   "source": [
    "X_train, X_test,y_train, y_test= data_split.train_test_split(X_resample_xgb_selected, y_old.iloc[X_train_sampled.index])"
   ]
  },
  {
   "cell_type": "raw",
   "metadata": {},
   "source": [
    "x, y=OneSidedSelection(n_jobs=-1, sampling_strategy={0:500,1:500})"
   ]
  },
  {
   "cell_type": "code",
   "execution_count": 242,
   "metadata": {},
   "outputs": [
    {
     "data": {
      "text/plain": [
       "(84732, 257)"
      ]
     },
     "execution_count": 242,
     "metadata": {},
     "output_type": "execute_result"
    }
   ],
   "source": [
    "X_rusknn.shape"
   ]
  },
  {
   "cell_type": "raw",
   "metadata": {},
   "source": [
    "X_resample_xgb_selected= X_train_sampled[[\"days_since_last_purchase_vehicle\",\n",
    "\"max_value_vehicles_per_hh\",\n",
    "\"customer_language_english_ind\",\n",
    "\"driver_ind\",\n",
    "\"days_since_first_purchase_vehicle\",\n",
    "\"current_owned_lexus_new_luv_ind\",\n",
    "\"second_last_purchase_age\",\n",
    "\"last_reported_mileage_recent_vehicle\",\n",
    "\"avg_zip3_vehicle_val\",\n",
    "\"length_of_residence\",\n",
    "\"no_ro_visits_48_60mo\",\n",
    "\"association_type\",\n",
    "\"owned_lexus_new_luv_ind\",\n",
    "\"current_owned_lexus_LUV_ind\",\n",
    "\"avg_mileage_permonth_recent_vehicle\",\n",
    "\"no_leased_vehicle\",\n",
    "\"noros_high_ro_time_0_6mo\",\n",
    "\"owned_rx_ind\",\n",
    "\"purchased_vehicle_used_ind\",\n",
    "\"purchased_vehicle_lexus_LUV_ind\",\n",
    "\"ever_warranty_payment_ind\",\n",
    "\"avg_service_assoc_length\",\n",
    "\"last_serviced_dealer_no\",\n",
    "\"purchased_lexus_LUV_last_3years_ind\",\n",
    "\"communication_received_ind\",\n",
    "\"communication_clicked_ind\",\n",
    "\"ever_service_lexus_LUV_ind\",\n",
    "\"first_purchase_vehicle_msrp\",\n",
    "\"avg_cust_pay_36_48mo\",\n",
    "\"avg_cust_pay_24_36mo\",\n",
    "\"avg_ro_time_18_24mo\",\n",
    "\"no_ro_visits_12_18mo\",\n",
    "\"pma_toy_scion_dealership_cd\",\n",
    "\"pma_lexus_dealership_cd\",\n",
    "\"owned_big_engine_vehicle_ind\",\n",
    "\"dofu_year1_ind\",\n",
    "\"pma_lexus_dealership_region\",\n",
    "\"avg_ro_time_6_12mo\",\n",
    "\"last_serviced_dealer_region\",\n",
    "\"gndr_cd\",\n",
    "\"owned_silver_gray_vehicle_ind\",\n",
    "\"purchased_lexus_last_3years_ind\",\n",
    "\"service_survey_ind\",\n",
    "\"has_uss\",\n",
    "\"ever_lead_ind\",\n",
    "\"ever_handraiser_ind\",\n",
    "\"i1_occupation_grp_val\",\n",
    "\"avg_custpay_recent_vehicle\",\n",
    "\"avg_ro_time_0_6mo\",\n",
    "\"est_current_mileage\",\n",
    "\"pma_toy_scion_dealership_region\",\n",
    "\"active_brand\",\n",
    "\"owned_lexus_ind\",\n",
    "\"owned_vehicle_my_2011_20_ind\",\n",
    "\"purchased_lexus_sedan_last_2years_ind\",\n",
    "\"current_owned_es_ind\",\n",
    "\"purchased_vehicle_new_ind\",\n",
    "\"brochure_requested_ind\",\n",
    "\"avg_no_vehicles_per_hh\",\n",
    "\"avg_ro_time_12_18mo\",\n",
    "\"home_ownership\",\n",
    "\"owned_lexus_LUV_ind\",\n",
    "\"owned_is250_ind\",\n",
    "\"owned_es_ind\",\n",
    "\"owned_other_color_vehicle_ind\",\n",
    "\"purchased_vehicle_last_2years_ind\",\n",
    "\"purchased_lexus_LUV_last_2years_ind\",\n",
    "\"past_owned_lexus_new_sedan_ind\",\n",
    "\"sales_survey_ind\",\n",
    "\"high_service_ind\",\n",
    "\"no_sales_dealer_assoc\",\n",
    "\"no_of_adlts_per_hh_cd\",\n",
    "\"no_ro_visits_0_6mo\",\n",
    "\"noros_high_ro_time_6_12mo\",\n",
    "\"marital_status_confidence\",\n",
    "\"owned_ct200h_ind\",\n",
    "\"owned_aqua_vehicle_ind\",\n",
    "\"purchased_is_last_3years_ind\",\n",
    "\"current_owned_lexus_new_sedan_ind\",\n",
    "\"current_owned_gs_ind\",\n",
    "\"past_owned_lexus_sedan_ind\",\n",
    "\"past_owned_lexus_LUV_ind\",\n",
    "\"purchased_vehicle_4wd_ind\",\n",
    "\"past_owned_toyota_4wd_ind\",\n",
    "\"ever_service_hybrid_ind\",\n",
    "\"last_sales_dealer_region\",\n",
    "\"avg_cust_pay_48_60mo\",\n",
    "\"noros_high_ro_time_12_18mo\"]]"
   ]
  },
  {
   "cell_type": "markdown",
   "metadata": {},
   "source": [
    "#### 50:50"
   ]
  },
  {
   "cell_type": "code",
   "execution_count": 239,
   "metadata": {},
   "outputs": [],
   "source": [
    "rusknn = RepeatedEditedNearestNeighbours(return_indices=True, sampling_strategy=.8)\n",
    "X_rusknn, y_rusknn, id_rusknn = rus.fit_sample(X_old, y_old)\n",
    "X_rusknn= pd.DataFrame(X_rusknn, columns=X_old.columns)\n",
    "y_rusknn= pd.Series(y_rusknn, name=y.name)"
   ]
  },
  {
   "cell_type": "code",
   "execution_count": 209,
   "metadata": {},
   "outputs": [
    {
     "data": {
      "text/plain": [
       "(84732, 257)"
      ]
     },
     "execution_count": 209,
     "metadata": {},
     "output_type": "execute_result"
    }
   ],
   "source": [
    "X_rusknn.shape"
   ]
  },
  {
   "cell_type": "code",
   "execution_count": 211,
   "metadata": {},
   "outputs": [
    {
     "data": {
      "text/plain": [
       "(4742446, 257)"
      ]
     },
     "execution_count": 211,
     "metadata": {},
     "output_type": "execute_result"
    }
   ],
   "source": [
    "X_old.shape"
   ]
  },
  {
   "cell_type": "code",
   "execution_count": 210,
   "metadata": {},
   "outputs": [
    {
     "data": {
      "text/plain": [
       "1    42366\n",
       "0    42366\n",
       "Name: dep_purchase_lexus_new_luv_6mo, dtype: int64"
      ]
     },
     "execution_count": 210,
     "metadata": {},
     "output_type": "execute_result"
    }
   ],
   "source": [
    "y_rusknn.value_counts()"
   ]
  },
  {
   "cell_type": "code",
   "execution_count": 107,
   "metadata": {},
   "outputs": [
    {
     "data": {
      "text/plain": [
       "0    4700080\n",
       "1      42366\n",
       "Name: dep_purchase_lexus_new_luv_6mo, dtype: int64"
      ]
     },
     "execution_count": 107,
     "metadata": {},
     "output_type": "execute_result"
    }
   ],
   "source": [
    "y_old.value_counts()"
   ]
  },
  {
   "cell_type": "code",
   "execution_count": 243,
   "metadata": {},
   "outputs": [],
   "source": [
    "X_rusknn_xgb_selected= X_rusknn[[\"days_since_last_purchase_vehicle\",\n",
    "\"max_value_vehicles_per_hh\",\n",
    "\"customer_language_english_ind\",\n",
    "\"driver_ind\",\n",
    "\"days_since_first_purchase_vehicle\",\n",
    "\"current_owned_lexus_new_luv_ind\",\n",
    "\"second_last_purchase_age\",\n",
    "\"last_reported_mileage_recent_vehicle\",\n",
    "\"avg_zip3_vehicle_val\",\n",
    "\"length_of_residence\",\n",
    "\"no_ro_visits_48_60mo\",\n",
    "\"association_type\",\n",
    "\"owned_lexus_new_luv_ind\",\n",
    "\"current_owned_lexus_LUV_ind\",\n",
    "\"avg_mileage_permonth_recent_vehicle\",\n",
    "\"no_leased_vehicle\",\n",
    "\"noros_high_ro_time_0_6mo\",\n",
    "\"owned_rx_ind\",\n",
    "\"purchased_vehicle_used_ind\",\n",
    "\"purchased_vehicle_lexus_LUV_ind\",\n",
    "\"ever_warranty_payment_ind\",\n",
    "\"avg_service_assoc_length\",\n",
    "\"last_serviced_dealer_no\",\n",
    "\"purchased_lexus_LUV_last_3years_ind\",\n",
    "\"communication_received_ind\",\n",
    "\"communication_clicked_ind\",\n",
    "\"ever_service_lexus_LUV_ind\",\n",
    "\"first_purchase_vehicle_msrp\",\n",
    "\"avg_cust_pay_36_48mo\",\n",
    "\"avg_cust_pay_24_36mo\",\n",
    "\"avg_ro_time_18_24mo\",\n",
    "\"no_ro_visits_12_18mo\",\n",
    "\"pma_toy_scion_dealership_cd\",\n",
    "\"pma_lexus_dealership_cd\",\n",
    "\"owned_big_engine_vehicle_ind\",\n",
    "\"dofu_year1_ind\",\n",
    "\"pma_lexus_dealership_region\",\n",
    "\"avg_ro_time_6_12mo\",\n",
    "\"last_serviced_dealer_region\",\n",
    "\"gndr_cd\",\n",
    "\"owned_silver_gray_vehicle_ind\",\n",
    "\"purchased_lexus_last_3years_ind\",\n",
    "\"service_survey_ind\",\n",
    "\"has_uss\",\n",
    "\"ever_lead_ind\",\n",
    "\"ever_handraiser_ind\",\n",
    "\"i1_occupation_grp_val\",\n",
    "\"avg_custpay_recent_vehicle\",\n",
    "\"avg_ro_time_0_6mo\",\n",
    "\"est_current_mileage\",\n",
    "\"pma_toy_scion_dealership_region\",\n",
    "\"active_brand\",\n",
    "\"owned_lexus_ind\",\n",
    "\"owned_vehicle_my_2011_20_ind\",\n",
    "\"purchased_lexus_sedan_last_2years_ind\",\n",
    "\"current_owned_es_ind\",\n",
    "\"purchased_vehicle_new_ind\",\n",
    "\"brochure_requested_ind\",\n",
    "\"avg_no_vehicles_per_hh\",\n",
    "\"avg_ro_time_12_18mo\",\n",
    "\"home_ownership\",\n",
    "\"owned_lexus_LUV_ind\",\n",
    "\"owned_is250_ind\",\n",
    "\"owned_es_ind\",\n",
    "\"owned_other_color_vehicle_ind\",\n",
    "\"purchased_vehicle_last_2years_ind\",\n",
    "\"purchased_lexus_LUV_last_2years_ind\",\n",
    "\"past_owned_lexus_new_sedan_ind\",\n",
    "\"sales_survey_ind\",\n",
    "\"high_service_ind\",\n",
    "\"no_sales_dealer_assoc\",\n",
    "\"no_of_adlts_per_hh_cd\",\n",
    "\"no_ro_visits_0_6mo\",\n",
    "\"noros_high_ro_time_6_12mo\",\n",
    "\"marital_status_confidence\",\n",
    "\"owned_ct200h_ind\",\n",
    "\"owned_aqua_vehicle_ind\",\n",
    "\"purchased_is_last_3years_ind\",\n",
    "\"current_owned_lexus_new_sedan_ind\",\n",
    "\"current_owned_gs_ind\",\n",
    "\"past_owned_lexus_sedan_ind\",\n",
    "\"past_owned_lexus_LUV_ind\",\n",
    "\"purchased_vehicle_4wd_ind\",\n",
    "\"past_owned_toyota_4wd_ind\",\n",
    "\"ever_service_hybrid_ind\",\n",
    "\"last_sales_dealer_region\",\n",
    "\"avg_cust_pay_48_60mo\",\n",
    "\"noros_high_ro_time_12_18mo\"]]"
   ]
  },
  {
   "cell_type": "code",
   "execution_count": 244,
   "metadata": {},
   "outputs": [],
   "source": [
    "X_train, X_test,y_train, y_test= data_split.train_test_split(X_rusknn_xgb_selected, y_rusknn)"
   ]
  },
  {
   "cell_type": "code",
   "execution_count": 267,
   "metadata": {},
   "outputs": [
    {
     "name": "stdout",
     "output_type": "stream",
     "text": [
      "cross_val_score [0.82109983 0.83093384 0.8270517  0.82689433 0.83114328]\n",
      "accuracy 82.75503941840154\n",
      "balanced_accuracy_score 82.75676002322912\n",
      "f1_score 82.66341100584886\n",
      "precision_score 83.46772888329882\n",
      "Log loss 5.95629647945663\n",
      "recall_score 90.0462744357352\n"
     ]
    },
    {
     "data": {
      "image/png": "[encoded data removed]",
      "text/plain": [
       "<Figure size 432x288 with 1 Axes>"
      ]
     },
     "metadata": {},
     "output_type": "display_data"
    },
    {
     "name": "stdout",
     "output_type": "stream",
     "text": [
      "roc_auc_score 90.02155119350917\n",
      "confusion_matrix [[7995 2599]\n",
      " [1054 9535]]\n",
      "classification_report              precision    recall  f1-score   support\n",
      "\n",
      "           0       0.88      0.75      0.81     10594\n",
      "           1       0.79      0.90      0.84     10589\n",
      "\n",
      "   micro avg       0.83      0.83      0.83     21183\n",
      "   macro avg       0.83      0.83      0.83     21183\n",
      "weighted avg       0.83      0.83      0.83     21183\n",
      "\n",
      "\n",
      " Time taken to execute the rf is 0.8444969654083252\n",
      "\n",
      "Dated on2019-01-21 08:17:10.690743\n",
      "\n"
     ]
    }
   ],
   "source": [
    "rf_rus_knn= mlModels.rf(X_train, y_train, X_test, y_test, min_samples_split=50, n_estimators=100)"
   ]
  },
  {
   "cell_type": "code",
   "execution_count": 268,
   "metadata": {
    "scrolled": true
   },
   "outputs": [
    {
     "name": "stdout",
     "output_type": "stream",
     "text": [
      "Provided model : \n",
      " RandomForestClassifier(bootstrap=True, class_weight=None, criterion='gini',\n",
      "            max_depth=None, max_features='auto', max_leaf_nodes=None,\n",
      "            min_impurity_decrease=0.0, min_impurity_split=None,\n",
      "            min_samples_leaf=20, min_samples_split=50,\n",
      "            min_weight_fraction_leaf=0.0, n_estimators=100, n_jobs=-1,\n",
      "            oob_score=False, random_state=42, verbose=0, warm_start=False)\n",
      "accuracy  86.69465613479119\n",
      "f1_score  49.41377745632675\n",
      "precision_score  98.63411441393262\n",
      "recall_score  48.34049638847011\n",
      "confusion_matrix \n",
      " [[4374764  651750]\n",
      " [  22958   21483]]\n",
      "days_since_last_purchase_vehicle 0.04526496695509076\n",
      "max_value_vehicles_per_hh 0.02288297419440948\n",
      "customer_language_english_ind 0.3674547035694108\n",
      "driver_ind 0.018251325755161318\n",
      "days_since_first_purchase_vehicle 0.019457466806699356\n",
      "current_owned_lexus_new_luv_ind 0.03151574782322914\n",
      "second_last_purchase_age 0.014013030829759403\n",
      "last_reported_mileage_recent_vehicle 0.010679498017702332\n",
      "avg_zip3_vehicle_val 0.006245590757284886\n",
      "length_of_residence 0.006040573048084145\n",
      "no_ro_visits_48_60mo 0.004271526020851122\n",
      "association_type 0.002774111911714157\n",
      "owned_lexus_new_luv_ind 0.026596875484717963\n",
      "current_owned_lexus_LUV_ind 0.015104016982538262\n",
      "avg_mileage_permonth_recent_vehicle 0.009772376057957236\n",
      "no_leased_vehicle 0.001674004172322974\n",
      "noros_high_ro_time_0_6mo 0.0030612037604930108\n",
      "owned_rx_ind 0.013596812662424513\n",
      "purchased_vehicle_used_ind 0.00036777367757415407\n",
      "purchased_vehicle_lexus_LUV_ind 0.022471776353119116\n",
      "ever_warranty_payment_ind 0.005321201541564808\n",
      "avg_service_assoc_length 0.006560597434225586\n",
      "last_serviced_dealer_no 0.006368220988367282\n",
      "purchased_lexus_LUV_last_3years_ind 0.005377832517330728\n",
      "communication_received_ind 0.0014876081402149224\n",
      "communication_clicked_ind 0.00101146543531103\n",
      "ever_service_lexus_LUV_ind 0.022744588865032306\n",
      "first_purchase_vehicle_msrp 0.006418578106669292\n",
      "avg_cust_pay_36_48mo 0.0035230336106318594\n",
      "avg_cust_pay_24_36mo 0.004268999503906678\n",
      "avg_ro_time_18_24mo 0.006573044729010447\n",
      "no_ro_visits_12_18mo 0.011432756525239778\n",
      "pma_toy_scion_dealership_cd 0.006573663658005968\n",
      "pma_lexus_dealership_cd 0.005991977568028848\n",
      "owned_big_engine_vehicle_ind 0.0007172876722674865\n",
      "dofu_year1_ind 0.03596757632426479\n",
      "pma_lexus_dealership_region 0.002119894932088129\n",
      "avg_ro_time_6_12mo 0.0038768058986253045\n",
      "last_serviced_dealer_region 0.0018718882946345487\n",
      "gndr_cd 0.0014448917767724864\n",
      "owned_silver_gray_vehicle_ind 0.0004717519713010276\n",
      "purchased_lexus_last_3years_ind 0.00869003854135288\n",
      "service_survey_ind 0.0015312417090546113\n",
      "has_uss 0.0028335366225894386\n",
      "ever_lead_ind 0.0005739732034720661\n",
      "ever_handraiser_ind 6.517330260962714e-05\n",
      "i1_occupation_grp_val 0.003521347400367055\n",
      "avg_custpay_recent_vehicle 0.005517870602479393\n",
      "avg_ro_time_0_6mo 0.004025282596294633\n",
      "est_current_mileage 0.010813555494141142\n",
      "pma_toy_scion_dealership_region 0.003561753642787247\n",
      "active_brand 0.00477389442621341\n",
      "owned_lexus_ind 0.002607349887204107\n",
      "owned_vehicle_my_2011_20_ind 0.03502534196041052\n",
      "purchased_lexus_sedan_last_2years_ind 0.0010785397321747595\n",
      "current_owned_es_ind 0.0008364760422239185\n",
      "purchased_vehicle_new_ind 0.055562077287855845\n",
      "brochure_requested_ind 8.45654136198367e-06\n",
      "avg_no_vehicles_per_hh 0.005348161211584475\n",
      "avg_ro_time_12_18mo 0.004519009223484343\n",
      "home_ownership 0.0005173061483770083\n",
      "owned_lexus_LUV_ind 0.020918995806193497\n",
      "owned_is250_ind 0.0006477049997949852\n",
      "owned_es_ind 0.0012476754525972112\n",
      "owned_other_color_vehicle_ind 0.0009997038682668675\n",
      "purchased_vehicle_last_2years_ind 0.0020467420820912837\n",
      "purchased_lexus_LUV_last_2years_ind 0.0017513915158991172\n",
      "past_owned_lexus_new_sedan_ind 0.0013455540093794125\n",
      "sales_survey_ind 0.0020713786521870162\n",
      "high_service_ind 0.0008527983165776361\n",
      "no_sales_dealer_assoc 0.002449887726870928\n",
      "no_of_adlts_per_hh_cd 0.00235932444554486\n",
      "no_ro_visits_0_6mo 0.0060531749262970344\n",
      "noros_high_ro_time_6_12mo 0.0030109936012290505\n",
      "marital_status_confidence 0.0021738308077535653\n",
      "owned_ct200h_ind 9.240238964200378e-05\n",
      "owned_aqua_vehicle_ind 0.0010570877999146978\n",
      "purchased_is_last_3years_ind 0.0004809764971449143\n",
      "current_owned_lexus_new_sedan_ind 0.0034116777231154886\n",
      "current_owned_gs_ind 0.0002723836930625583\n",
      "past_owned_lexus_sedan_ind 0.0018930373726301533\n",
      "past_owned_lexus_LUV_ind 0.0015444360398200426\n",
      "purchased_vehicle_4wd_ind 0.0007816874700842112\n",
      "past_owned_toyota_4wd_ind 0.00040282384703722103\n",
      "ever_service_hybrid_ind 0.0005580617893778104\n",
      "last_sales_dealer_region 0.0029440290151915138\n",
      "avg_cust_pay_48_60mo 0.003264005101313365\n",
      "noros_high_ro_time_12_18mo 0.002337829140907656\n",
      "roc_auc_score 78.12877622683074\n"
     ]
    },
    {
     "data": {
      "image/png": "[encoded data removed]",
      "text/plain": [
       "<Figure size 432x288 with 1 Axes>"
      ]
     },
     "metadata": {},
     "output_type": "display_data"
    }
   ],
   "source": [
    "model_evaluation.model_evaluation_test(X_old_test_xgb_selected, y_old_test, rf_rus_knn, alg_name='Random Forest Model', feat_imp=True, roc=True)"
   ]
  },
  {
   "cell_type": "code",
   "execution_count": 269,
   "metadata": {},
   "outputs": [
    {
     "name": "stdout",
     "output_type": "stream",
     "text": [
      "Provided model : \n",
      " RandomForestClassifier(bootstrap=True, class_weight=None, criterion='gini',\n",
      "            max_depth=None, max_features='auto', max_leaf_nodes=None,\n",
      "            min_impurity_decrease=0.0, min_impurity_split=None,\n",
      "            min_samples_leaf=20, min_samples_split=50,\n",
      "            min_weight_fraction_leaf=0.0, n_estimators=100, n_jobs=-1,\n",
      "            oob_score=False, random_state=42, verbose=0, warm_start=False)\n",
      "accuracy  85.28379675525971\n",
      "f1_score  85.20826935225772\n",
      "precision_score  86.01766163514465\n",
      "recall_score  92.42219215155616\n",
      "confusion_matrix \n",
      " [[24828  6944]\n",
      " [ 2408 29369]]\n",
      "days_since_last_purchase_vehicle 0.04526496695509076\n",
      "max_value_vehicles_per_hh 0.02288297419440948\n",
      "customer_language_english_ind 0.3674547035694108\n",
      "driver_ind 0.018251325755161318\n",
      "days_since_first_purchase_vehicle 0.019457466806699356\n",
      "current_owned_lexus_new_luv_ind 0.03151574782322914\n",
      "second_last_purchase_age 0.014013030829759403\n",
      "last_reported_mileage_recent_vehicle 0.010679498017702332\n",
      "avg_zip3_vehicle_val 0.006245590757284886\n",
      "length_of_residence 0.006040573048084145\n",
      "no_ro_visits_48_60mo 0.004271526020851122\n",
      "association_type 0.002774111911714157\n",
      "owned_lexus_new_luv_ind 0.026596875484717963\n",
      "current_owned_lexus_LUV_ind 0.015104016982538262\n",
      "avg_mileage_permonth_recent_vehicle 0.009772376057957236\n",
      "no_leased_vehicle 0.001674004172322974\n",
      "noros_high_ro_time_0_6mo 0.0030612037604930108\n",
      "owned_rx_ind 0.013596812662424513\n",
      "purchased_vehicle_used_ind 0.00036777367757415407\n",
      "purchased_vehicle_lexus_LUV_ind 0.022471776353119116\n",
      "ever_warranty_payment_ind 0.005321201541564808\n",
      "avg_service_assoc_length 0.006560597434225586\n",
      "last_serviced_dealer_no 0.006368220988367282\n",
      "purchased_lexus_LUV_last_3years_ind 0.005377832517330728\n",
      "communication_received_ind 0.0014876081402149224\n",
      "communication_clicked_ind 0.00101146543531103\n",
      "ever_service_lexus_LUV_ind 0.022744588865032306\n",
      "first_purchase_vehicle_msrp 0.006418578106669292\n",
      "avg_cust_pay_36_48mo 0.0035230336106318594\n",
      "avg_cust_pay_24_36mo 0.004268999503906678\n",
      "avg_ro_time_18_24mo 0.006573044729010447\n",
      "no_ro_visits_12_18mo 0.011432756525239778\n",
      "pma_toy_scion_dealership_cd 0.006573663658005968\n",
      "pma_lexus_dealership_cd 0.005991977568028848\n",
      "owned_big_engine_vehicle_ind 0.0007172876722674865\n",
      "dofu_year1_ind 0.03596757632426479\n",
      "pma_lexus_dealership_region 0.002119894932088129\n",
      "avg_ro_time_6_12mo 0.0038768058986253045\n",
      "last_serviced_dealer_region 0.0018718882946345487\n",
      "gndr_cd 0.0014448917767724864\n",
      "owned_silver_gray_vehicle_ind 0.0004717519713010276\n",
      "purchased_lexus_last_3years_ind 0.00869003854135288\n",
      "service_survey_ind 0.0015312417090546113\n",
      "has_uss 0.0028335366225894386\n",
      "ever_lead_ind 0.0005739732034720661\n",
      "ever_handraiser_ind 6.517330260962714e-05\n",
      "i1_occupation_grp_val 0.003521347400367055\n",
      "avg_custpay_recent_vehicle 0.005517870602479393\n",
      "avg_ro_time_0_6mo 0.004025282596294633\n",
      "est_current_mileage 0.010813555494141142\n",
      "pma_toy_scion_dealership_region 0.003561753642787247\n",
      "active_brand 0.00477389442621341\n",
      "owned_lexus_ind 0.002607349887204107\n",
      "owned_vehicle_my_2011_20_ind 0.03502534196041052\n",
      "purchased_lexus_sedan_last_2years_ind 0.0010785397321747595\n",
      "current_owned_es_ind 0.0008364760422239185\n",
      "purchased_vehicle_new_ind 0.055562077287855845\n",
      "brochure_requested_ind 8.45654136198367e-06\n",
      "avg_no_vehicles_per_hh 0.005348161211584475\n",
      "avg_ro_time_12_18mo 0.004519009223484343\n",
      "home_ownership 0.0005173061483770083\n",
      "owned_lexus_LUV_ind 0.020918995806193497\n",
      "owned_is250_ind 0.0006477049997949852\n",
      "owned_es_ind 0.0012476754525972112\n",
      "owned_other_color_vehicle_ind 0.0009997038682668675\n",
      "purchased_vehicle_last_2years_ind 0.0020467420820912837\n",
      "purchased_lexus_LUV_last_2years_ind 0.0017513915158991172\n",
      "past_owned_lexus_new_sedan_ind 0.0013455540093794125\n",
      "sales_survey_ind 0.0020713786521870162\n",
      "high_service_ind 0.0008527983165776361\n",
      "no_sales_dealer_assoc 0.002449887726870928\n",
      "no_of_adlts_per_hh_cd 0.00235932444554486\n",
      "no_ro_visits_0_6mo 0.0060531749262970344\n",
      "noros_high_ro_time_6_12mo 0.0030109936012290505\n",
      "marital_status_confidence 0.0021738308077535653\n",
      "owned_ct200h_ind 9.240238964200378e-05\n",
      "owned_aqua_vehicle_ind 0.0010570877999146978\n",
      "purchased_is_last_3years_ind 0.0004809764971449143\n",
      "current_owned_lexus_new_sedan_ind 0.0034116777231154886\n",
      "current_owned_gs_ind 0.0002723836930625583\n",
      "past_owned_lexus_sedan_ind 0.0018930373726301533\n",
      "past_owned_lexus_LUV_ind 0.0015444360398200426\n",
      "purchased_vehicle_4wd_ind 0.0007816874700842112\n",
      "past_owned_toyota_4wd_ind 0.00040282384703722103\n",
      "ever_service_hybrid_ind 0.0005580617893778104\n",
      "last_sales_dealer_region 0.0029440290151915138\n",
      "avg_cust_pay_48_60mo 0.003264005101313365\n",
      "noros_high_ro_time_12_18mo 0.002337829140907656\n",
      "roc_auc_score 93.37083020015423\n"
     ]
    },
    {
     "data": {
      "image/png": "[encoded data removed]",
      "text/plain": [
       "<Figure size 432x288 with 1 Axes>"
      ]
     },
     "metadata": {},
     "output_type": "display_data"
    }
   ],
   "source": [
    "model_evaluation.model_evaluation_test(X_train, y_train, rf_rus_knn, alg_name='RF Model', feat_imp=True, roc=True)"
   ]
  },
  {
   "cell_type": "code",
   "execution_count": 270,
   "metadata": {},
   "outputs": [
    {
     "name": "stdout",
     "output_type": "stream",
     "text": [
      "cross_val_score [0.82039179 0.83179923 0.82595011 0.82595011 0.82901881]\n",
      "accuracy 82.79752631827408\n",
      "balanced_accuracy_score 82.79921906841999\n",
      "f1_score 82.70908231816003\n",
      "precision_score 83.4877592937863\n",
      "Log loss 5.941621382411335\n",
      "recall_score 89.97072433657569\n"
     ]
    },
    {
     "data": {
      "image/png": "[encoded data removed]",
      "text/plain": [
       "<Figure size 432x288 with 1 Axes>"
      ]
     },
     "metadata": {},
     "output_type": "display_data"
    },
    {
     "name": "stdout",
     "output_type": "stream",
     "text": [
      "roc_auc_score 90.02147765090038\n",
      "confusion_matrix [[8012 2582]\n",
      " [1062 9527]]\n",
      "classification_report              precision    recall  f1-score   support\n",
      "\n",
      "           0       0.88      0.76      0.81     10594\n",
      "           1       0.79      0.90      0.84     10589\n",
      "\n",
      "   micro avg       0.83      0.83      0.83     21183\n",
      "   macro avg       0.83      0.83      0.83     21183\n",
      "weighted avg       0.83      0.83      0.83     21183\n",
      "\n",
      "\n",
      " Time taken to execute the rf is 0.8096954822540283\n",
      "\n",
      "Dated on2019-01-21 08:18:21.925241\n",
      "\n"
     ]
    }
   ],
   "source": [
    "rf_rus_knn= mlModels.rf(X_train, y_train, X_test, y_test, min_samples_split=40, n_estimators=80)"
   ]
  },
  {
   "cell_type": "code",
   "execution_count": 271,
   "metadata": {
    "scrolled": true
   },
   "outputs": [
    {
     "name": "stdout",
     "output_type": "stream",
     "text": [
      "Provided model : \n",
      " RandomForestClassifier(bootstrap=True, class_weight=None, criterion='gini',\n",
      "            max_depth=None, max_features='auto', max_leaf_nodes=None,\n",
      "            min_impurity_decrease=0.0, min_impurity_split=None,\n",
      "            min_samples_leaf=20, min_samples_split=40,\n",
      "            min_weight_fraction_leaf=0.0, n_estimators=80, n_jobs=-1,\n",
      "            oob_score=False, random_state=42, verbose=0, warm_start=False)\n",
      "accuracy  89.0360099823406\n",
      "f1_score  50.27830135761493\n",
      "precision_score  98.59485073334523\n",
      "recall_score  42.625053441641725\n",
      "confusion_matrix \n",
      " [[4496033  530481]\n",
      " [  25498   18943]]\n",
      "days_since_last_purchase_vehicle 0.04490304029399523\n",
      "max_value_vehicles_per_hh 0.0222225676394194\n",
      "customer_language_english_ind 0.36054257737430634\n",
      "driver_ind 0.017754674997410888\n",
      "days_since_first_purchase_vehicle 0.021085477810076938\n",
      "current_owned_lexus_new_luv_ind 0.02930948287198561\n",
      "second_last_purchase_age 0.01141676587360212\n",
      "last_reported_mileage_recent_vehicle 0.00991082554452129\n",
      "avg_zip3_vehicle_val 0.0072581977570031625\n",
      "length_of_residence 0.00650648551708214\n",
      "no_ro_visits_48_60mo 0.003889529485877377\n",
      "association_type 0.0034479017308717387\n",
      "owned_lexus_new_luv_ind 0.020025140417437956\n",
      "current_owned_lexus_LUV_ind 0.016503847557607237\n",
      "avg_mileage_permonth_recent_vehicle 0.010525003433571375\n",
      "no_leased_vehicle 0.0016048625225489675\n",
      "noros_high_ro_time_0_6mo 0.003094781170497789\n",
      "owned_rx_ind 0.014896496909783685\n",
      "purchased_vehicle_used_ind 0.0003552146266557057\n",
      "purchased_vehicle_lexus_LUV_ind 0.024434237502151384\n",
      "ever_warranty_payment_ind 0.007410843481542616\n",
      "avg_service_assoc_length 0.0074866600906867\n",
      "last_serviced_dealer_no 0.006530331968075337\n",
      "purchased_lexus_LUV_last_3years_ind 0.005175109908362794\n",
      "communication_received_ind 0.0016089499809433735\n",
      "communication_clicked_ind 0.0009967577924463122\n",
      "ever_service_lexus_LUV_ind 0.024111983816781982\n",
      "first_purchase_vehicle_msrp 0.0068956003866920395\n",
      "avg_cust_pay_36_48mo 0.003558362208930485\n",
      "avg_cust_pay_24_36mo 0.004177694219988085\n",
      "avg_ro_time_18_24mo 0.006329151035948273\n",
      "no_ro_visits_12_18mo 0.011125106602235863\n",
      "pma_toy_scion_dealership_cd 0.006844728279123668\n",
      "pma_lexus_dealership_cd 0.006384047775134074\n",
      "owned_big_engine_vehicle_ind 0.0007174567524341357\n",
      "dofu_year1_ind 0.03318752295956103\n",
      "pma_lexus_dealership_region 0.0022600283397497655\n",
      "avg_ro_time_6_12mo 0.004237406627463381\n",
      "last_serviced_dealer_region 0.0019511629601453172\n",
      "gndr_cd 0.0016008930050314001\n",
      "owned_silver_gray_vehicle_ind 0.0005522357707056178\n",
      "purchased_lexus_last_3years_ind 0.0070713181196654555\n",
      "service_survey_ind 0.001523578145787906\n",
      "has_uss 0.0030561884372092975\n",
      "ever_lead_ind 0.0005769652509181862\n",
      "ever_handraiser_ind 4.8301848841078695e-05\n",
      "i1_occupation_grp_val 0.0036346384286586727\n",
      "avg_custpay_recent_vehicle 0.0054708814988920895\n",
      "avg_ro_time_0_6mo 0.0046246477953285434\n",
      "est_current_mileage 0.011329866770352689\n",
      "pma_toy_scion_dealership_region 0.0040435019034866845\n",
      "active_brand 0.003122816806508045\n",
      "owned_lexus_ind 0.0031888728592165926\n",
      "owned_vehicle_my_2011_20_ind 0.045374552252561214\n",
      "purchased_lexus_sedan_last_2years_ind 0.0008749773155733813\n",
      "current_owned_es_ind 0.0006116315030966571\n",
      "purchased_vehicle_new_ind 0.0529381787256597\n",
      "brochure_requested_ind 9.869062460867333e-06\n",
      "avg_no_vehicles_per_hh 0.005860031445819433\n",
      "avg_ro_time_12_18mo 0.005043554554773061\n",
      "home_ownership 0.0006291307289691022\n",
      "owned_lexus_LUV_ind 0.021462289475543243\n",
      "owned_is250_ind 0.0005551846659291007\n",
      "owned_es_ind 0.0011397020855394165\n",
      "owned_other_color_vehicle_ind 0.0008507788770952378\n",
      "purchased_vehicle_last_2years_ind 0.0018758927592834554\n",
      "purchased_lexus_LUV_last_2years_ind 0.0014419177980855688\n",
      "past_owned_lexus_new_sedan_ind 0.0016135435672081672\n",
      "sales_survey_ind 0.001882667905187888\n",
      "high_service_ind 0.0009619065779130871\n",
      "no_sales_dealer_assoc 0.002767375033688277\n",
      "no_of_adlts_per_hh_cd 0.0026058643501191024\n",
      "no_ro_visits_0_6mo 0.00570740872202972\n",
      "noros_high_ro_time_6_12mo 0.0034021483512298644\n",
      "marital_status_confidence 0.0019176608953716228\n",
      "owned_ct200h_ind 6.23575108699832e-05\n",
      "owned_aqua_vehicle_ind 0.0010535558315844097\n",
      "purchased_is_last_3years_ind 0.0005773064708156473\n",
      "current_owned_lexus_new_sedan_ind 0.003523112390364489\n",
      "current_owned_gs_ind 0.00031193701889888385\n",
      "past_owned_lexus_sedan_ind 0.0015904598282977754\n",
      "past_owned_lexus_LUV_ind 0.0022245694152999386\n",
      "purchased_vehicle_4wd_ind 0.0009784245374401983\n",
      "past_owned_toyota_4wd_ind 0.0005590383180421829\n",
      "ever_service_hybrid_ind 0.0006095878625244625\n",
      "last_sales_dealer_region 0.003409615635829677\n",
      "avg_cust_pay_48_60mo 0.003216344801872794\n",
      "noros_high_ro_time_12_18mo 0.0018367008617686874\n",
      "roc_auc_score 78.0800167406603\n"
     ]
    },
    {
     "data": {
      "image/png": "[encoded data removed]",
      "text/plain": [
       "<Figure size 432x288 with 1 Axes>"
      ]
     },
     "metadata": {},
     "output_type": "display_data"
    }
   ],
   "source": [
    "model_evaluation.model_evaluation_test(X_old_test_xgb_selected, y_old_test, rf_rus_knn, alg_name='Random Forest Model', feat_imp=True, roc=True)"
   ]
  },
  {
   "cell_type": "code",
   "execution_count": 272,
   "metadata": {},
   "outputs": [
    {
     "name": "stdout",
     "output_type": "stream",
     "text": [
      "Provided model : \n",
      " RandomForestClassifier(bootstrap=True, class_weight=None, criterion='gini',\n",
      "            max_depth=None, max_features='auto', max_leaf_nodes=None,\n",
      "            min_impurity_decrease=0.0, min_impurity_split=None,\n",
      "            min_samples_leaf=20, min_samples_split=40,\n",
      "            min_weight_fraction_leaf=0.0, n_estimators=80, n_jobs=-1,\n",
      "            oob_score=False, random_state=42, verbose=0, warm_start=False)\n",
      "accuracy  85.5072463768116\n",
      "f1_score  85.43560560481004\n",
      "precision_score  86.21811723445983\n",
      "recall_score  92.51345312647513\n",
      "confusion_matrix \n",
      " [[24941  6831]\n",
      " [ 2379 29398]]\n",
      "days_since_last_purchase_vehicle 0.04490304029399523\n",
      "max_value_vehicles_per_hh 0.0222225676394194\n",
      "customer_language_english_ind 0.36054257737430634\n",
      "driver_ind 0.017754674997410888\n",
      "days_since_first_purchase_vehicle 0.021085477810076938\n",
      "current_owned_lexus_new_luv_ind 0.02930948287198561\n",
      "second_last_purchase_age 0.01141676587360212\n",
      "last_reported_mileage_recent_vehicle 0.00991082554452129\n",
      "avg_zip3_vehicle_val 0.0072581977570031625\n",
      "length_of_residence 0.00650648551708214\n",
      "no_ro_visits_48_60mo 0.003889529485877377\n",
      "association_type 0.0034479017308717387\n",
      "owned_lexus_new_luv_ind 0.020025140417437956\n",
      "current_owned_lexus_LUV_ind 0.016503847557607237\n",
      "avg_mileage_permonth_recent_vehicle 0.010525003433571375\n",
      "no_leased_vehicle 0.0016048625225489675\n",
      "noros_high_ro_time_0_6mo 0.003094781170497789\n",
      "owned_rx_ind 0.014896496909783685\n",
      "purchased_vehicle_used_ind 0.0003552146266557057\n",
      "purchased_vehicle_lexus_LUV_ind 0.024434237502151384\n",
      "ever_warranty_payment_ind 0.007410843481542616\n",
      "avg_service_assoc_length 0.0074866600906867\n",
      "last_serviced_dealer_no 0.006530331968075337\n",
      "purchased_lexus_LUV_last_3years_ind 0.005175109908362794\n",
      "communication_received_ind 0.0016089499809433735\n",
      "communication_clicked_ind 0.0009967577924463122\n",
      "ever_service_lexus_LUV_ind 0.024111983816781982\n",
      "first_purchase_vehicle_msrp 0.0068956003866920395\n",
      "avg_cust_pay_36_48mo 0.003558362208930485\n",
      "avg_cust_pay_24_36mo 0.004177694219988085\n",
      "avg_ro_time_18_24mo 0.006329151035948273\n",
      "no_ro_visits_12_18mo 0.011125106602235863\n",
      "pma_toy_scion_dealership_cd 0.006844728279123668\n",
      "pma_lexus_dealership_cd 0.006384047775134074\n",
      "owned_big_engine_vehicle_ind 0.0007174567524341357\n",
      "dofu_year1_ind 0.03318752295956103\n",
      "pma_lexus_dealership_region 0.0022600283397497655\n",
      "avg_ro_time_6_12mo 0.004237406627463381\n",
      "last_serviced_dealer_region 0.0019511629601453172\n",
      "gndr_cd 0.0016008930050314001\n",
      "owned_silver_gray_vehicle_ind 0.0005522357707056178\n",
      "purchased_lexus_last_3years_ind 0.0070713181196654555\n",
      "service_survey_ind 0.001523578145787906\n",
      "has_uss 0.0030561884372092975\n",
      "ever_lead_ind 0.0005769652509181862\n",
      "ever_handraiser_ind 4.8301848841078695e-05\n",
      "i1_occupation_grp_val 0.0036346384286586727\n",
      "avg_custpay_recent_vehicle 0.0054708814988920895\n",
      "avg_ro_time_0_6mo 0.0046246477953285434\n",
      "est_current_mileage 0.011329866770352689\n",
      "pma_toy_scion_dealership_region 0.0040435019034866845\n",
      "active_brand 0.003122816806508045\n",
      "owned_lexus_ind 0.0031888728592165926\n",
      "owned_vehicle_my_2011_20_ind 0.045374552252561214\n",
      "purchased_lexus_sedan_last_2years_ind 0.0008749773155733813\n",
      "current_owned_es_ind 0.0006116315030966571\n",
      "purchased_vehicle_new_ind 0.0529381787256597\n",
      "brochure_requested_ind 9.869062460867333e-06\n",
      "avg_no_vehicles_per_hh 0.005860031445819433\n",
      "avg_ro_time_12_18mo 0.005043554554773061\n",
      "home_ownership 0.0006291307289691022\n",
      "owned_lexus_LUV_ind 0.021462289475543243\n",
      "owned_is250_ind 0.0005551846659291007\n",
      "owned_es_ind 0.0011397020855394165\n",
      "owned_other_color_vehicle_ind 0.0008507788770952378\n",
      "purchased_vehicle_last_2years_ind 0.0018758927592834554\n",
      "purchased_lexus_LUV_last_2years_ind 0.0014419177980855688\n",
      "past_owned_lexus_new_sedan_ind 0.0016135435672081672\n",
      "sales_survey_ind 0.001882667905187888\n",
      "high_service_ind 0.0009619065779130871\n",
      "no_sales_dealer_assoc 0.002767375033688277\n",
      "no_of_adlts_per_hh_cd 0.0026058643501191024\n",
      "no_ro_visits_0_6mo 0.00570740872202972\n",
      "noros_high_ro_time_6_12mo 0.0034021483512298644\n",
      "marital_status_confidence 0.0019176608953716228\n",
      "owned_ct200h_ind 6.23575108699832e-05\n",
      "owned_aqua_vehicle_ind 0.0010535558315844097\n",
      "purchased_is_last_3years_ind 0.0005773064708156473\n",
      "current_owned_lexus_new_sedan_ind 0.003523112390364489\n",
      "current_owned_gs_ind 0.00031193701889888385\n",
      "past_owned_lexus_sedan_ind 0.0015904598282977754\n",
      "past_owned_lexus_LUV_ind 0.0022245694152999386\n",
      "purchased_vehicle_4wd_ind 0.0009784245374401983\n",
      "past_owned_toyota_4wd_ind 0.0005590383180421829\n",
      "ever_service_hybrid_ind 0.0006095878625244625\n",
      "last_sales_dealer_region 0.003409615635829677\n",
      "avg_cust_pay_48_60mo 0.003216344801872794\n",
      "noros_high_ro_time_12_18mo 0.0018367008617686874\n",
      "roc_auc_score 93.61263521543384\n"
     ]
    },
    {
     "data": {
      "image/png": "[encoded data removed]",
      "text/plain": [
       "<Figure size 432x288 with 1 Axes>"
      ]
     },
     "metadata": {},
     "output_type": "display_data"
    }
   ],
   "source": [
    "model_evaluation.model_evaluation_test(X_train, y_train, rf_rus_knn, alg_name='RF Model', feat_imp=True, roc=True)"
   ]
  },
  {
   "cell_type": "code",
   "execution_count": null,
   "metadata": {},
   "outputs": [],
   "source": [
    "rf_rus_knn= mlModels.rf(X_train, y_train, X_test, y_test, min_samples_split=40, n_estimators=50)"
   ]
  },
  {
   "cell_type": "code",
   "execution_count": null,
   "metadata": {
    "scrolled": true
   },
   "outputs": [],
   "source": [
    "model_evaluation.model_evaluation_test(X_old_test_xgb_selected, y_old_test, rf_rus_knn, alg_name='Random Forest Model', feat_imp=True, roc=True)"
   ]
  },
  {
   "cell_type": "code",
   "execution_count": null,
   "metadata": {},
   "outputs": [],
   "source": [
    "model_evaluation.model_evaluation_test(X_train, y_train, rf_rus_knn, alg_name='RF Model', feat_imp=True, roc=True)"
   ]
  },
  {
   "cell_type": "code",
   "execution_count": 183,
   "metadata": {},
   "outputs": [
    {
     "data": {
      "text/plain": [
       "(423660, 88)"
      ]
     },
     "execution_count": 183,
     "metadata": {},
     "output_type": "execute_result"
    }
   ],
   "source": [
    "X_old_xgb_selected.shape"
   ]
  },
  {
   "cell_type": "code",
   "execution_count": 184,
   "metadata": {},
   "outputs": [
    {
     "data": {
      "text/plain": [
       "(4742446, 257)"
      ]
     },
     "execution_count": 184,
     "metadata": {},
     "output_type": "execute_result"
    }
   ],
   "source": [
    "X_old.shape"
   ]
  },
  {
   "cell_type": "code",
   "execution_count": 255,
   "metadata": {},
   "outputs": [
    {
     "name": "stdout",
     "output_type": "stream",
     "text": [
      "cross_val_score [0.82566281 0.83549681 0.82815328 0.83326776 0.8325596 ]\n",
      "accuracy 83.48203748288722\n",
      "balanced_accuracy_score 83.48390521343643\n",
      "f1_score 83.37848315173862\n",
      "precision_score 84.34357770880699\n",
      "Log loss 5.705199828350178\n",
      "recall_score 91.39673245821135\n"
     ]
    },
    {
     "data": {
      "image/png": "[encoded data removed]",
      "text/plain": [
       "<Figure size 432x288 with 1 Axes>"
      ]
     },
     "metadata": {},
     "output_type": "display_data"
    },
    {
     "name": "stdout",
     "output_type": "stream",
     "text": [
      "roc_auc_score 90.75318604855526\n",
      "confusion_matrix [[8006 2588]\n",
      " [ 911 9678]]\n",
      "classification_report              precision    recall  f1-score   support\n",
      "\n",
      "           0       0.90      0.76      0.82     10594\n",
      "           1       0.79      0.91      0.85     10589\n",
      "\n",
      "   micro avg       0.83      0.83      0.83     21183\n",
      "   macro avg       0.84      0.83      0.83     21183\n",
      "weighted avg       0.84      0.83      0.83     21183\n",
      "\n",
      "\n",
      " Time taken to execute the XGB is 2.6432600021362305\n",
      "\n",
      "Dated on2019-01-21 07:13:51.251118\n",
      "\n"
     ]
    }
   ],
   "source": [
    "xgb_rus_knn= mlModels.xgb(X_train, y_train, X_test, y_test, n_estimators=200)"
   ]
  },
  {
   "cell_type": "code",
   "execution_count": 259,
   "metadata": {
    "scrolled": false
   },
   "outputs": [
    {
     "name": "stdout",
     "output_type": "stream",
     "text": [
      "Provided model : \n",
      " XGBClassifier(base_score=0.5, booster='gbtree', colsample_bylevel=1,\n",
      "       colsample_bytree=1, gamma=0, learning_rate=0.1, max_delta_step=0,\n",
      "       max_depth=3, min_child_weight=1, missing=0, n_estimators=200,\n",
      "       n_jobs=-1, nthread=None, objective='binary:logistic',\n",
      "       random_state=42, reg_alpha=0, reg_lambda=1, scale_pos_weight=1,\n",
      "       seed=None, silent=True, subsample=1)\n",
      "accuracy  83.79360808195251\n",
      "f1_score  83.6982650575649\n",
      "precision_score  84.60124932003842\n",
      "recall_score  91.43405607829563\n",
      "confusion_matrix \n",
      " [[24195  7577]\n",
      " [ 2722 29055]]\n",
      "days_since_last_purchase_vehicle 0.11127168\n",
      "max_value_vehicles_per_hh 0.10765896\n",
      "customer_language_english_ind 0.050578035\n",
      "driver_ind 0.03251445\n",
      "days_since_first_purchase_vehicle 0.04479769\n",
      "current_owned_lexus_new_luv_ind 0.0072254334\n",
      "second_last_purchase_age 0.033959538\n",
      "last_reported_mileage_recent_vehicle 0.03612717\n",
      "avg_zip3_vehicle_val 0.033959538\n",
      "length_of_residence 0.023121387\n",
      "no_ro_visits_48_60mo 0.01300578\n",
      "association_type 0.01300578\n",
      "owned_lexus_new_luv_ind 0.012283237\n",
      "current_owned_lexus_LUV_ind 0.007947977\n",
      "avg_mileage_permonth_recent_vehicle 0.02601156\n",
      "no_leased_vehicle 0.01083815\n",
      "noros_high_ro_time_0_6mo 0.00867052\n",
      "owned_rx_ind 0.0072254334\n",
      "purchased_vehicle_used_ind 0.00650289\n",
      "purchased_vehicle_lexus_LUV_ind 0.00650289\n",
      "ever_warranty_payment_ind 0.0050578034\n",
      "avg_service_assoc_length 0.014450867\n",
      "last_serviced_dealer_no 0.024566473\n",
      "purchased_lexus_LUV_last_3years_ind 0.0072254334\n",
      "communication_received_ind 0.009393063\n",
      "communication_clicked_ind 0.0072254334\n",
      "ever_service_lexus_LUV_ind 0.0057803467\n",
      "first_purchase_vehicle_msrp 0.023121387\n",
      "avg_cust_pay_36_48mo 0.01083815\n",
      "avg_cust_pay_24_36mo 0.013728323\n",
      "avg_ro_time_18_24mo 0.00650289\n",
      "no_ro_visits_12_18mo 0.010115607\n",
      "pma_toy_scion_dealership_cd 0.014450867\n",
      "pma_lexus_dealership_cd 0.01300578\n",
      "owned_big_engine_vehicle_ind 0.0028901733\n",
      "dofu_year1_ind 0.0050578034\n",
      "pma_lexus_dealership_region 0.0050578034\n",
      "avg_ro_time_6_12mo 0.007947977\n",
      "last_serviced_dealer_region 0.0036127167\n",
      "gndr_cd 0.0057803467\n",
      "owned_silver_gray_vehicle_ind 0.00433526\n",
      "purchased_lexus_last_3years_ind 0.0028901733\n",
      "service_survey_ind 0.00072254334\n",
      "has_uss 0.0057803467\n",
      "ever_lead_ind 0.0050578034\n",
      "ever_handraiser_ind 0.00433526\n",
      "i1_occupation_grp_val 0.0050578034\n",
      "avg_custpay_recent_vehicle 0.01083815\n",
      "avg_ro_time_0_6mo 0.00867052\n",
      "est_current_mileage 0.01300578\n",
      "pma_toy_scion_dealership_region 0.007947977\n",
      "active_brand 0.0\n",
      "owned_lexus_ind 0.00216763\n",
      "owned_vehicle_my_2011_20_ind 0.0028901733\n",
      "purchased_lexus_sedan_last_2years_ind 0.0028901733\n",
      "current_owned_es_ind 0.00072254334\n",
      "purchased_vehicle_new_ind 0.0028901733\n",
      "brochure_requested_ind 0.00433526\n",
      "avg_no_vehicles_per_hh 0.01517341\n",
      "avg_ro_time_12_18mo 0.01517341\n",
      "home_ownership 0.0036127167\n",
      "owned_lexus_LUV_ind 0.00072254334\n",
      "owned_is250_ind 0.00433526\n",
      "owned_es_ind 0.0057803467\n",
      "owned_other_color_vehicle_ind 0.00072254334\n",
      "purchased_vehicle_last_2years_ind 0.00072254334\n",
      "purchased_lexus_LUV_last_2years_ind 0.0014450867\n",
      "past_owned_lexus_new_sedan_ind 0.0036127167\n",
      "sales_survey_ind 0.0036127167\n",
      "high_service_ind 0.0\n",
      "no_sales_dealer_assoc 0.00433526\n",
      "no_of_adlts_per_hh_cd 0.0050578034\n",
      "no_ro_visits_0_6mo 0.0057803467\n",
      "noros_high_ro_time_6_12mo 0.0036127167\n",
      "marital_status_confidence 0.00216763\n",
      "owned_ct200h_ind 0.0028901733\n",
      "owned_aqua_vehicle_ind 0.0072254334\n",
      "purchased_is_last_3years_ind 0.0014450867\n",
      "current_owned_lexus_new_sedan_ind 0.0050578034\n",
      "current_owned_gs_ind 0.007947977\n",
      "past_owned_lexus_sedan_ind 0.0\n",
      "past_owned_lexus_LUV_ind 0.00216763\n",
      "purchased_vehicle_4wd_ind 0.0\n",
      "past_owned_toyota_4wd_ind 0.00072254334\n",
      "ever_service_hybrid_ind 0.00216763\n",
      "last_sales_dealer_region 0.00433526\n",
      "avg_cust_pay_48_60mo 0.015895953\n",
      "noros_high_ro_time_12_18mo 0.00072254334\n",
      "roc_auc_score 91.284460663256\n"
     ]
    },
    {
     "data": {
      "image/png": "[encoded data removed]",
      "text/plain": [
       "<Figure size 432x288 with 1 Axes>"
      ]
     },
     "metadata": {},
     "output_type": "display_data"
    }
   ],
   "source": [
    "model_evaluation.model_evaluation_test(X_train, y_train, xgb_rus_knn, alg_name='XGB Model', feat_imp=True, roc=True)"
   ]
  },
  {
   "cell_type": "code",
   "execution_count": 256,
   "metadata": {},
   "outputs": [
    {
     "name": "stdout",
     "output_type": "stream",
     "text": [
      "Provided model : \n",
      " XGBClassifier(base_score=0.5, booster='gbtree', colsample_bylevel=1,\n",
      "       colsample_bytree=1, gamma=0, learning_rate=0.1, max_delta_step=0,\n",
      "       max_depth=3, min_child_weight=1, missing=0, n_estimators=200,\n",
      "       n_jobs=-1, nthread=None, objective='binary:logistic',\n",
      "       random_state=42, reg_alpha=0, reg_lambda=1, scale_pos_weight=1,\n",
      "       seed=None, silent=True, subsample=1)\n",
      "accuracy  95.55519621057572\n",
      "f1_score  52.61121856779365\n",
      "precision_score  98.44548956434355\n",
      "recall_score  20.559843387862557\n",
      "confusion_matrix \n",
      " [[4836424  190090]\n",
      " [  35304    9137]]\n",
      "days_since_last_purchase_vehicle 0.11127168\n",
      "max_value_vehicles_per_hh 0.10765896\n",
      "customer_language_english_ind 0.050578035\n",
      "driver_ind 0.03251445\n",
      "days_since_first_purchase_vehicle 0.04479769\n",
      "current_owned_lexus_new_luv_ind 0.0072254334\n",
      "second_last_purchase_age 0.033959538\n",
      "last_reported_mileage_recent_vehicle 0.03612717\n",
      "avg_zip3_vehicle_val 0.033959538\n",
      "length_of_residence 0.023121387\n",
      "no_ro_visits_48_60mo 0.01300578\n",
      "association_type 0.01300578\n",
      "owned_lexus_new_luv_ind 0.012283237\n",
      "current_owned_lexus_LUV_ind 0.007947977\n",
      "avg_mileage_permonth_recent_vehicle 0.02601156\n",
      "no_leased_vehicle 0.01083815\n",
      "noros_high_ro_time_0_6mo 0.00867052\n",
      "owned_rx_ind 0.0072254334\n",
      "purchased_vehicle_used_ind 0.00650289\n",
      "purchased_vehicle_lexus_LUV_ind 0.00650289\n",
      "ever_warranty_payment_ind 0.0050578034\n",
      "avg_service_assoc_length 0.014450867\n",
      "last_serviced_dealer_no 0.024566473\n",
      "purchased_lexus_LUV_last_3years_ind 0.0072254334\n",
      "communication_received_ind 0.009393063\n",
      "communication_clicked_ind 0.0072254334\n",
      "ever_service_lexus_LUV_ind 0.0057803467\n",
      "first_purchase_vehicle_msrp 0.023121387\n",
      "avg_cust_pay_36_48mo 0.01083815\n",
      "avg_cust_pay_24_36mo 0.013728323\n",
      "avg_ro_time_18_24mo 0.00650289\n",
      "no_ro_visits_12_18mo 0.010115607\n",
      "pma_toy_scion_dealership_cd 0.014450867\n",
      "pma_lexus_dealership_cd 0.01300578\n",
      "owned_big_engine_vehicle_ind 0.0028901733\n",
      "dofu_year1_ind 0.0050578034\n",
      "pma_lexus_dealership_region 0.0050578034\n",
      "avg_ro_time_6_12mo 0.007947977\n",
      "last_serviced_dealer_region 0.0036127167\n",
      "gndr_cd 0.0057803467\n",
      "owned_silver_gray_vehicle_ind 0.00433526\n",
      "purchased_lexus_last_3years_ind 0.0028901733\n",
      "service_survey_ind 0.00072254334\n",
      "has_uss 0.0057803467\n",
      "ever_lead_ind 0.0050578034\n",
      "ever_handraiser_ind 0.00433526\n",
      "i1_occupation_grp_val 0.0050578034\n",
      "avg_custpay_recent_vehicle 0.01083815\n",
      "avg_ro_time_0_6mo 0.00867052\n",
      "est_current_mileage 0.01300578\n",
      "pma_toy_scion_dealership_region 0.007947977\n",
      "active_brand 0.0\n",
      "owned_lexus_ind 0.00216763\n",
      "owned_vehicle_my_2011_20_ind 0.0028901733\n",
      "purchased_lexus_sedan_last_2years_ind 0.0028901733\n",
      "current_owned_es_ind 0.00072254334\n",
      "purchased_vehicle_new_ind 0.0028901733\n",
      "brochure_requested_ind 0.00433526\n",
      "avg_no_vehicles_per_hh 0.01517341\n",
      "avg_ro_time_12_18mo 0.01517341\n",
      "home_ownership 0.0036127167\n",
      "owned_lexus_LUV_ind 0.00072254334\n",
      "owned_is250_ind 0.00433526\n",
      "owned_es_ind 0.0057803467\n",
      "owned_other_color_vehicle_ind 0.00072254334\n",
      "purchased_vehicle_last_2years_ind 0.00072254334\n",
      "purchased_lexus_LUV_last_2years_ind 0.0014450867\n",
      "past_owned_lexus_new_sedan_ind 0.0036127167\n",
      "sales_survey_ind 0.0036127167\n",
      "high_service_ind 0.0\n",
      "no_sales_dealer_assoc 0.00433526\n",
      "no_of_adlts_per_hh_cd 0.0050578034\n",
      "no_ro_visits_0_6mo 0.0057803467\n",
      "noros_high_ro_time_6_12mo 0.0036127167\n",
      "marital_status_confidence 0.00216763\n",
      "owned_ct200h_ind 0.0028901733\n",
      "owned_aqua_vehicle_ind 0.0072254334\n",
      "purchased_is_last_3years_ind 0.0014450867\n",
      "current_owned_lexus_new_sedan_ind 0.0050578034\n",
      "current_owned_gs_ind 0.007947977\n",
      "past_owned_lexus_sedan_ind 0.0\n",
      "past_owned_lexus_LUV_ind 0.00216763\n",
      "purchased_vehicle_4wd_ind 0.0\n",
      "past_owned_toyota_4wd_ind 0.00072254334\n",
      "ever_service_hybrid_ind 0.00216763\n",
      "last_sales_dealer_region 0.00433526\n",
      "avg_cust_pay_48_60mo 0.015895953\n",
      "noros_high_ro_time_12_18mo 0.00072254334\n",
      "roc_auc_score 78.00128939077727\n"
     ]
    },
    {
     "data": {
      "image/png": "[encoded data removed]",
      "text/plain": [
       "<Figure size 432x288 with 1 Axes>"
      ]
     },
     "metadata": {},
     "output_type": "display_data"
    }
   ],
   "source": [
    "model_evaluation.model_evaluation_test(X_old_test_xgb_selected, y_old_test, xgb_rus_knn, alg_name='XGB Model', feat_imp=True, roc=True)"
   ]
  },
  {
   "cell_type": "code",
   "execution_count": 257,
   "metadata": {},
   "outputs": [
    {
     "name": "stdout",
     "output_type": "stream",
     "text": [
      "cross_val_score [0.82487609 0.83486744 0.82878275 0.83271697 0.83145802]\n",
      "accuracy 83.21295378369447\n",
      "balanced_accuracy_score 83.21489615614267\n",
      "f1_score 83.0990507399664\n",
      "precision_score 84.13915001273544\n",
      "Log loss 5.798140385851505\n",
      "recall_score 91.44395127018605\n"
     ]
    },
    {
     "data": {
      "image/png": "[encoded data removed]",
      "text/plain": [
       "<Figure size 432x288 with 1 Axes>"
      ]
     },
     "metadata": {},
     "output_type": "display_data"
    },
    {
     "name": "stdout",
     "output_type": "stream",
     "text": [
      "roc_auc_score 90.622348844667\n",
      "confusion_matrix [[7944 2650]\n",
      " [ 906 9683]]\n",
      "classification_report              precision    recall  f1-score   support\n",
      "\n",
      "           0       0.90      0.75      0.82     10594\n",
      "           1       0.79      0.91      0.84     10589\n",
      "\n",
      "   micro avg       0.83      0.83      0.83     21183\n",
      "   macro avg       0.84      0.83      0.83     21183\n",
      "weighted avg       0.84      0.83      0.83     21183\n",
      "\n",
      "\n",
      " Time taken to execute the gb is 40.87076663970947\n",
      "\n",
      "Dated on2019-01-21 07:17:54.827672\n",
      "\n"
     ]
    }
   ],
   "source": [
    "gb_rus= mlModels.gb(X_train, y_train, X_test, y_test, n_estimators=150, min_samples_split=40)"
   ]
  },
  {
   "cell_type": "code",
   "execution_count": 258,
   "metadata": {},
   "outputs": [
    {
     "name": "stdout",
     "output_type": "stream",
     "text": [
      "Provided model : \n",
      " GradientBoostingClassifier(criterion='friedman_mse', init=None,\n",
      "              learning_rate=0.1, loss='deviance', max_depth=3,\n",
      "              max_features=None, max_leaf_nodes=None,\n",
      "              min_impurity_decrease=0.0, min_impurity_split=None,\n",
      "              min_samples_leaf=1, min_samples_split=40,\n",
      "              min_weight_fraction_leaf=0.0, n_estimators=150,\n",
      "              n_iter_no_change=None, presort='auto', random_state=None,\n",
      "              subsample=1.0, tol=0.0001, validation_fraction=0.1,\n",
      "              verbose=0, warm_start=False)\n",
      "accuracy  98.74514761026276\n",
      "f1_score  51.65714378245823\n",
      "precision_score  98.32934930712723\n",
      "recall_score  2.9409779257892485\n",
      "confusion_matrix \n",
      " [[5006015   20499]\n",
      " [  43134    1307]]\n",
      "days_since_last_purchase_vehicle 0.04536099000782149\n",
      "max_value_vehicles_per_hh 0.027427867479445568\n",
      "customer_language_english_ind 0.7927202692072751\n",
      "driver_ind 0.013064145463653438\n",
      "days_since_first_purchase_vehicle 0.008606178695170687\n",
      "current_owned_lexus_new_luv_ind 0.004351692099626152\n",
      "second_last_purchase_age 0.005695285112253728\n",
      "last_reported_mileage_recent_vehicle 0.002234146367576902\n",
      "avg_zip3_vehicle_val 0.0014057150286181264\n",
      "length_of_residence 0.0011451708152064748\n",
      "no_ro_visits_48_60mo 0.0026649965581056565\n",
      "association_type 0.003733841308811131\n",
      "owned_lexus_new_luv_ind 0.006400220264178305\n",
      "current_owned_lexus_LUV_ind 0.012517868655145184\n",
      "avg_mileage_permonth_recent_vehicle 0.0005147993357118932\n",
      "no_leased_vehicle 0.0018739507890090427\n",
      "noros_high_ro_time_0_6mo 0.003008052335480336\n",
      "owned_rx_ind 0.0012145223304310937\n",
      "purchased_vehicle_used_ind 0.0005109388025432073\n",
      "purchased_vehicle_lexus_LUV_ind 0.005681951867963643\n",
      "ever_warranty_payment_ind 0.0005625935886284974\n",
      "avg_service_assoc_length 0.0004917117732688559\n",
      "last_serviced_dealer_no 0.0012055959405691261\n",
      "purchased_lexus_LUV_last_3years_ind 0.0020105494742337915\n",
      "communication_received_ind 0.0008149316117810948\n",
      "communication_clicked_ind 0.00019382835631226176\n",
      "ever_service_lexus_LUV_ind 0.023511606510961142\n",
      "first_purchase_vehicle_msrp 0.0011162412453133333\n",
      "avg_cust_pay_36_48mo 0.0001938587810673858\n",
      "avg_cust_pay_24_36mo 0.0001831069776826703\n",
      "avg_ro_time_18_24mo 9.369744285403565e-05\n",
      "no_ro_visits_12_18mo 0.0031693589210516552\n",
      "pma_toy_scion_dealership_cd 0.0003664356020933223\n",
      "pma_lexus_dealership_cd 0.0004495645009840306\n",
      "owned_big_engine_vehicle_ind 0.0011142925163368136\n",
      "dofu_year1_ind 0.0006892888208674336\n",
      "pma_lexus_dealership_region 0.00033532126236891763\n",
      "avg_ro_time_6_12mo 0.00021503412201822158\n",
      "last_serviced_dealer_region 0.00013439372988425694\n",
      "gndr_cd 0.00019107748805003675\n",
      "owned_silver_gray_vehicle_ind 0.00023530726489382804\n",
      "purchased_lexus_last_3years_ind 0.0015895317602068802\n",
      "service_survey_ind 0.0\n",
      "has_uss 0.0015199528644017628\n",
      "ever_lead_ind 0.0003149205965968618\n",
      "ever_handraiser_ind 0.000246085002176069\n",
      "i1_occupation_grp_val 8.302124921791568e-05\n",
      "avg_custpay_recent_vehicle 0.00015938959660363516\n",
      "avg_ro_time_0_6mo 0.00027232912522047925\n",
      "est_current_mileage 0.0007227479175145803\n",
      "pma_toy_scion_dealership_region 0.0005471016212658238\n",
      "active_brand 0.0042998290844896\n",
      "owned_lexus_ind 0.0023590395658755173\n",
      "owned_vehicle_my_2011_20_ind 0.00032306562184726854\n",
      "purchased_lexus_sedan_last_2years_ind 0.0005245094195346828\n",
      "current_owned_es_ind 0.00031291290578265454\n",
      "purchased_vehicle_new_ind 0.0002285871063247156\n",
      "brochure_requested_ind 0.00021157023393776544\n",
      "avg_no_vehicles_per_hh 0.00028957020204927456\n",
      "avg_ro_time_12_18mo 0.00030771397866008454\n",
      "home_ownership 1.660385603987123e-05\n",
      "owned_lexus_LUV_ind 0.00028046056858921955\n",
      "owned_is250_ind 0.0003451260030365447\n",
      "owned_es_ind 0.0009465435885133607\n",
      "owned_other_color_vehicle_ind 5.245205581550528e-05\n",
      "purchased_vehicle_last_2years_ind 0.00029569982499395175\n",
      "purchased_lexus_LUV_last_2years_ind 0.0002943320229243585\n",
      "past_owned_lexus_new_sedan_ind 0.0010495905490442389\n",
      "sales_survey_ind 0.00010436105892352979\n",
      "high_service_ind 4.7928419806730576e-05\n",
      "no_sales_dealer_assoc 0.000443157594545\n",
      "no_of_adlts_per_hh_cd 2.406843292792376e-05\n",
      "no_ro_visits_0_6mo 0.00027166556203654906\n",
      "noros_high_ro_time_6_12mo 0.0011834424326481567\n",
      "marital_status_confidence 0.0\n",
      "owned_ct200h_ind 7.967544240989616e-05\n",
      "owned_aqua_vehicle_ind 0.0007640369542874528\n",
      "purchased_is_last_3years_ind 9.747136685715909e-05\n",
      "current_owned_lexus_new_sedan_ind 0.00015179874623827706\n",
      "current_owned_gs_ind 0.0004216149470554269\n",
      "past_owned_lexus_sedan_ind 0.0\n",
      "past_owned_lexus_LUV_ind 5.653567704352286e-05\n",
      "purchased_vehicle_4wd_ind 0.0001278041425474853\n",
      "past_owned_toyota_4wd_ind 5.848296247849581e-05\n",
      "ever_service_hybrid_ind 0.0001384408121896439\n",
      "last_sales_dealer_region 0.0005460259649101908\n",
      "avg_cust_pay_48_60mo 0.0002597671072359552\n",
      "noros_high_ro_time_12_18mo 0.00022063759994825073\n",
      "roc_auc_score 77.34812343238005\n"
     ]
    },
    {
     "data": {
      "image/png": "[encoded data removed]",
      "text/plain": [
       "<Figure size 432x288 with 1 Axes>"
      ]
     },
     "metadata": {},
     "output_type": "display_data"
    }
   ],
   "source": [
    "model_evaluation.model_evaluation_test(X_old_test_xgb_selected, y_old_test, gb_rus, alg_name='GB Model', feat_imp=True, roc=True)"
   ]
  },
  {
   "cell_type": "code",
   "execution_count": 273,
   "metadata": {},
   "outputs": [],
   "source": [
    "#X_rusknn, y_rusknn\n",
    "X_rusknn_selected_42= X_rusknn[[\"no_ro_visits_12_18mo\",\n",
    "\"no_ro_visits_0_6mo\",\n",
    "\"est_current_mileage\",\n",
    "\"no_ro_visits_48_60mo\",\n",
    "\"last_reported_mileage_recent_vehicle\",\n",
    "\"has_uss\",\n",
    "\"owned_aqua_vehicle_ind\",\n",
    "\"owned_silver_gray_vehicle_ind\",\n",
    "\"avg_custpay_recent_vehicle\",\n",
    "\"purchased_vehicle_last_2years_ind\",\n",
    "\"avg_ro_time_6_12mo\",\n",
    "\"owned_lexus_new_luv_ind\",\n",
    "\"current_owned_lexus_new_luv_ind\",\n",
    "\"owned_vehicle_my_2011_20_ind\",\n",
    "\"dofu_year1_ind\",\n",
    "\"current_owned_lexus_LUV_ind\",\n",
    "\"ever_service_lexus_LUV_ind\",\n",
    "\"owned_lexus_LUV_ind\",\n",
    "\"days_since_last_purchase_vehicle\",\n",
    "\"max_value_vehicles_per_hh\",\n",
    "\"customer_language_english_ind\",\n",
    "\"days_since_first_purchase_vehicle\",\n",
    "\"second_last_purchase_age\",\n",
    "\"avg_zip3_vehicle_val\",\n",
    "\"driver_ind\",\n",
    "\"avg_mileage_permonth_recent_vehicle\",\n",
    "\"last_serviced_dealer_no\",\n",
    "\"length_of_residence\",\n",
    "\"first_purchase_vehicle_msrp\",\n",
    "\"avg_cust_pay_48_60mo\",\n",
    "\"avg_no_vehicles_per_hh\",\n",
    "\"avg_ro_time_12_18mo\",\n",
    "\"avg_service_assoc_length\",\n",
    "\"pma_toy_scion_dealership_cd\",\n",
    "\"avg_cust_pay_24_36mo\",\n",
    "\"association_type\",\n",
    "\"pma_lexus_dealership_cd\",\n",
    "\"no_leased_vehicle\",\n",
    "\"avg_cust_pay_36_48mo\",\n",
    "\"communication_received_ind\",\n",
    "\"noros_high_ro_time_0_6mo\",\n",
    "\"avg_ro_time_0_6mo\"]]"
   ]
  },
  {
   "cell_type": "code",
   "execution_count": 274,
   "metadata": {},
   "outputs": [],
   "source": [
    "X_train, X_test,y_train, y_test= data_split.train_test_split(X_rusknn_selected_42, y_rusknn)"
   ]
  },
  {
   "cell_type": "code",
   "execution_count": 278,
   "metadata": {},
   "outputs": [
    {
     "name": "stdout",
     "output_type": "stream",
     "text": [
      "cross_val_score [0.82983243 0.82755094 0.83263829 0.8265009  0.82185853]\n",
      "accuracy 82.93914931784921\n",
      "balanced_accuracy_score 83.00349747059602\n",
      "f1_score 82.83965003676607\n",
      "precision_score 83.91469872831469\n",
      "Log loss 5.892710834437001\n",
      "recall_score 91.26463031687125\n"
     ]
    },
    {
     "data": {
      "image/png": "[encoded data removed]",
      "text/plain": [
       "<Figure size 432x288 with 1 Axes>"
      ]
     },
     "metadata": {},
     "output_type": "display_data"
    },
    {
     "name": "stdout",
     "output_type": "stream",
     "text": [
      "roc_auc_score 89.96346903810225\n",
      "confusion_matrix [[7978 2696]\n",
      " [ 918 9591]]\n",
      "classification_report              precision    recall  f1-score   support\n",
      "\n",
      "           0       0.90      0.75      0.82     10674\n",
      "           1       0.78      0.91      0.84     10509\n",
      "\n",
      "   micro avg       0.83      0.83      0.83     21183\n",
      "   macro avg       0.84      0.83      0.83     21183\n",
      "weighted avg       0.84      0.83      0.83     21183\n",
      "\n",
      "\n",
      " Time taken to execute the rf is 0.7366399765014648\n",
      "\n",
      "Dated on2019-01-22 00:22:34.408064\n",
      "\n"
     ]
    }
   ],
   "source": [
    "rf_42= mlModels.rf(X_train, y_train, X_test, y_test, n_estimators=80, min_samples_split=50)"
   ]
  },
  {
   "cell_type": "code",
   "execution_count": 282,
   "metadata": {},
   "outputs": [
    {
     "name": "stdout",
     "output_type": "stream",
     "text": [
      "Provided model : \n",
      " RandomForestClassifier(bootstrap=True, class_weight=None, criterion='gini',\n",
      "            max_depth=None, max_features='auto', max_leaf_nodes=None,\n",
      "            min_impurity_decrease=0.0, min_impurity_split=None,\n",
      "            min_samples_leaf=20, min_samples_split=50,\n",
      "            min_weight_fraction_leaf=0.0, n_estimators=80, n_jobs=-1,\n",
      "            oob_score=False, random_state=42, verbose=0, warm_start=False)\n",
      "accuracy  85.28851752191223\n",
      "f1_score  85.19019432056747\n",
      "precision_score  86.1838745182619\n",
      "recall_score  93.19458831653954\n",
      "confusion_matrix \n",
      " [[24511  7181]\n",
      " [ 2168 29689]]\n",
      "roc_auc_score 93.62781195189467\n"
     ]
    },
    {
     "data": {
      "image/png": "[encoded data removed]",
      "text/plain": [
       "<Figure size 432x288 with 1 Axes>"
      ]
     },
     "metadata": {},
     "output_type": "display_data"
    }
   ],
   "source": [
    "model_evaluation.model_evaluation_test(X_train, y_train, rf_42, alg_name='RF')"
   ]
  },
  {
   "cell_type": "code",
   "execution_count": 279,
   "metadata": {},
   "outputs": [],
   "source": [
    "#X_rusknn, y_rusknn\n",
    "X_app_rusknn_selected_42= X_old_test[[\"no_ro_visits_12_18mo\",\n",
    "\"no_ro_visits_0_6mo\",\n",
    "\"est_current_mileage\",\n",
    "\"no_ro_visits_48_60mo\",\n",
    "\"last_reported_mileage_recent_vehicle\",\n",
    "\"has_uss\",\n",
    "\"owned_aqua_vehicle_ind\",\n",
    "\"owned_silver_gray_vehicle_ind\",\n",
    "\"avg_custpay_recent_vehicle\",\n",
    "\"purchased_vehicle_last_2years_ind\",\n",
    "\"avg_ro_time_6_12mo\",\n",
    "\"owned_lexus_new_luv_ind\",\n",
    "\"current_owned_lexus_new_luv_ind\",\n",
    "\"owned_vehicle_my_2011_20_ind\",\n",
    "\"dofu_year1_ind\",\n",
    "\"current_owned_lexus_LUV_ind\",\n",
    "\"ever_service_lexus_LUV_ind\",\n",
    "\"owned_lexus_LUV_ind\",\n",
    "\"days_since_last_purchase_vehicle\",\n",
    "\"max_value_vehicles_per_hh\",\n",
    "\"customer_language_english_ind\",\n",
    "\"days_since_first_purchase_vehicle\",\n",
    "\"second_last_purchase_age\",\n",
    "\"avg_zip3_vehicle_val\",\n",
    "\"driver_ind\",\n",
    "\"avg_mileage_permonth_recent_vehicle\",\n",
    "\"last_serviced_dealer_no\",\n",
    "\"length_of_residence\",\n",
    "\"first_purchase_vehicle_msrp\",\n",
    "\"avg_cust_pay_48_60mo\",\n",
    "\"avg_no_vehicles_per_hh\",\n",
    "\"avg_ro_time_12_18mo\",\n",
    "\"avg_service_assoc_length\",\n",
    "\"pma_toy_scion_dealership_cd\",\n",
    "\"avg_cust_pay_24_36mo\",\n",
    "\"association_type\",\n",
    "\"pma_lexus_dealership_cd\",\n",
    "\"no_leased_vehicle\",\n",
    "\"avg_cust_pay_36_48mo\",\n",
    "\"communication_received_ind\",\n",
    "\"noros_high_ro_time_0_6mo\",\n",
    "\"avg_ro_time_0_6mo\"]]"
   ]
  },
  {
   "cell_type": "code",
   "execution_count": 280,
   "metadata": {},
   "outputs": [
    {
     "name": "stdout",
     "output_type": "stream",
     "text": [
      "Provided model : \n",
      " RandomForestClassifier(bootstrap=True, class_weight=None, criterion='gini',\n",
      "            max_depth=None, max_features='auto', max_leaf_nodes=None,\n",
      "            min_impurity_decrease=0.0, min_impurity_split=None,\n",
      "            min_samples_leaf=20, min_samples_split=50,\n",
      "            min_weight_fraction_leaf=0.0, n_estimators=80, n_jobs=-1,\n",
      "            oob_score=False, random_state=42, verbose=0, warm_start=False)\n",
      "accuracy  91.29708309381567\n",
      "f1_score  50.56461034037126\n",
      "precision_score  98.48731809032564\n",
      "recall_score  29.963322157467204\n",
      "confusion_matrix \n",
      " [[4616318  410196]\n",
      " [  31125   13316]]\n",
      "no_ro_visits_12_18mo 0.008870883676247335\n",
      "no_ro_visits_0_6mo 0.014039711829134513\n",
      "est_current_mileage 0.025492919973439183\n",
      "no_ro_visits_48_60mo 0.004010144371839828\n",
      "last_reported_mileage_recent_vehicle 0.0164021341597252\n",
      "has_uss 0.003835804811534959\n",
      "owned_aqua_vehicle_ind 0.0012053023303529033\n",
      "owned_silver_gray_vehicle_ind 0.0006855251105053071\n",
      "avg_custpay_recent_vehicle 0.006358028160712797\n",
      "purchased_vehicle_last_2years_ind 0.002497087492601398\n",
      "avg_ro_time_6_12mo 0.005750149213403145\n",
      "owned_lexus_new_luv_ind 0.05816883866412298\n",
      "current_owned_lexus_new_luv_ind 0.04969239740546787\n",
      "owned_vehicle_my_2011_20_ind 0.036507174131520895\n",
      "dofu_year1_ind 0.05018833364994831\n",
      "current_owned_lexus_LUV_ind 0.014632067590107064\n",
      "ever_service_lexus_LUV_ind 0.020540582203270565\n",
      "owned_lexus_LUV_ind 0.017291541950029046\n",
      "days_since_last_purchase_vehicle 0.05825063871373548\n",
      "max_value_vehicles_per_hh 0.024940143807387346\n",
      "customer_language_english_ind 0.40359664546115803\n",
      "days_since_first_purchase_vehicle 0.021738871179845333\n",
      "second_last_purchase_age 0.01663720078415542\n",
      "avg_zip3_vehicle_val 0.008287186160342241\n",
      "driver_ind 0.018967454481926938\n",
      "avg_mileage_permonth_recent_vehicle 0.015519140392274389\n",
      "last_serviced_dealer_no 0.007108868990924014\n",
      "length_of_residence 0.007632019392404742\n",
      "first_purchase_vehicle_msrp 0.009364798208315582\n",
      "avg_cust_pay_48_60mo 0.004968594580307581\n",
      "avg_no_vehicles_per_hh 0.006948373924018031\n",
      "avg_ro_time_12_18mo 0.006576849850574208\n",
      "avg_service_assoc_length 0.008587117414526203\n",
      "pma_toy_scion_dealership_cd 0.008509293242806752\n",
      "avg_cust_pay_24_36mo 0.004840007239515178\n",
      "association_type 0.005265051448961154\n",
      "pma_lexus_dealership_cd 0.007531057954622511\n",
      "no_leased_vehicle 0.001800179104137339\n",
      "avg_cust_pay_36_48mo 0.004600199864598064\n",
      "communication_received_ind 0.001880203984663818\n",
      "noros_high_ro_time_0_6mo 0.004953933903189951\n",
      "avg_ro_time_0_6mo 0.005327543191646389\n",
      "roc_auc_score 76.75347268838082\n"
     ]
    },
    {
     "data": {
      "image/png": "[encoded data removed]",
      "text/plain": [
       "<Figure size 432x288 with 1 Axes>"
      ]
     },
     "metadata": {},
     "output_type": "display_data"
    }
   ],
   "source": [
    "model_evaluation.model_evaluation_test(X_app_rusknn_selected_42, y_old_test, rf_42, alg_name='RF Model', feat_imp=True, roc=True)"
   ]
  },
  {
   "cell_type": "code",
   "execution_count": 311,
   "metadata": {},
   "outputs": [
    {
     "name": "stdout",
     "output_type": "stream",
     "text": [
      "cross_val_score [0.83400205 0.83116985 0.8335825  0.82894012 0.82642222]\n",
      "accuracy 83.17046688382193\n",
      "balanced_accuracy_score 83.22979109798068\n",
      "f1_score 83.08835925186546\n",
      "precision_score 84.00510698761762\n",
      "Log loss 5.812813067080556\n",
      "recall_score 90.84594157388905\n"
     ]
    },
    {
     "data": {
      "image/png": "[encoded data removed]",
      "text/plain": [
       "<Figure size 432x288 with 1 Axes>"
      ]
     },
     "metadata": {},
     "output_type": "display_data"
    },
    {
     "name": "stdout",
     "output_type": "stream",
     "text": [
      "roc_auc_score 90.52017397830599\n",
      "confusion_matrix [[8071 2603]\n",
      " [ 962 9547]]\n",
      "classification_report              precision    recall  f1-score   support\n",
      "\n",
      "           0       0.89      0.76      0.82     10674\n",
      "           1       0.79      0.91      0.84     10509\n",
      "\n",
      "   micro avg       0.83      0.83      0.83     21183\n",
      "   macro avg       0.84      0.83      0.83     21183\n",
      "weighted avg       0.84      0.83      0.83     21183\n",
      "\n",
      "\n",
      " Time taken to execute the XGB is 2.24737548828125\n",
      "\n",
      "Dated on2019-01-22 00:47:48.599720\n",
      "\n"
     ]
    }
   ],
   "source": [
    "xgb_42= mlModels.xgb(X_train, y_train, X_test, y_test, learning_rate=.1, n_estimators=250)"
   ]
  },
  {
   "cell_type": "code",
   "execution_count": 317,
   "metadata": {},
   "outputs": [
    {
     "name": "stdout",
     "output_type": "stream",
     "text": [
      "Provided model : \n",
      " XGBClassifier(base_score=0.5, booster='gbtree', colsample_bylevel=1,\n",
      "       colsample_bytree=1, gamma=0, learning_rate=0.1, max_delta_step=0,\n",
      "       max_depth=3, min_child_weight=1, missing=0, n_estimators=250,\n",
      "       n_jobs=-1, nthread=None, objective='binary:logistic',\n",
      "       random_state=42, reg_alpha=0, reg_lambda=1, scale_pos_weight=1,\n",
      "       seed=None, silent=True, subsample=1)\n",
      "accuracy  83.76843065980582\n",
      "f1_score  83.6666717833842\n",
      "precision_score  84.56835551315858\n",
      "recall_score  91.42417679003046\n",
      "confusion_matrix \n",
      " [[24109  7583]\n",
      " [ 2732 29125]]\n",
      "no_ro_visits_12_18mo 0.012813046\n",
      "no_ro_visits_0_6mo 0.010483401\n",
      "est_current_mileage 0.020966802\n",
      "no_ro_visits_48_60mo 0.017472336\n",
      "last_reported_mileage_recent_vehicle 0.043098427\n",
      "has_uss 0.00990099\n",
      "owned_aqua_vehicle_ind 0.008736168\n",
      "owned_silver_gray_vehicle_ind 0.0046592895\n",
      "avg_custpay_recent_vehicle 0.014560279\n",
      "purchased_vehicle_last_2years_ind 0.0\n",
      "avg_ro_time_6_12mo 0.0133954575\n",
      "owned_lexus_new_luv_ind 0.011065813\n",
      "current_owned_lexus_new_luv_ind 0.0069889342\n",
      "owned_vehicle_my_2011_20_ind 0.0034944671\n",
      "dofu_year1_ind 0.007571345\n",
      "current_owned_lexus_LUV_ind 0.006406523\n",
      "ever_service_lexus_LUV_ind 0.00990099\n",
      "owned_lexus_LUV_ind 0.00990099\n",
      "days_since_last_purchase_vehicle 0.10832848\n",
      "max_value_vehicles_per_hh 0.11997671\n",
      "customer_language_english_ind 0.046010483\n",
      "days_since_first_purchase_vehicle 0.05882353\n",
      "second_last_purchase_age 0.036691904\n",
      "avg_zip3_vehicle_val 0.03960396\n",
      "driver_ind 0.029120559\n",
      "avg_mileage_permonth_recent_vehicle 0.027373325\n",
      "last_serviced_dealer_no 0.027955737\n",
      "length_of_residence 0.018054746\n",
      "first_purchase_vehicle_msrp 0.03028538\n",
      "avg_cust_pay_48_60mo 0.018637158\n",
      "avg_no_vehicles_per_hh 0.0133954575\n",
      "avg_ro_time_12_18mo 0.016889924\n",
      "avg_service_assoc_length 0.026790915\n",
      "pma_toy_scion_dealership_cd 0.04892254\n",
      "avg_cust_pay_24_36mo 0.022714036\n",
      "association_type 0.014560279\n",
      "pma_lexus_dealership_cd 0.026790915\n",
      "no_leased_vehicle 0.00990099\n",
      "avg_cust_pay_36_48mo 0.022131626\n",
      "communication_received_ind 0.009318579\n",
      "noros_high_ro_time_0_6mo 0.009318579\n",
      "avg_ro_time_0_6mo 0.0069889342\n",
      "roc_auc_score 91.36210992942553\n"
     ]
    },
    {
     "data": {
      "image/png": "[encoded data removed]",
      "text/plain": [
       "<Figure size 432x288 with 1 Axes>"
      ]
     },
     "metadata": {},
     "output_type": "display_data"
    }
   ],
   "source": [
    "model_evaluation.model_evaluation_test(X_train, y_train, xgb_42, feat_imp=True)"
   ]
  },
  {
   "cell_type": "code",
   "execution_count": 313,
   "metadata": {},
   "outputs": [
    {
     "name": "stdout",
     "output_type": "stream",
     "text": [
      "Provided model : \n",
      " XGBClassifier(base_score=0.5, booster='gbtree', colsample_bylevel=1,\n",
      "       colsample_bytree=1, gamma=0, learning_rate=0.1, max_delta_step=0,\n",
      "       max_depth=3, min_child_weight=1, missing=0, n_estimators=250,\n",
      "       n_jobs=-1, nthread=None, objective='binary:logistic',\n",
      "       random_state=42, reg_alpha=0, reg_lambda=1, scale_pos_weight=1,\n",
      "       seed=None, silent=True, subsample=1)\n",
      "accuracy  90.9092863178632\n",
      "f1_score  50.760429149867015\n",
      "precision_score  98.53330424457563\n",
      "recall_score  34.85970162687608\n",
      "confusion_matrix \n",
      " [[4594477  432037]\n",
      " [  28949   15492]]\n",
      "roc_auc_score 76.80297854455084\n"
     ]
    },
    {
     "data": {
      "image/png": "[encoded data removed]",
      "text/plain": [
       "<Figure size 432x288 with 1 Axes>"
      ]
     },
     "metadata": {},
     "output_type": "display_data"
    }
   ],
   "source": [
    "model_evaluation.model_evaluation_test(X_app_rusknn_selected_42, y_old_test, xgb_42)"
   ]
  },
  {
   "cell_type": "code",
   "execution_count": 340,
   "metadata": {},
   "outputs": [
    {
     "name": "stdout",
     "output_type": "stream",
     "text": [
      "cross_val_score [0.83234993 0.82770828 0.83193013 0.82610748 0.82177984]\n",
      "accuracy 82.84001321814662\n",
      "balanced_accuracy_score 82.90373020560925\n",
      "f1_score 82.74204614234286\n",
      "precision_score 83.79403210826452\n",
      "Log loss 5.926951305734174\n",
      "recall_score 91.08383290512893\n"
     ]
    },
    {
     "data": {
      "image/png": "[encoded data removed]",
      "text/plain": [
       "<Figure size 432x288 with 1 Axes>"
      ]
     },
     "metadata": {},
     "output_type": "display_data"
    },
    {
     "name": "stdout",
     "output_type": "stream",
     "text": [
      "roc_auc_score 89.89032937728562\n",
      "confusion_matrix [[7976 2698]\n",
      " [ 937 9572]]\n",
      "classification_report              precision    recall  f1-score   support\n",
      "\n",
      "           0       0.89      0.75      0.81     10674\n",
      "           1       0.78      0.91      0.84     10509\n",
      "\n",
      "   micro avg       0.83      0.83      0.83     21183\n",
      "   macro avg       0.84      0.83      0.83     21183\n",
      "weighted avg       0.84      0.83      0.83     21183\n",
      "\n",
      "\n",
      " Time taken to execute the rf is 0.9158215522766113\n",
      "\n",
      "Dated on2019-01-23 00:09:12.263526\n",
      "\n"
     ]
    }
   ],
   "source": [
    "rf_42= mlModels.rf(X_train, y_train, X_test, y_test, n_estimators=80, min_samples_split=50, criterion='entropy')"
   ]
  },
  {
   "cell_type": "code",
   "execution_count": 341,
   "metadata": {},
   "outputs": [
    {
     "name": "stdout",
     "output_type": "stream",
     "text": [
      "Provided model : \n",
      " RandomForestClassifier(bootstrap=True, class_weight=None, criterion='entropy',\n",
      "            max_depth=None, max_features='auto', max_leaf_nodes=None,\n",
      "            min_impurity_decrease=0.0, min_impurity_split=None,\n",
      "            min_samples_leaf=20, min_samples_split=50,\n",
      "            min_weight_fraction_leaf=0.0, n_estimators=80, n_jobs=-1,\n",
      "            oob_score=False, random_state=42, verbose=0, warm_start=False)\n",
      "accuracy  85.28064957749139\n",
      "f1_score  85.18215900247537\n",
      "precision_score  86.17690554621343\n",
      "recall_score  93.19144928901027\n",
      "confusion_matrix \n",
      " [[24507  7185]\n",
      " [ 2169 29688]]\n",
      "roc_auc_score 93.77260152811728\n"
     ]
    },
    {
     "data": {
      "image/png": "[encoded data removed]",
      "text/plain": [
       "<Figure size 432x288 with 1 Axes>"
      ]
     },
     "metadata": {},
     "output_type": "display_data"
    }
   ],
   "source": [
    "model_evaluation.model_evaluation_test(X_train, y_train, rf_42)"
   ]
  },
  {
   "cell_type": "code",
   "execution_count": 343,
   "metadata": {},
   "outputs": [
    {
     "name": "stdout",
     "output_type": "stream",
     "text": [
      "Provided model : \n",
      " RandomForestClassifier(bootstrap=True, class_weight=None, criterion='entropy',\n",
      "            max_depth=None, max_features='auto', max_leaf_nodes=None,\n",
      "            min_impurity_decrease=0.0, min_impurity_split=None,\n",
      "            min_samples_leaf=20, min_samples_split=50,\n",
      "            min_weight_fraction_leaf=0.0, n_estimators=80, n_jobs=-1,\n",
      "            oob_score=False, random_state=42, verbose=0, warm_start=False)\n",
      "accuracy  91.25823439569075\n",
      "f1_score  50.71522274964886\n",
      "precision_score  98.50685788085269\n",
      "recall_score  31.91647352669832\n",
      "confusion_matrix \n",
      " [[4613480  413034]\n",
      " [  30257   14184]]\n",
      "no_ro_visits_12_18mo 0.010084427194574482\n",
      "no_ro_visits_0_6mo 0.01121126334375306\n",
      "est_current_mileage 0.025096598037183337\n",
      "no_ro_visits_48_60mo 0.005912988896203749\n",
      "last_reported_mileage_recent_vehicle 0.01807050251023109\n",
      "has_uss 0.004661818695698214\n",
      "owned_aqua_vehicle_ind 0.0016040869905221667\n",
      "owned_silver_gray_vehicle_ind 0.0010251357777245954\n",
      "avg_custpay_recent_vehicle 0.008714415309796398\n",
      "purchased_vehicle_last_2years_ind 0.0023481526568191434\n",
      "avg_ro_time_6_12mo 0.006787849395095531\n",
      "owned_lexus_new_luv_ind 0.04726541139214767\n",
      "current_owned_lexus_new_luv_ind 0.044927748091602014\n",
      "owned_vehicle_my_2011_20_ind 0.032886314048354806\n",
      "dofu_year1_ind 0.03993123171207008\n",
      "current_owned_lexus_LUV_ind 0.013636997491427248\n",
      "ever_service_lexus_LUV_ind 0.019124158994694163\n",
      "owned_lexus_LUV_ind 0.014814479150483919\n",
      "days_since_last_purchase_vehicle 0.05447658221032341\n",
      "max_value_vehicles_per_hh 0.03189533586332185\n",
      "customer_language_english_ind 0.3946728221119145\n",
      "days_since_first_purchase_vehicle 0.02576625122420654\n",
      "second_last_purchase_age 0.017856901873138258\n",
      "avg_zip3_vehicle_val 0.011501415503042884\n",
      "driver_ind 0.01908212614541362\n",
      "avg_mileage_permonth_recent_vehicle 0.01699301568007442\n",
      "last_serviced_dealer_no 0.009305076118363915\n",
      "length_of_residence 0.010232234351229622\n",
      "first_purchase_vehicle_msrp 0.01143797609914739\n",
      "avg_cust_pay_48_60mo 0.006097914530219833\n",
      "avg_no_vehicles_per_hh 0.009771554375697713\n",
      "avg_ro_time_12_18mo 0.007218978908042592\n",
      "avg_service_assoc_length 0.011027537909824466\n",
      "pma_toy_scion_dealership_cd 0.011601209858581638\n",
      "avg_cust_pay_24_36mo 0.0063189492581988155\n",
      "association_type 0.00405325522804292\n",
      "pma_lexus_dealership_cd 0.010258329183937185\n",
      "no_leased_vehicle 0.001745248822822881\n",
      "avg_cust_pay_36_48mo 0.005928166154051711\n",
      "communication_received_ind 0.002450584040207967\n",
      "noros_high_ro_time_0_6mo 0.0055354250197826105\n",
      "avg_ro_time_0_6mo 0.006669529842031742\n",
      "roc_auc_score 77.07145133715112\n"
     ]
    },
    {
     "data": {
      "image/png": "[encoded data removed]",
      "text/plain": [
       "<Figure size 432x288 with 1 Axes>"
      ]
     },
     "metadata": {},
     "output_type": "display_data"
    }
   ],
   "source": [
    "model_evaluation.model_evaluation_test(X_app_rusknn_selected_42, y_old_test, rf_42, feat_imp=True)"
   ]
  },
  {
   "cell_type": "code",
   "execution_count": null,
   "metadata": {},
   "outputs": [],
   "source": [
    "rf_42= mlModels.rf(X_train, y_train, X_test, y_test, n_estimators=150, min_samples_split=40, oob_score=True, criterion='entropy')"
   ]
  },
  {
   "cell_type": "code",
   "execution_count": null,
   "metadata": {},
   "outputs": [],
   "source": [
    "model_evaluation.model_evaluation_test(X_train, y_train, rf_42)"
   ]
  },
  {
   "cell_type": "code",
   "execution_count": null,
   "metadata": {},
   "outputs": [],
   "source": [
    "model_evaluation.model_evaluation_test(X_app_rusknn_selected_42, y_old_test, rf_42)"
   ]
  },
  {
   "cell_type": "code",
   "execution_count": 333,
   "metadata": {},
   "outputs": [],
   "source": [
    "from xgboost.sklearn import XGBClassifier"
   ]
  },
  {
   "cell_type": "code",
   "execution_count": null,
   "metadata": {},
   "outputs": [],
   "source": [
    "XGBClassifier()"
   ]
  },
  {
   "cell_type": "markdown",
   "metadata": {},
   "source": [
    "### 70:30"
   ]
  },
  {
   "cell_type": "raw",
   "metadata": {},
   "source": [
    "# Separate majority and minority classes  ### 1min\n",
    "train_majority = X_old.iloc[y_old[y_old==0].index]\n",
    "\n",
    "\n",
    "train_minority = X_old.iloc[y_old[y_old==1].index]\n",
    "\n",
    "\n",
    "#train_sampled=pd.DataFrame(None)\n",
    "# Upsample minority class\n",
    "train_majority_sampled = resample(train_majority, \n",
    "                                 replace=False,     # sample without replacement\n",
    "                                 n_samples=np.round(train_minority.shape[0]*),    # to match majority class\n",
    "                                 random_state=123) # reproducible results\n",
    "'''train_minority_sampled = resample(train_minority, \n",
    "                                 replace=False,     # sample without replacement\n",
    "                                 n_samples=np.round(train_minority.shape[0]*1),    # to match majority class\n",
    "                                 random_state=123)'''\n",
    "\n",
    "\n",
    "# Combine majority class with upsampled minority class\n",
    "train_sampled = pd.concat([train_majority_sampled, train_minority])\n"
   ]
  },
  {
   "cell_type": "raw",
   "metadata": {},
   "source": [
    " \n",
    "# Display new class counts\n",
    "train_sampled.iloc[y_old[y_old==0].index].shape"
   ]
  },
  {
   "cell_type": "raw",
   "metadata": {},
   "source": [
    "train_sampled.iloc[y_old[y_old==1].index].shape"
   ]
  },
  {
   "cell_type": "raw",
   "metadata": {},
   "source": [
    "train_sampled.shape"
   ]
  },
  {
   "cell_type": "raw",
   "metadata": {},
   "source": [
    "y_old.shape"
   ]
  },
  {
   "cell_type": "raw",
   "metadata": {},
   "source": [
    "X_old_xgb_selected= train_sampled[[\"days_since_last_purchase_vehicle\",\n",
    "\"max_value_vehicles_per_hh\",\n",
    "\"customer_language_english_ind\",\n",
    "\"driver_ind\",\n",
    "\"days_since_first_purchase_vehicle\",\n",
    "\"current_owned_lexus_new_luv_ind\",\n",
    "\"second_last_purchase_age\",\n",
    "\"last_reported_mileage_recent_vehicle\",\n",
    "\"avg_zip3_vehicle_val\",\n",
    "\"length_of_residence\",\n",
    "\"no_ro_visits_48_60mo\",\n",
    "\"association_type\",\n",
    "\"owned_lexus_new_luv_ind\",\n",
    "\"current_owned_lexus_LUV_ind\",\n",
    "\"avg_mileage_permonth_recent_vehicle\",\n",
    "\"no_leased_vehicle\",\n",
    "\"noros_high_ro_time_0_6mo\",\n",
    "\"owned_rx_ind\",\n",
    "\"purchased_vehicle_used_ind\",\n",
    "\"purchased_vehicle_lexus_LUV_ind\",\n",
    "\"ever_warranty_payment_ind\",\n",
    "\"avg_service_assoc_length\",\n",
    "\"last_serviced_dealer_no\",\n",
    "\"purchased_lexus_LUV_last_3years_ind\",\n",
    "\"communication_received_ind\",\n",
    "\"communication_clicked_ind\",\n",
    "\"ever_service_lexus_LUV_ind\",\n",
    "\"first_purchase_vehicle_msrp\",\n",
    "\"avg_cust_pay_36_48mo\",\n",
    "\"avg_cust_pay_24_36mo\",\n",
    "\"avg_ro_time_18_24mo\",\n",
    "\"no_ro_visits_12_18mo\",\n",
    "\"pma_toy_scion_dealership_cd\",\n",
    "\"pma_lexus_dealership_cd\",\n",
    "\"owned_big_engine_vehicle_ind\",\n",
    "\"dofu_year1_ind\",\n",
    "\"pma_lexus_dealership_region\",\n",
    "\"avg_ro_time_6_12mo\",\n",
    "\"last_serviced_dealer_region\",\n",
    "\"gndr_cd\",\n",
    "\"owned_silver_gray_vehicle_ind\",\n",
    "\"purchased_lexus_last_3years_ind\",\n",
    "\"service_survey_ind\",\n",
    "\"has_uss\",\n",
    "\"ever_lead_ind\",\n",
    "\"ever_handraiser_ind\",\n",
    "\"i1_occupation_grp_val\",\n",
    "\"avg_custpay_recent_vehicle\",\n",
    "\"avg_ro_time_0_6mo\",\n",
    "\"est_current_mileage\",\n",
    "\"pma_toy_scion_dealership_region\",\n",
    "\"active_brand\",\n",
    "\"owned_lexus_ind\",\n",
    "\"owned_vehicle_my_2011_20_ind\",\n",
    "\"purchased_lexus_sedan_last_2years_ind\",\n",
    "\"current_owned_es_ind\",\n",
    "\"purchased_vehicle_new_ind\",\n",
    "\"brochure_requested_ind\",\n",
    "\"avg_no_vehicles_per_hh\",\n",
    "\"avg_ro_time_12_18mo\",\n",
    "\"home_ownership\",\n",
    "\"owned_lexus_LUV_ind\",\n",
    "\"owned_is250_ind\",\n",
    "\"owned_es_ind\",\n",
    "\"owned_other_color_vehicle_ind\",\n",
    "\"purchased_vehicle_last_2years_ind\",\n",
    "\"purchased_lexus_LUV_last_2years_ind\",\n",
    "\"past_owned_lexus_new_sedan_ind\",\n",
    "\"sales_survey_ind\",\n",
    "\"high_service_ind\",\n",
    "\"no_sales_dealer_assoc\",\n",
    "\"no_of_adlts_per_hh_cd\",\n",
    "\"no_ro_visits_0_6mo\",\n",
    "\"noros_high_ro_time_6_12mo\",\n",
    "\"marital_status_confidence\",\n",
    "\"owned_ct200h_ind\",\n",
    "\"owned_aqua_vehicle_ind\",\n",
    "\"purchased_is_last_3years_ind\",\n",
    "\"current_owned_lexus_new_sedan_ind\",\n",
    "\"current_owned_gs_ind\",\n",
    "\"past_owned_lexus_sedan_ind\",\n",
    "\"past_owned_lexus_LUV_ind\",\n",
    "\"purchased_vehicle_4wd_ind\",\n",
    "\"past_owned_toyota_4wd_ind\",\n",
    "\"ever_service_hybrid_ind\",\n",
    "\"last_sales_dealer_region\",\n",
    "\"avg_cust_pay_48_60mo\",\n",
    "\"noros_high_ro_time_12_18mo\"]]"
   ]
  },
  {
   "cell_type": "raw",
   "metadata": {},
   "source": [
    "X_train, X_test,y_train, y_test= data_split.train_test_split(X_old_xgb_selected, y_old.iloc[train_sampled.index])"
   ]
  },
  {
   "cell_type": "raw",
   "metadata": {},
   "source": [
    "rf= mlModels.rf(X_train, y_train, X_test, y_test)"
   ]
  }
 ],
 "metadata": {
  "kernelspec": {
   "display_name": "Python 3",
   "language": "python",
   "name": "python3"
  },
  "language_info": {
   "codemirror_mode": {
    "name": "ipython",
    "version": 3
   },
   "file_extension": ".py",
   "mimetype": "text/x-python",
   "name": "python",
   "nbconvert_exporter": "python",
   "pygments_lexer": "ipython3",
   "version": "3.6.6"
  }
 },
 "nbformat": 4,
 "nbformat_minor": 2
}
